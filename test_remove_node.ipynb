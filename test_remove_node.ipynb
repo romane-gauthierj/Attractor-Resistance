{
 "cells": [
  {
   "cell_type": "code",
   "execution_count": 3,
   "id": "ab868ead",
   "metadata": {},
   "outputs": [],
   "source": [
    "import os\n",
    "import re\n"
   ]
  },
  {
   "cell_type": "code",
   "execution_count": 3,
   "id": "501d58ce",
   "metadata": {},
   "outputs": [],
   "source": [
    "def remove_cfg_node(file_path, node_to_remove):\n",
    "   \n",
    "    with open(file_path, \"r\") as f:\n",
    "        lines = f.readlines()\n",
    "\n",
    "    new_lines = []\n",
    " \n",
    "    patterns_to_remove = [\n",
    "        rf\"\\$u_{node_to_remove}\\b\",\n",
    "        rf\"\\$d_{node_to_remove}\\b\",\n",
    "        rf\"\\b{node_to_remove}\\.is_internal\\b\",\n",
    "        rf\"^\\s*//\\s*\\[{node_to_remove}\\]\\.istate=\\s*(?:\\d+\\s*\\[\\d+\\](?:\\s*,\\s*\\d+\\s*\\[\\d+\\])*)?\\s*;?\\s*$\",\n",
    "    ]\n",
    "\n",
    "    for line in lines:\n",
    "        # Check if the line contains any of the patterns related to the node to remove.\n",
    "        # If it does, we skip adding this line to new_lines, effectively removing it.\n",
    "        if not any(re.search(pat, line) for pat in patterns_to_remove):\n",
    "            cleaned_line = line\n",
    "    \n",
    "            cleaned_line = re.sub(rf\"\\s*\\$u_{node_to_remove}\\b\", \"\", cleaned_line)\n",
    "            cleaned_line = re.sub(rf\"\\s*\\$d_{node_to_remove}\\b\", \"\", cleaned_line)\n",
    "        \n",
    "            new_lines.append(cleaned_line)\n",
    "\n",
    "    with open(file_path, \"w\") as f:\n",
    "        f.writelines(new_lines)"
   ]
  },
  {
   "cell_type": "code",
   "execution_count": null,
   "id": "31226330",
   "metadata": {},
   "outputs": [],
   "source": []
  },
  {
   "cell_type": "code",
   "execution_count": 7,
   "id": "9ab4d55b",
   "metadata": {},
   "outputs": [
    {
     "name": "stdout",
     "output_type": "stream",
     "text": [
      "Successfully processed file: analysis/AZD7762/genes_models/CHK1_CHK2_target_block/models/resistant/pers_models/SIDM00097_AZD7762.bnd. Node 'AR_ERG' and its references have been removed.\n"
     ]
    }
   ],
   "source": [
    "file_path = 'analysis/AZD7762/genes_models/CHK1_CHK2_target_block/models/resistant/pers_models/SIDM00097_AZD7762.bnd'\n",
    "\n",
    "node_to_remove = 'AR_ERG'\n",
    "\n",
    "remove_bnd_node(file_path, node_to_remove)"
   ]
  }
 ],
 "metadata": {
  "kernelspec": {
   "display_name": ".env",
   "language": "python",
   "name": "python3"
  },
  "language_info": {
   "codemirror_mode": {
    "name": "ipython",
    "version": 3
   },
   "file_extension": ".py",
   "mimetype": "text/x-python",
   "name": "python",
   "nbconvert_exporter": "python",
   "pygments_lexer": "ipython3",
   "version": "3.13.3"
  }
 },
 "nbformat": 4,
 "nbformat_minor": 5
}
