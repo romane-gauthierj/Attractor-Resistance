{
 "cells": [
  {
   "cell_type": "code",
   "execution_count": null,
   "id": "cea562fe",
   "metadata": {},
   "outputs": [],
   "source": [
    "import maboss\n",
    "import ginsim\n",
    "import pandas as pd \n",
    "import numpy as np\n",
    "import os\n",
    "import shutil\n",
    "from collections import defaultdict\n",
    "from statsmodels.stats.power import TTestIndPower\n",
    "import ast\n",
    "\n",
    "\n",
    "from identification_patients.get_patients_sens_res import get_patients\n",
    "\n",
    "from identification_drug.identification_drug import identify_drug\n",
    "\n",
    "\n",
    "from create_generic_models.create_generic_patients_cfgs import create_generic_patients_cfgs_bnds\n",
    "\n",
    "from create_generic_models.update_phenotypes_generic_models import generic_models_update_phenotypes\n",
    "from pre_process_data.pre_process_genes import create_table_rna_seq_patients, process_genes\n",
    "\n",
    "from create_person_models.tailor_cfgs_patients import personalized_patients_genes_cfgs\n",
    "from create_person_models.tailor_bnd_mutations import personalized_patients_mutations_bnds\n",
    "from create_person_models.tailor_bnd_tsg_onco_mutations import tailor_bnd_tsg_onco_mut\n",
    "from create_person_models.tailor_bnd_cnv import tailor_bnd_cnv_cm\n",
    "\n",
    "\n",
    "from MaBoSS_simulation.maboss_phenotype_patient import compute_phenotype_table, compute_phenotype_mean_group_validation\n",
    "\n",
    "from pre_process_data.identify_mutations_patients import identif_mutations_kras_egfr\n",
    "\n",
    "# # from pre_process_profiles_table_data_lung import create_genes_patients\n",
    "\n",
    "from stats.stats_proba import compute_mannwhitneyu_test_means, compute_kruskal\n",
    "from results_MaBoSS_visualization.boxplot_phenotype import create_boxplot\n",
    "from results_MaBoSS_visualization.create_phenotypes_patients_table import vizualise_table_phenotype_condition\n",
    "from results_MaBoSS_visualization.patients_ids_phenotype_table import create_combined_table_patients\n",
    "from gene_enrichment.genes_signature import compute_genes_mean_signature\n",
    "from pre_process_data.preprocess_mutations import preprocess_mutations_ds\n",
    "from pre_process_data.pre_process_cnv import preprocess_cnv\n",
    "\n"
   ]
  },
  {
   "cell_type": "markdown",
   "id": "ba96ba2f",
   "metadata": {},
   "source": [
    "Step 0: Import data "
   ]
  },
  {
   "cell_type": "code",
   "execution_count": 2,
   "id": "543de951",
   "metadata": {},
   "outputs": [
    {
     "name": "stderr",
     "output_type": "stream",
     "text": [
      "/var/folders/83/pqwsm5cn7vscbq8l3fnf30qr0000gn/T/ipykernel_22072/4029099413.py:15: DtypeWarning: Columns (22,50,56,57,58,59,61) have mixed types. Specify dtype option on import or set low_memory=False.\n",
      "  mutations_data_depseq = pd.read_csv('data/depmap_data/OmicsSomaticMutations.csv')\n"
     ]
    }
   ],
   "source": [
    "# Import Data\n",
    "\n",
    "annotations_models = pd.read_csv('data/model_list_20250407.csv')\n",
    "mutations_data = pd.read_csv('data/mutations_all_20250318.csv')\n",
    "drug_data = pd.read_csv('data/drug_sensitivity.csv')\n",
    "\n",
    "montagud_data = (\n",
    "    pd.read_csv('data/Montagud_inter_nodes_data.csv', header=1)\n",
    "    .loc[:, ['Target node', 'Interaction type', 'Source']])\n",
    "rna_seq_data = pd.read_csv('data/rnaseq_merged/rnaseq_merged_20250117.csv')\n",
    "cnv_data = pd.read_csv('data/cellmodel_data/cnv_summary_20250207.csv')\n",
    "\n",
    "\n",
    "models_depmap_annotation = pd.read_csv('data/cellmodel_data/model_list_20250423.csv')\n",
    "mutations_data_depseq = pd.read_csv('data/depmap_data/OmicsSomaticMutations.csv')\n",
    "\n"
   ]
  },
  {
   "cell_type": "markdown",
   "id": "d36be240",
   "metadata": {},
   "source": [
    "Step 1: Identify the best drug to keep (the one with most resistant and sensitive, and with big variance) \n",
    "        & specify the phenotypes of our model"
   ]
  },
  {
   "cell_type": "code",
   "execution_count": 3,
   "id": "5d5dc4ad",
   "metadata": {},
   "outputs": [],
   "source": [
    "tissue_remove = 'Haematopoietic and Lymphoid'\n",
    "# drugs_df = identify_drug(drug_data, annotations_models, tissue_remove)"
   ]
  },
  {
   "cell_type": "code",
   "execution_count": 4,
   "id": "75295787",
   "metadata": {},
   "outputs": [],
   "source": [
    "drug_interest = 'Refametinib' #Pictilisib, 'Avagacestat' AZD8931 \n",
    "tissue_interest = 'PAN_CANCER'\n",
    "\n",
    "\n",
    "type_models = 'genes_models'\n",
    "\n",
    "\n",
    "# models inputs\n",
    "inputs_list = ['EGF', 'FGF', 'TGFB', 'Androgen', 'Hypoxia', 'Nutrients', 'Carcinogen', 'Acidosis', 'TNF', 'SPOP']\n",
    "\n",
    "\n",
    "# models outputs\n",
    "phenotype_interest = [\"Proliferation\",\"Invasion\",\"DNA_Repair\",\"Migration\",\"Apoptosis\"]\n",
    "\n"
   ]
  },
  {
   "cell_type": "markdown",
   "id": "edbe8a13",
   "metadata": {},
   "source": [
    "Step 2: Create the folders where the models are saved and where the results will be saved"
   ]
  },
  {
   "cell_type": "code",
   "execution_count": 5,
   "id": "7c8a8476",
   "metadata": {},
   "outputs": [],
   "source": [
    "\n",
    "# folder where the results will be saved\n",
    "folder_result = f'results/{drug_interest}_{tissue_interest}'\n",
    "\n",
    "folder_pers_models=f'models/personalized_boolean_{drug_interest}_{tissue_interest}'\n",
    "\n",
    "\n",
    "\n",
    "\n",
    "# Generic model that will be duplicated to create personalized models\n",
    "folder_generic_models = f'{folder_pers_models}/generic_models'\n",
    "\n",
    "\n",
    "src_dir_generic_models = f'models/prostate/generic/{type_models}'\n",
    "\n",
    "# copy the generic model from the models to validation generic models\n",
    "\n",
    "folder_generic_models_cfg = f'{folder_generic_models}/Montagud2022_Prostate_Cancer.cfg'\n",
    "folder_generic_models_bnd = f'{folder_generic_models}/Montagud2022_Prostate_Cancer.bnd'\n",
    "\n",
    "\n",
    "folder_res_results_single_input = f'{folder_result}/resistant_results/only_gene_expression/single_input_on'\n",
    "folder_sens_results_single_input = f'{folder_result}/sensitive_results/only_gene_expression/single_input_on'\n",
    "\n",
    "\n",
    "\n",
    "folder_result_resistant = f'{folder_res_results_single_input}/phenotype_distribution_patients'\n",
    "folder_result_sensitive = f'{folder_sens_results_single_input}/phenotype_distribution_patients'\n",
    "\n",
    "folder_result_res_sen = f'{folder_result}/sensitive_resistant_results/genes_diff_expressed'\n",
    "\n",
    "\n",
    "generic_pers_models_folder_res = f\"{folder_pers_models}/resistant_patient/generic_models\"\n",
    "generic_pers_models_folder_sens = f\"{folder_pers_models}/sensitive_patient/generic_models\"\n",
    "\n",
    "folder_models_res = f'{folder_pers_models}/resistant_patient/personalized_boolean_modified/models_gene_expression'\n",
    "folder_models_sens = f'{folder_pers_models}/sensitive_patient/personalized_boolean_modified/models_gene_expression'\n",
    "\n",
    "\n",
    "\n",
    "\n",
    "results_mean_folder_res = f\"{folder_res_results_single_input}/phenotype_mean\"\n",
    "results_mean_folder_sens = f\"{folder_sens_results_single_input}/phenotype_mean\"\n",
    "\n",
    "\n",
    "\n",
    "os.makedirs(folder_result_resistant, exist_ok=True)\n",
    "os.makedirs(folder_result_sensitive, exist_ok=True)\n",
    "os.makedirs(folder_result_res_sen, exist_ok=True)\n",
    "\n",
    "os.makedirs(folder_generic_models, exist_ok=True)\n",
    "os.makedirs(folder_models_res, exist_ok=True)\n",
    "os.makedirs(folder_models_sens, exist_ok=True)\n",
    "\n",
    "os.makedirs(results_mean_folder_res, exist_ok=True)\n",
    "os.makedirs(results_mean_folder_res, exist_ok=True)\n",
    "\n",
    "for filename in os.listdir(src_dir_generic_models):\n",
    "    src_file = os.path.join(src_dir_generic_models, filename)\n",
    "    dst_file = os.path.join(folder_generic_models, filename)\n",
    "    if os.path.isfile(src_file):\n",
    "        shutil.copy(src_file, dst_file)\n",
    "\n",
    "        \n",
    "\n"
   ]
  },
  {
   "cell_type": "markdown",
   "id": "f7954a33",
   "metadata": {},
   "source": [
    "Step 3: Get the n top patients Ids"
   ]
  },
  {
   "cell_type": "code",
   "execution_count": 6,
   "id": "52a8092a",
   "metadata": {},
   "outputs": [
    {
     "name": "stderr",
     "output_type": "stream",
     "text": [
      "/Users/romane/repos/icr/Attractor-Resistance/identification_patients/get_patients_sens_res.py:33: SettingWithCopyWarning: \n",
      "A value is trying to be set on a copy of a slice from a DataFrame\n",
      "\n",
      "See the caveats in the documentation: https://pandas.pydata.org/pandas-docs/stable/user_guide/indexing.html#returning-a-view-versus-a-copy\n",
      "  annotations_models_filtered.rename(\n"
     ]
    }
   ],
   "source": [
    "# top_resistant_ids, top_sensitive_ids= get_patients(drug_data, annotations_models, drug_interest, tissue_interest)\n",
    "top_resistant_ids, top_sensitive_ids, drug_tissue_data= get_patients(20, drug_data, annotations_models, drug_interest, tissue_interest = None, tissue_remove = tissue_remove)\n",
    "patients_ids = top_sensitive_ids + top_resistant_ids"
   ]
  },
  {
   "cell_type": "markdown",
   "id": "631374cd",
   "metadata": {},
   "source": [
    "Step 4: Pre-process data- Montagud nodes, rna-seq (filtered with patients IDs and Montagud nodes)"
   ]
  },
  {
   "cell_type": "code",
   "execution_count": 7,
   "id": "a6a0b59a",
   "metadata": {},
   "outputs": [],
   "source": [
    "# Pre-process Montagud nodes\n",
    "\n",
    "# Keep only the nodes of montagud not specific to Prostate \n",
    "montagud_nodes = list(set(montagud_data['Target node'].tolist() + montagud_data['Source'].tolist()))\n",
    "montagud_nodes = [node for node in montagud_nodes if node != '0/1']\n",
    "montagud_nodes = [node.upper() for node in montagud_nodes if isinstance(node, str)]\n",
    "to_remove = ['FUSED_EVENT', 'AR_ERG']\n",
    "\n",
    "montagud_nodes = [node for node in montagud_nodes if node not in to_remove]\n",
    "montagud_nodes = list(set(montagud_nodes))"
   ]
  },
  {
   "cell_type": "code",
   "execution_count": 8,
   "id": "8a9c1e8e",
   "metadata": {},
   "outputs": [
    {
     "name": "stderr",
     "output_type": "stream",
     "text": [
      "/Users/romane/repos/icr/Attractor-Resistance/pre_process_data/pre_process_genes.py:37: SettingWithCopyWarning: \n",
      "A value is trying to be set on a copy of a slice from a DataFrame\n",
      "\n",
      "See the caveats in the documentation: https://pandas.pydata.org/pandas-docs/stable/user_guide/indexing.html#returning-a-view-versus-a-copy\n",
      "  rna_seq_data.rename(columns={\"gene_symbol\": \"gene_name\"}, inplace=True)\n"
     ]
    }
   ],
   "source": [
    "# Pre-process RNA seq data (keep only montagud_nodes and patients ids) and create table for high and low expression\n",
    "rna_seq_data_filtered = process_genes(patients_ids, montagud_nodes, rna_seq_data)\n",
    "table_rna_seq_patients = create_table_rna_seq_patients(rna_seq_data_filtered)\n"
   ]
  },
  {
   "cell_type": "code",
   "execution_count": 9,
   "id": "7b458dac",
   "metadata": {},
   "outputs": [],
   "source": [
    "# Pre-process patients (keep only the patients id with gene expression data)\n",
    "\n",
    "top_resistant_ids = list(set(table_rna_seq_patients.index) & set(top_resistant_ids))\n",
    "top_sensitive_ids= list(set(table_rna_seq_patients.index) & set(top_sensitive_ids))\n",
    "\n",
    "patients_ids = top_resistant_ids + top_sensitive_ids"
   ]
  },
  {
   "cell_type": "code",
   "execution_count": 10,
   "id": "6ff5c86b",
   "metadata": {},
   "outputs": [],
   "source": [
    "# mutations_data_filtered_combined = preprocess_mutations_ds(patients_ids, models_depmap_annotation, mutations_data_depseq,montagud_nodes)\n",
    "# print(mutations_data_filtered_combined)"
   ]
  },
  {
   "cell_type": "code",
   "execution_count": 11,
   "id": "abfece30",
   "metadata": {},
   "outputs": [],
   "source": [
    "# preprocess cnv data\n",
    "cnv_data_filtered = preprocess_cnv(cnv_data, montagud_nodes,patients_ids)"
   ]
  },
  {
   "cell_type": "markdown",
   "id": "101b893a",
   "metadata": {},
   "source": [
    "Step 5: Create generic boolean networks with the sensitive and resistant ID names\n"
   ]
  },
  {
   "cell_type": "code",
   "execution_count": 12,
   "id": "509fe0ef",
   "metadata": {},
   "outputs": [],
   "source": [
    "# create_generic_patients_cfgs_bnds(folder_generic_models_cfg, folder_generic_models_bnd, folder_pers_models, top_resistant_ids, top_sensitive_ids, drug_interest, tissue_interest)\n",
    "\n",
    "\n",
    "# ## specify the phenotypes of interest for the analysis\n",
    "# generic_models_update_phenotypes(phenotype_interest, generic_pers_models_folder_res, generic_pers_models_folder_res)\n",
    "# generic_models_update_phenotypes(phenotype_interest, generic_pers_models_folder_sens, generic_pers_models_folder_sens)\n"
   ]
  },
  {
   "cell_type": "markdown",
   "id": "ca027a3d",
   "metadata": {},
   "source": [
    "Step 6: Personalize the cfg files with genes/ proteins\n"
   ]
  },
  {
   "cell_type": "code",
   "execution_count": null,
   "id": "f6c25190",
   "metadata": {},
   "outputs": [],
   "source": [
    "personalized_patients_genes_cfgs(rna_seq_data, montagud_nodes, generic_pers_models_folder_res, folder_models_res, patients_ids, table_rna_seq_patients, drug_interest)\n",
    "personalized_patients_genes_cfgs(rna_seq_data, montagud_nodes, generic_pers_models_folder_sens, folder_models_sens, patients_ids, table_rna_seq_patients, drug_interest)"
   ]
  },
  {
   "cell_type": "code",
   "execution_count": 14,
   "id": "41d39de4",
   "metadata": {},
   "outputs": [],
   "source": [
    "# Identification of which patients id have KRAS or EGFR mutation personalize the bnd files with the mutations common to Lung (KRAS/ EGFR)\n",
    "\n",
    "\n",
    "# personalized_patients_mutations_bnds(mutations_data,patients_ids,folder_models_res, drug_interest)\n",
    "# personalized_patients_mutations_bnds(mutations_data,patients_ids,folder_models_sens, drug_interest)"
   ]
  },
  {
   "cell_type": "code",
   "execution_count": null,
   "id": "f624b2ca",
   "metadata": {},
   "outputs": [],
   "source": [
    "# personalize copy nb variation\n",
    "\n",
    "tailor_bnd_cnv_cm(cnv_data_filtered,folder_models_res, folder_models_sens, drug_interest)"
   ]
  },
  {
   "cell_type": "code",
   "execution_count": 16,
   "id": "28bb04fd",
   "metadata": {},
   "outputs": [],
   "source": [
    "# tailor_bnd_tsg_onco_mut(mutations_data_filtered_combined,folder_models_res, folder_models_sens, drug_interest)"
   ]
  },
  {
   "cell_type": "markdown",
   "id": "01754ed5",
   "metadata": {},
   "source": [
    "Step 7: compute the phenotype distribution "
   ]
  },
  {
   "cell_type": "code",
   "execution_count": null,
   "id": "4ca22aaa",
   "metadata": {},
   "outputs": [],
   "source": [
    "# Compute phenotype distribution for each patient\n",
    "\n",
    "for patient  in top_resistant_ids:\n",
    "    compute_phenotype_table(folder_result_resistant, folder_models_res, patient, inputs_list, phenotype_interest, drug_interest)\n",
    "    \n",
    "for patient  in top_sensitive_ids:\n",
    "    compute_phenotype_table(folder_result_sensitive, folder_models_sens, patient, inputs_list, phenotype_interest, drug_interest)\n",
    "    "
   ]
  },
  {
   "cell_type": "code",
   "execution_count": 19,
   "id": "d8c0527c",
   "metadata": {},
   "outputs": [],
   "source": [
    "# combine data together \n",
    "def collect_group_data(group_folder_path):\n",
    "    combined_data = defaultdict(lambda: defaultdict(list))\n",
    "\n",
    "    for file in os.listdir(group_folder_path):\n",
    "        if file.startswith(\"_SID\") and file.endswith(\".csv\"):\n",
    "            file_path = os.path.join(group_folder_path, file)\n",
    "            df = pd.read_csv(file_path, index_col=0)\n",
    "\n",
    "            for input_name in df.index:\n",
    "                for phenotype in df.columns:\n",
    "                    value = df.at[input_name, phenotype]\n",
    "                    combined_data[input_name][phenotype].append(float(value))\n",
    "\n",
    "    result_df = pd.DataFrame.from_dict(combined_data, orient='index')\n",
    "    result_df.to_csv(os.path.join(group_folder_path, \"combined_results.csv\"))\n",
    "\n",
    "    return result_df\n",
    "\n",
    "\n",
    "group_df_sens = collect_group_data(folder_result_sensitive)\n",
    "group_df_res = collect_group_data(folder_result_resistant)"
   ]
  },
  {
   "cell_type": "code",
   "execution_count": 20,
   "id": "14e5c795",
   "metadata": {},
   "outputs": [],
   "source": [
    "# stats test between the two combined dataframes (sensitive vs resistant)\n",
    "\n",
    "# res_combined_path = \"results/Refametinib_PAN_CANCER/resistant_results/only_gene_expression/single_input_on/phenotype_distribution_patients/combined_results.csv\"\n",
    "# sens_combined_path = \"results/Refametinib_PAN_CANCER/sensitive_results/only_gene_expression/single_input_on/phenotype_distribution_patients/combined_results.csv\"\n",
    "\n",
    "df_res_combined = pd.read_csv(f'{folder_result_resistant}/combined_results.csv', index_col=0)  # index: inputs, columns: phenotypes\n",
    "df_sens_combined = pd.read_csv(f'{folder_result_sensitive}/combined_results.csv', index_col=0)"
   ]
  },
  {
   "cell_type": "markdown",
   "id": "3a3359b9",
   "metadata": {},
   "source": [
    "Compute attractors phenotype mean and power calculation to count the nb of patients needed in each group"
   ]
  },
  {
   "cell_type": "code",
   "execution_count": null,
   "id": "5836ef3f",
   "metadata": {},
   "outputs": [],
   "source": [
    "conditions = df_res_combined.index\n",
    "phenotypes = df_res_combined.columns\n",
    "mean_df_res_combined = pd.DataFrame(index=conditions, columns=phenotypes)\n",
    "\n",
    "\n",
    "for condition, values in df_res_combined.iterrows():\n",
    "    for phenotype in df_res_combined.columns:\n",
    "\n",
    "        df_res_values = df_res_combined.loc[condition][phenotype]\n",
    "        df_res_values = ast.literal_eval(df_res_values)\n",
    "        mean = sum(df_res_values)/ len(df_res_values)\n",
    "        mean_df_res_combined.loc[condition][phenotype] = mean\n",
    "print(mean_df_res_combined)\n",
    "\n",
    "\n",
    "\n",
    "\n",
    "\n",
    "conditions = df_sens_combined.index\n",
    "phenotypes = df_sens_combined.columns\n",
    "mean_df_sens_combined = pd.DataFrame(index=conditions, columns=phenotypes)\n",
    "\n",
    "\n",
    "for condition, values in df_sens_combined.iterrows():\n",
    "    for phenotype in df_sens_combined.columns:\n",
    "\n",
    "        df_res_values = df_sens_combined.loc[condition][phenotype]\n",
    "        df_res_values = ast.literal_eval(df_res_values)\n",
    "        mean = sum(df_res_values)/ len(df_res_values)\n",
    "        mean_df_sens_combined.loc[condition][phenotype] = mean\n",
    "print(mean_df_sens_combined)"
   ]
  },
  {
   "cell_type": "markdown",
   "id": "d037a191",
   "metadata": {},
   "source": [
    "Power calculation for every condition-phenotype pairs"
   ]
  },
  {
   "cell_type": "code",
   "execution_count": 137,
   "id": "636ee14a",
   "metadata": {},
   "outputs": [
    {
     "name": "stdout",
     "output_type": "stream",
     "text": [
      "           Proliferation   Invasion  DNA_Repair  Migration   Apoptosis\n",
      "EGF            19.142943   43.11431  109.701001  38.760976  110.007058\n",
      "FGF            18.877786   55.66619   99.131018  22.999301    43.41062\n",
      "TGFB          101.925345  15.547608  105.500427  20.761287   26.146774\n",
      "Androgen       19.181143  43.004752  109.701001  38.542774  109.711558\n",
      "Hypoxia        201.25514   54.35772   99.950886  23.992614  104.612541\n",
      "Nutrients      17.588734  55.882307   103.61085  30.309751  119.177043\n",
      "Carcinogen     21.108625  56.379677   34.876535  32.645808   21.912562\n",
      "Acidosis       22.065833  58.482722   97.138167  27.248606   69.234021\n",
      "TNF           144.962835   5.054334   93.966772  19.662104    96.61911\n",
      "SPOP           13.009558  37.514456   90.164761  45.312959  419.159019\n",
      "           Proliferation   Invasion DNA_Repair  Migration Apoptosis\n",
      "EGF            19.142943        NaN        NaN        NaN       NaN\n",
      "FGF            18.877786        NaN        NaN        NaN       NaN\n",
      "TGFB                 NaN  15.547608        NaN        NaN       NaN\n",
      "Androgen       19.181143        NaN        NaN        NaN       NaN\n",
      "Hypoxia              NaN        NaN        NaN        NaN       NaN\n",
      "Nutrients      17.588734        NaN        NaN        NaN       NaN\n",
      "Carcinogen           NaN        NaN        NaN        NaN       NaN\n",
      "Acidosis             NaN        NaN        NaN        NaN       NaN\n",
      "TNF                  NaN   5.054334        NaN  19.662104       NaN\n",
      "SPOP           13.009558        NaN        NaN        NaN       NaN\n"
     ]
    },
    {
     "name": "stderr",
     "output_type": "stream",
     "text": [
      "/var/folders/83/pqwsm5cn7vscbq8l3fnf30qr0000gn/T/ipykernel_22072/2295393435.py:33: FutureWarning: ChainedAssignmentError: behaviour will change in pandas 3.0!\n",
      "You are setting values through chained assignment. Currently this works in certain cases, but when using Copy-on-Write (which will become the default behaviour in pandas 3.0) this will never work to update the original DataFrame or Series, because the intermediate object on which we are setting values will behave as a copy.\n",
      "A typical example is when you are setting values in a column of a DataFrame, like:\n",
      "\n",
      "df[\"col\"][row_indexer] = value\n",
      "\n",
      "Use `df.loc[row_indexer, \"col\"] = values` instead, to perform the assignment in a single step and ensure this keeps updating the original `df`.\n",
      "\n",
      "See the caveats in the documentation: https://pandas.pydata.org/pandas-docs/stable/user_guide/indexing.html#returning-a-view-versus-a-copy\n",
      "\n",
      "  nb_patients_required.loc[condition][phenotype] = sample_size\n"
     ]
    }
   ],
   "source": [
    "# power calculation \n",
    "\n",
    "nb_patients_required = pd.DataFrame(index=conditions, columns=phenotypes)\n",
    "\n",
    "for condition, values in df_res_combined.iterrows():\n",
    "    for phenotype in df_res_combined.columns:\n",
    "\n",
    "\n",
    "        data_res =  ast.literal_eval(df_res_combined.loc[condition][phenotype])\n",
    "        data_sens = ast.literal_eval(df_sens_combined.loc[condition][phenotype])\n",
    "\n",
    "        res_patients_mean = np.mean(data_res)\n",
    "        sens_patients_mean = np.mean(data_sens)\n",
    "\n",
    "        res_patients_std = np.std(data_res)\n",
    "        sens_patients_std = np.std(data_sens)\n",
    "\n",
    "        n_res_group = len(data_res)\n",
    "        n_sens_group = len(data_sens)\n",
    "        sd_pooled = np.sqrt(\n",
    "            ((n_res_group - 1) * res_patients_std**2 + (n_sens_group - 1) * sens_patients_std**2)\n",
    "            / (n_res_group + n_sens_group - 2)\n",
    "        )\n",
    "\n",
    "        d = res_patients_mean -sens_patients_mean/sd_pooled\n",
    "\n",
    "        analysis = TTestIndPower()\n",
    "        sample_size = analysis.solve_power(effect_size=d, power=0.8, alpha=0.05, alternative='two-sided')\n",
    "        nb_patients_required.loc[condition][phenotype] = sample_size\n",
    "\n",
    "print(nb_patients_required)\n",
    "print(nb_patients_required[nb_patients_required <= 20])\n",
    "\n",
    "\n",
    "\n"
   ]
  },
  {
   "cell_type": "markdown",
   "id": "98712421",
   "metadata": {},
   "source": [
    "Results: using a T-test with alpha of 0.05 we will have 80% power to detect an effect size of 0.62 * StDev (ie effect > 10) with a minimum study size of 19 patients per group."
   ]
  },
  {
   "cell_type": "code",
   "execution_count": 21,
   "id": "57cf8c6a",
   "metadata": {},
   "outputs": [
    {
     "name": "stderr",
     "output_type": "stream",
     "text": [
      "/Users/romane/repos/icr/Attractor-Resistance/stats/stats_proba.py:54: FutureWarning: DataFrame.applymap has been deprecated. Use DataFrame.map instead.\n",
      "  significant_kruskal_results = kruskal_results.applymap(lambda x: x if (x is not None and float(x) < 0.05) else np.nan)\n"
     ]
    }
   ],
   "source": [
    "significant_kruskal_results = compute_kruskal(inputs_list, phenotype_interest, df_res_combined, df_sens_combined)"
   ]
  },
  {
   "cell_type": "code",
   "execution_count": 138,
   "id": "d21892c4",
   "metadata": {},
   "outputs": [
    {
     "data": {
      "text/html": [
       "<div>\n",
       "<style scoped>\n",
       "    .dataframe tbody tr th:only-of-type {\n",
       "        vertical-align: middle;\n",
       "    }\n",
       "\n",
       "    .dataframe tbody tr th {\n",
       "        vertical-align: top;\n",
       "    }\n",
       "\n",
       "    .dataframe thead th {\n",
       "        text-align: right;\n",
       "    }\n",
       "</style>\n",
       "<table border=\"1\" class=\"dataframe\">\n",
       "  <thead>\n",
       "    <tr style=\"text-align: right;\">\n",
       "      <th></th>\n",
       "      <th>Proliferation</th>\n",
       "      <th>Invasion</th>\n",
       "      <th>DNA_Repair</th>\n",
       "      <th>Migration</th>\n",
       "      <th>Apoptosis</th>\n",
       "    </tr>\n",
       "  </thead>\n",
       "  <tbody>\n",
       "    <tr>\n",
       "      <th>EGF</th>\n",
       "      <td>NaN</td>\n",
       "      <td>NaN</td>\n",
       "      <td>NaN</td>\n",
       "      <td>NaN</td>\n",
       "      <td>NaN</td>\n",
       "    </tr>\n",
       "    <tr>\n",
       "      <th>FGF</th>\n",
       "      <td>NaN</td>\n",
       "      <td>NaN</td>\n",
       "      <td>NaN</td>\n",
       "      <td>0.040070</td>\n",
       "      <td>NaN</td>\n",
       "    </tr>\n",
       "    <tr>\n",
       "      <th>TGFB</th>\n",
       "      <td>0.013076</td>\n",
       "      <td>NaN</td>\n",
       "      <td>NaN</td>\n",
       "      <td>NaN</td>\n",
       "      <td>NaN</td>\n",
       "    </tr>\n",
       "    <tr>\n",
       "      <th>Androgen</th>\n",
       "      <td>NaN</td>\n",
       "      <td>NaN</td>\n",
       "      <td>NaN</td>\n",
       "      <td>NaN</td>\n",
       "      <td>NaN</td>\n",
       "    </tr>\n",
       "    <tr>\n",
       "      <th>Hypoxia</th>\n",
       "      <td>0.045518</td>\n",
       "      <td>NaN</td>\n",
       "      <td>NaN</td>\n",
       "      <td>0.013638</td>\n",
       "      <td>NaN</td>\n",
       "    </tr>\n",
       "    <tr>\n",
       "      <th>Nutrients</th>\n",
       "      <td>NaN</td>\n",
       "      <td>NaN</td>\n",
       "      <td>NaN</td>\n",
       "      <td>NaN</td>\n",
       "      <td>NaN</td>\n",
       "    </tr>\n",
       "    <tr>\n",
       "      <th>Carcinogen</th>\n",
       "      <td>NaN</td>\n",
       "      <td>NaN</td>\n",
       "      <td>NaN</td>\n",
       "      <td>NaN</td>\n",
       "      <td>NaN</td>\n",
       "    </tr>\n",
       "    <tr>\n",
       "      <th>Acidosis</th>\n",
       "      <td>NaN</td>\n",
       "      <td>NaN</td>\n",
       "      <td>NaN</td>\n",
       "      <td>0.017790</td>\n",
       "      <td>NaN</td>\n",
       "    </tr>\n",
       "    <tr>\n",
       "      <th>TNF</th>\n",
       "      <td>0.042410</td>\n",
       "      <td>NaN</td>\n",
       "      <td>NaN</td>\n",
       "      <td>NaN</td>\n",
       "      <td>NaN</td>\n",
       "    </tr>\n",
       "    <tr>\n",
       "      <th>SPOP</th>\n",
       "      <td>NaN</td>\n",
       "      <td>NaN</td>\n",
       "      <td>NaN</td>\n",
       "      <td>NaN</td>\n",
       "      <td>NaN</td>\n",
       "    </tr>\n",
       "  </tbody>\n",
       "</table>\n",
       "</div>"
      ],
      "text/plain": [
       "            Proliferation  Invasion  DNA_Repair  Migration  Apoptosis\n",
       "EGF                   NaN       NaN         NaN        NaN        NaN\n",
       "FGF                   NaN       NaN         NaN   0.040070        NaN\n",
       "TGFB             0.013076       NaN         NaN        NaN        NaN\n",
       "Androgen              NaN       NaN         NaN        NaN        NaN\n",
       "Hypoxia          0.045518       NaN         NaN   0.013638        NaN\n",
       "Nutrients             NaN       NaN         NaN        NaN        NaN\n",
       "Carcinogen            NaN       NaN         NaN        NaN        NaN\n",
       "Acidosis              NaN       NaN         NaN   0.017790        NaN\n",
       "TNF              0.042410       NaN         NaN        NaN        NaN\n",
       "SPOP                  NaN       NaN         NaN        NaN        NaN"
      ]
     },
     "execution_count": 138,
     "metadata": {},
     "output_type": "execute_result"
    }
   ],
   "source": [
    "significant_kruskal_results"
   ]
  },
  {
   "cell_type": "markdown",
   "id": "601cf228",
   "metadata": {},
   "source": [
    "Step 7: Compute stats test between two mean datasets"
   ]
  },
  {
   "cell_type": "code",
   "execution_count": 23,
   "id": "ceef3985",
   "metadata": {},
   "outputs": [],
   "source": [
    "# patient_res_stats_values = pd.read_csv(f'{folder_result}/resistant_results/only_gene_expression/single_input_on/patients_resistant_values_stats_{drug_interest}.csv')\n",
    "# patient_sens_stats_values = pd.read_csv(f'{folder_result}/sensitive_results/only_gene_expression/single_input_on/patients_sensitive_values_stats_{drug_interest}.csv')\n",
    "\n",
    "patient_res_stats_values =  pd.read_csv(f'{folder_result_resistant}/combined_results.csv')\n",
    "patient_sens_stats_values = pd.read_csv(f'{folder_result_sensitive}/combined_results.csv')\n",
    "compute_mannwhitneyu_test_means(folder_result,patient_res_stats_values, patient_sens_stats_values, drug_interest)"
   ]
  },
  {
   "cell_type": "markdown",
   "id": "bf053c65",
   "metadata": {},
   "source": [
    "Step 8: Vizualise the boxplot of phenotype distribution output"
   ]
  },
  {
   "cell_type": "code",
   "execution_count": 139,
   "id": "662bda1f",
   "metadata": {},
   "outputs": [
    {
     "data": {
      "text/html": [
       "<div>\n",
       "<style scoped>\n",
       "    .dataframe tbody tr th:only-of-type {\n",
       "        vertical-align: middle;\n",
       "    }\n",
       "\n",
       "    .dataframe tbody tr th {\n",
       "        vertical-align: top;\n",
       "    }\n",
       "\n",
       "    .dataframe thead th {\n",
       "        text-align: right;\n",
       "    }\n",
       "</style>\n",
       "<table border=\"1\" class=\"dataframe\">\n",
       "  <thead>\n",
       "    <tr style=\"text-align: right;\">\n",
       "      <th></th>\n",
       "      <th>Condition</th>\n",
       "      <th>Phenotype</th>\n",
       "      <th>Mannwhitneyu_P_value_Resistant</th>\n",
       "      <th>Star_significant</th>\n",
       "    </tr>\n",
       "  </thead>\n",
       "  <tbody>\n",
       "    <tr>\n",
       "      <th>0</th>\n",
       "      <td>EGF</td>\n",
       "      <td>Proliferation</td>\n",
       "      <td>0.032938</td>\n",
       "      <td>*</td>\n",
       "    </tr>\n",
       "    <tr>\n",
       "      <th>1</th>\n",
       "      <td>TGFB</td>\n",
       "      <td>Proliferation</td>\n",
       "      <td>0.006811</td>\n",
       "      <td>**</td>\n",
       "    </tr>\n",
       "    <tr>\n",
       "      <th>2</th>\n",
       "      <td>Androgen</td>\n",
       "      <td>Proliferation</td>\n",
       "      <td>0.032938</td>\n",
       "      <td>*</td>\n",
       "    </tr>\n",
       "    <tr>\n",
       "      <th>3</th>\n",
       "      <td>Hypoxia</td>\n",
       "      <td>Proliferation</td>\n",
       "      <td>0.023559</td>\n",
       "      <td>*</td>\n",
       "    </tr>\n",
       "    <tr>\n",
       "      <th>4</th>\n",
       "      <td>Acidosis</td>\n",
       "      <td>Proliferation</td>\n",
       "      <td>0.026999</td>\n",
       "      <td>*</td>\n",
       "    </tr>\n",
       "    <tr>\n",
       "      <th>5</th>\n",
       "      <td>TNF</td>\n",
       "      <td>Proliferation</td>\n",
       "      <td>0.021959</td>\n",
       "      <td>*</td>\n",
       "    </tr>\n",
       "    <tr>\n",
       "      <th>6</th>\n",
       "      <td>TNF</td>\n",
       "      <td>Apoptosis</td>\n",
       "      <td>0.037466</td>\n",
       "      <td>*</td>\n",
       "    </tr>\n",
       "    <tr>\n",
       "      <th>0</th>\n",
       "      <td>Hypoxia</td>\n",
       "      <td>DNA_Repair</td>\n",
       "      <td>0.045158</td>\n",
       "      <td>*</td>\n",
       "    </tr>\n",
       "    <tr>\n",
       "      <th>1</th>\n",
       "      <td>FGF</td>\n",
       "      <td>Migration</td>\n",
       "      <td>0.020852</td>\n",
       "      <td>*</td>\n",
       "    </tr>\n",
       "    <tr>\n",
       "      <th>2</th>\n",
       "      <td>Hypoxia</td>\n",
       "      <td>Migration</td>\n",
       "      <td>0.007126</td>\n",
       "      <td>**</td>\n",
       "    </tr>\n",
       "    <tr>\n",
       "      <th>3</th>\n",
       "      <td>Nutrients</td>\n",
       "      <td>Migration</td>\n",
       "      <td>0.029571</td>\n",
       "      <td>*</td>\n",
       "    </tr>\n",
       "    <tr>\n",
       "      <th>4</th>\n",
       "      <td>Carcinogen</td>\n",
       "      <td>Migration</td>\n",
       "      <td>0.048989</td>\n",
       "      <td>*</td>\n",
       "    </tr>\n",
       "    <tr>\n",
       "      <th>5</th>\n",
       "      <td>Acidosis</td>\n",
       "      <td>Migration</td>\n",
       "      <td>0.009282</td>\n",
       "      <td>**</td>\n",
       "    </tr>\n",
       "    <tr>\n",
       "      <th>6</th>\n",
       "      <td>SPOP</td>\n",
       "      <td>Migration</td>\n",
       "      <td>0.045902</td>\n",
       "      <td>*</td>\n",
       "    </tr>\n",
       "    <tr>\n",
       "      <th>0</th>\n",
       "      <td>TGFB</td>\n",
       "      <td>Proliferation</td>\n",
       "      <td>0.013622</td>\n",
       "      <td>*</td>\n",
       "    </tr>\n",
       "    <tr>\n",
       "      <th>1</th>\n",
       "      <td>Hypoxia</td>\n",
       "      <td>Proliferation</td>\n",
       "      <td>0.047117</td>\n",
       "      <td>*</td>\n",
       "    </tr>\n",
       "    <tr>\n",
       "      <th>2</th>\n",
       "      <td>TNF</td>\n",
       "      <td>Proliferation</td>\n",
       "      <td>0.043917</td>\n",
       "      <td>*</td>\n",
       "    </tr>\n",
       "    <tr>\n",
       "      <th>3</th>\n",
       "      <td>FGF</td>\n",
       "      <td>Migration</td>\n",
       "      <td>0.041703</td>\n",
       "      <td>*</td>\n",
       "    </tr>\n",
       "    <tr>\n",
       "      <th>4</th>\n",
       "      <td>Hypoxia</td>\n",
       "      <td>Migration</td>\n",
       "      <td>0.014252</td>\n",
       "      <td>*</td>\n",
       "    </tr>\n",
       "    <tr>\n",
       "      <th>5</th>\n",
       "      <td>Acidosis</td>\n",
       "      <td>Migration</td>\n",
       "      <td>0.018565</td>\n",
       "      <td>*</td>\n",
       "    </tr>\n",
       "  </tbody>\n",
       "</table>\n",
       "</div>"
      ],
      "text/plain": [
       "    Condition      Phenotype  Mannwhitneyu_P_value_Resistant Star_significant\n",
       "0         EGF  Proliferation                        0.032938                *\n",
       "1        TGFB  Proliferation                        0.006811               **\n",
       "2    Androgen  Proliferation                        0.032938                *\n",
       "3     Hypoxia  Proliferation                        0.023559                *\n",
       "4    Acidosis  Proliferation                        0.026999                *\n",
       "5         TNF  Proliferation                        0.021959                *\n",
       "6         TNF      Apoptosis                        0.037466                *\n",
       "0     Hypoxia     DNA_Repair                        0.045158                *\n",
       "1         FGF      Migration                        0.020852                *\n",
       "2     Hypoxia      Migration                        0.007126               **\n",
       "3   Nutrients      Migration                        0.029571                *\n",
       "4  Carcinogen      Migration                        0.048989                *\n",
       "5    Acidosis      Migration                        0.009282               **\n",
       "6        SPOP      Migration                        0.045902                *\n",
       "0        TGFB  Proliferation                        0.013622                *\n",
       "1     Hypoxia  Proliferation                        0.047117                *\n",
       "2         TNF  Proliferation                        0.043917                *\n",
       "3         FGF      Migration                        0.041703                *\n",
       "4     Hypoxia      Migration                        0.014252                *\n",
       "5    Acidosis      Migration                        0.018565                *"
      ]
     },
     "execution_count": 139,
     "metadata": {},
     "output_type": "execute_result"
    }
   ],
   "source": [
    "# patient_res_values = pd.read_csv(f'{folder_result}/resistant_results/only_gene_expression/single_input_on/patients_resistant_values_stats_{drug_interest}.csv')\n",
    "# patient_sens_values = pd.read_csv(f'{folder_result}/sensitive_results/only_gene_expression/single_input_on/patients_sensitive_values_stats_{drug_interest}.csv')\n",
    "#data_greater_side = pd.read_csv(f'{folder_result}/sensitive_resistant_results/p_values_df_mannwhitneyu_greater_sign_{drug_interest}.csv')\n",
    "\n",
    "\n",
    "data_greater_side = pd.read_csv(f'{folder_result}/sensitive_resistant_results/p_values_df_mannwhitneyu_greater_sign_Refametinib.csv')\n",
    "data_less_side = pd.read_csv(f'{folder_result}/sensitive_resistant_results/p_values_df_mannwhitneyu_less_sign_Refametinib.csv')\n",
    "data_both_side = pd.read_csv(f'{folder_result}/sensitive_resistant_results/p_values_df_mannwhitneyu_two_sides_Refametinib.csv')\n",
    "\n",
    "signif_df = pd.concat([data_greater_side, data_less_side, data_both_side], axis=0)\n",
    "signif_df"
   ]
  },
  {
   "cell_type": "code",
   "execution_count": 25,
   "id": "0b7f9644",
   "metadata": {},
   "outputs": [
    {
     "data": {
      "text/plain": [
       "array(['EGF', 'TGFB', 'Androgen', 'Hypoxia', 'Acidosis', 'TNF', 'FGF',\n",
       "       'Nutrients', 'Carcinogen', 'SPOP'], dtype=object)"
      ]
     },
     "execution_count": 25,
     "metadata": {},
     "output_type": "execute_result"
    }
   ],
   "source": [
    "signif_df['Condition'].unique()"
   ]
  },
  {
   "cell_type": "code",
   "execution_count": 26,
   "id": "7d6e4449",
   "metadata": {},
   "outputs": [
    {
     "data": {
      "image/png": "[encoded data removed]",
      "text/plain": [
       "<Figure size 4000x800 with 4 Axes>"
      ]
     },
     "metadata": {},
     "output_type": "display_data"
    }
   ],
   "source": [
    "create_boxplot(patient_res_stats_values, patient_sens_stats_values, signif_df)\n"
   ]
  },
  {
   "cell_type": "markdown",
   "id": "921ef689",
   "metadata": {},
   "source": [
    "Step 9: create table of patients with conditions- phenotype"
   ]
  },
  {
   "cell_type": "code",
   "execution_count": 27,
   "id": "8691af14",
   "metadata": {},
   "outputs": [],
   "source": [
    "res_tables_path = f'{folder_res_results_single_input}/phenotype_distribution_patients'\n",
    "sens_tables_path = f'{folder_sens_results_single_input}/phenotype_distribution_patients'"
   ]
  },
  {
   "cell_type": "code",
   "execution_count": 28,
   "id": "8259b991",
   "metadata": {},
   "outputs": [
    {
     "name": "stdout",
     "output_type": "stream",
     "text": [
      "['SIDM00892', 'SIDM00716', 'SIDM00920', 'SIDM00506', 'SIDM00881', 'SIDM01056', 'SIDM00770', 'SIDM00767', 'SIDM01120', 'SIDM00971', 'SIDM00631', 'SIDM00183', 'SIDM00292', 'SIDM00870', 'SIDM00508', 'SIDM00444', 'SIDM00524', 'SIDM00255', 'SIDM00719', 'SIDM00890', 'SIDM00129', 'SIDM00826', 'SIDM01240', 'SIDM00003', 'SIDM00175', 'SIDM01242', 'SIDM01059', 'SIDM00795', 'SIDM00568', 'SIDM01066', 'SIDM00190', 'SIDM00619', 'SIDM00974', 'SIDM00284', 'SIDM00910', 'SIDM00337', 'SIDM01001', 'SIDM00056']\n",
      "Saved final phenotype table to: results/Refametinib_PAN_CANCER/sensitive_resistant_results/patients_phenot_table.csv\n"
     ]
    }
   ],
   "source": [
    "patients_phenot_table = create_combined_table_patients(res_tables_path, sens_tables_path, folder_result)\n",
    "\n",
    "# patients_phenot_table = create_table_patients_phenotypes(folder_result, dir_res_data, dir_sens_data)"
   ]
  },
  {
   "cell_type": "markdown",
   "id": "8320efc8",
   "metadata": {},
   "source": [
    "Step 10: Create heatmap figure "
   ]
  },
  {
   "cell_type": "code",
   "execution_count": 29,
   "id": "a5ebad17",
   "metadata": {},
   "outputs": [],
   "source": [
    "# patient_resistant_mean = pd.read_csv(f'{folder_res_results_single_input}/patients_resistant_df_mean_{drug_interest}.csv')\n",
    "# patient_sensitive_mean = pd.read_csv(f'{folder_sens_results_single_input}/patients_sensitive_df_mean_{drug_interest}.csv')\n",
    "# vizualise_table_phenotype_condition(folder_result, patient_resistant_mean, patient_sensitive_mean)"
   ]
  },
  {
   "cell_type": "markdown",
   "id": "e93b4134",
   "metadata": {},
   "source": [
    "Step 11: Identify genes differently expressed in the patients with high "
   ]
  },
  {
   "cell_type": "code",
   "execution_count": 30,
   "id": "f31de187",
   "metadata": {},
   "outputs": [
    {
     "data": {
      "text/html": [
       "<div>\n",
       "<style scoped>\n",
       "    .dataframe tbody tr th:only-of-type {\n",
       "        vertical-align: middle;\n",
       "    }\n",
       "\n",
       "    .dataframe tbody tr th {\n",
       "        vertical-align: top;\n",
       "    }\n",
       "\n",
       "    .dataframe thead th {\n",
       "        text-align: right;\n",
       "    }\n",
       "</style>\n",
       "<table border=\"1\" class=\"dataframe\">\n",
       "  <thead>\n",
       "    <tr style=\"text-align: right;\">\n",
       "      <th></th>\n",
       "      <th>Condition</th>\n",
       "      <th>Phenotype</th>\n",
       "    </tr>\n",
       "  </thead>\n",
       "  <tbody>\n",
       "    <tr>\n",
       "      <th>0</th>\n",
       "      <td>EGF</td>\n",
       "      <td>Proliferation</td>\n",
       "    </tr>\n",
       "    <tr>\n",
       "      <th>1</th>\n",
       "      <td>TGFB</td>\n",
       "      <td>Proliferation</td>\n",
       "    </tr>\n",
       "    <tr>\n",
       "      <th>2</th>\n",
       "      <td>Androgen</td>\n",
       "      <td>Proliferation</td>\n",
       "    </tr>\n",
       "    <tr>\n",
       "      <th>3</th>\n",
       "      <td>Hypoxia</td>\n",
       "      <td>Proliferation</td>\n",
       "    </tr>\n",
       "    <tr>\n",
       "      <th>4</th>\n",
       "      <td>Acidosis</td>\n",
       "      <td>Proliferation</td>\n",
       "    </tr>\n",
       "    <tr>\n",
       "      <th>5</th>\n",
       "      <td>TNF</td>\n",
       "      <td>Proliferation</td>\n",
       "    </tr>\n",
       "    <tr>\n",
       "      <th>6</th>\n",
       "      <td>TNF</td>\n",
       "      <td>Apoptosis</td>\n",
       "    </tr>\n",
       "  </tbody>\n",
       "</table>\n",
       "</div>"
      ],
      "text/plain": [
       "  Condition      Phenotype\n",
       "0       EGF  Proliferation\n",
       "1      TGFB  Proliferation\n",
       "2  Androgen  Proliferation\n",
       "3   Hypoxia  Proliferation\n",
       "4  Acidosis  Proliferation\n",
       "5       TNF  Proliferation\n",
       "6       TNF      Apoptosis"
      ]
     },
     "execution_count": 30,
     "metadata": {},
     "output_type": "execute_result"
    }
   ],
   "source": [
    "# identify the condition (input) and phenotype for which we observe a significant increase in resistant patients\n",
    "\n",
    "greater_sign_results = pd.read_csv(f'{folder_result}/sensitive_resistant_results/p_values_df_mannwhitneyu_greater_sign_Refametinib.csv')\n",
    "conditions_phenotypes_df = greater_sign_results[['Condition', 'Phenotype']]\n",
    "conditions_phenotypes_df"
   ]
  },
  {
   "cell_type": "code",
   "execution_count": 31,
   "id": "dedeb35c",
   "metadata": {},
   "outputs": [],
   "source": [
    "patients_phenot_table = pd.read_csv(f'{folder_result}/sensitive_resistant_results/patients_phenot_table.csv')"
   ]
  },
  {
   "cell_type": "code",
   "execution_count": 32,
   "id": "a417f999",
   "metadata": {},
   "outputs": [
    {
     "name": "stderr",
     "output_type": "stream",
     "text": [
      "/Users/romane/repos/icr/Attractor-Resistance/.env/lib/python3.13/site-packages/scipy/stats/_axis_nan_policy.py:586: UserWarning: scipy.stats.shapiro: Input data has range zero. The results may not be accurate.\n",
      "  res = hypotest_fun_out(*samples, **kwds)\n",
      "/Users/romane/repos/icr/Attractor-Resistance/.env/lib/python3.13/site-packages/scipy/stats/_axis_nan_policy.py:586: UserWarning: scipy.stats.shapiro: Input data has range zero. The results may not be accurate.\n",
      "  res = hypotest_fun_out(*samples, **kwds)\n",
      "/Users/romane/repos/icr/Attractor-Resistance/.env/lib/python3.13/site-packages/scipy/stats/_axis_nan_policy.py:586: UserWarning: scipy.stats.shapiro: Input data has range zero. The results may not be accurate.\n",
      "  res = hypotest_fun_out(*samples, **kwds)\n",
      "/Users/romane/repos/icr/Attractor-Resistance/.env/lib/python3.13/site-packages/scipy/stats/_axis_nan_policy.py:586: UserWarning: scipy.stats.shapiro: Input data has range zero. The results may not be accurate.\n",
      "  res = hypotest_fun_out(*samples, **kwds)\n",
      "/Users/romane/repos/icr/Attractor-Resistance/.env/lib/python3.13/site-packages/scipy/stats/_axis_nan_policy.py:586: UserWarning: scipy.stats.shapiro: Input data has range zero. The results may not be accurate.\n",
      "  res = hypotest_fun_out(*samples, **kwds)\n",
      "/Users/romane/repos/icr/Attractor-Resistance/.env/lib/python3.13/site-packages/scipy/stats/_axis_nan_policy.py:586: UserWarning: scipy.stats.shapiro: Input data has range zero. The results may not be accurate.\n",
      "  res = hypotest_fun_out(*samples, **kwds)\n"
     ]
    },
    {
     "name": "stdout",
     "output_type": "stream",
     "text": [
      "       Group Resistant Mean Group Sensitive Mean  Group Resistant Variance  \\\n",
      "APAF1              3.916306             2.972342                  0.840812   \n",
      "ATM                4.323071             5.328063                  1.375039   \n",
      "BAD                6.262329             5.366679                  0.312032   \n",
      "BCL2                 3.1567             1.890132                  4.511263   \n",
      "BIRC5              6.595718             5.701453                  0.624837   \n",
      "COX4I2               0.1218                  0.0                  0.076630   \n",
      "DAXX               6.069412             5.457889                  0.371231   \n",
      "E2F1               5.928112             4.714232                  1.108235   \n",
      "ETS1               2.013982             5.266421                  5.248042   \n",
      "ETV1               2.189494             4.191405                  3.895085   \n",
      "EZH2                 6.1258             5.226942                  1.217356   \n",
      "FADD               4.597659             5.133963                  0.939653   \n",
      "FGFR3              3.076441             1.241584                  3.948990   \n",
      "FOXA1              6.125653             0.810763                  4.719418   \n",
      "FRS2               4.673724             3.387037                  1.761123   \n",
      "IDH1               5.587012             6.567505                  0.659572   \n",
      "JUN                5.694506             4.275132                  1.082630   \n",
      "LDHA               8.963388             9.738868                  0.717295   \n",
      "MED12              4.530047             4.101284                  0.358259   \n",
      "MXI1               4.433482             5.544974                  1.226865   \n",
      "MYC                  3.6669             6.088716                  5.989216   \n",
      "RUNX2              1.050471             2.275816                  0.822885   \n",
      "SMO                1.397953             3.240321                  2.349121   \n",
      "SPOP               5.639629             5.069658                  0.354597   \n",
      "ZBTB17             4.789194             4.314563                  0.612875   \n",
      "\n",
      "        Group Sensitive Variance   P-value  \n",
      "APAF1                   0.349764  0.000737  \n",
      "ATM                     1.428368  0.022519  \n",
      "BAD                     0.348568  0.000047  \n",
      "BCL2                    0.786149  0.023018  \n",
      "BIRC5                   1.021507  0.005992  \n",
      "COX4I2                  0.000000  0.002460  \n",
      "DAXX                    0.477767  0.008342  \n",
      "E2F1                    0.566966  0.000314  \n",
      "ETS1                    3.092306  0.000387  \n",
      "ETV1                    1.891655  0.003209  \n",
      "EZH2                    0.984916  0.014591  \n",
      "FADD                    0.445278  0.004346  \n",
      "FGFR3                   2.620573  0.002606  \n",
      "FOXA1                   1.357682  0.000008  \n",
      "FRS2                    0.776740  0.000621  \n",
      "IDH1                    0.627561  0.000839  \n",
      "JUN                     3.323063  0.007903  \n",
      "LDHA                    0.690270  0.009008  \n",
      "MED12                   0.229501  0.010267  \n",
      "MXI1                    1.797027  0.010921  \n",
      "MYC                     3.080084  0.004800  \n",
      "RUNX2                   2.002527  0.004404  \n",
      "SMO                     3.072683  0.012854  \n",
      "SPOP                    0.610452  0.020109  \n",
      "ZBTB17                  0.122626  0.022444  \n"
     ]
    },
    {
     "name": "stderr",
     "output_type": "stream",
     "text": [
      "/Users/romane/repos/icr/Attractor-Resistance/.env/lib/python3.13/site-packages/scipy/stats/_axis_nan_policy.py:586: UserWarning: scipy.stats.shapiro: Input data has range zero. The results may not be accurate.\n",
      "  res = hypotest_fun_out(*samples, **kwds)\n"
     ]
    }
   ],
   "source": [
    "# identify the patients id that show this condition-phenotype pair \n",
    "\n",
    "# save every gene enrichment dataframe in a dictionary of index condtion_phenotype\n",
    "indexes_list = []\n",
    "for condition, phenotype in conditions_phenotypes_df.values:\n",
    "    indexes_list.append(f'{condition}_{phenotype}')\n",
    "results_genes_enrich = {key: None for key in indexes_list}\n",
    "\n",
    "for condition, phenotype in conditions_phenotypes_df.values:\n",
    "    genes_stats_results, resistant_group_ids, sensitive_group_ids = compute_genes_mean_signature(rna_seq_data_filtered, \n",
    "    folder_result, phenotype, condition, patients_phenot_table, top_resistant_ids, top_sensitive_ids)\n",
    "    if isinstance(genes_stats_results, pd.DataFrame):\n",
    "        results_genes_enrich[f'{condition}_{phenotype}'] = genes_stats_results\n",
    "        "
   ]
  },
  {
   "cell_type": "markdown",
   "id": "478874e0",
   "metadata": {},
   "source": [
    "Step 11: check there is not correlation between phenotype distribution and cancer type \n"
   ]
  },
  {
   "cell_type": "markdown",
   "id": "b4bf8482",
   "metadata": {},
   "source": [
    "Gene enrichment for EGF Proliferation (as required 19 patients in each group and statistically relevant with Mannwhiteney test)"
   ]
  },
  {
   "cell_type": "code",
   "execution_count": 163,
   "id": "aab3847f",
   "metadata": {},
   "outputs": [
    {
     "data": {
      "text/html": [
       "<div>\n",
       "<style scoped>\n",
       "    .dataframe tbody tr th:only-of-type {\n",
       "        vertical-align: middle;\n",
       "    }\n",
       "\n",
       "    .dataframe tbody tr th {\n",
       "        vertical-align: top;\n",
       "    }\n",
       "\n",
       "    .dataframe thead th {\n",
       "        text-align: right;\n",
       "    }\n",
       "</style>\n",
       "<table border=\"1\" class=\"dataframe\">\n",
       "  <thead>\n",
       "    <tr style=\"text-align: right;\">\n",
       "      <th></th>\n",
       "      <th>Group Resistant Mean</th>\n",
       "      <th>Group Sensitive Mean</th>\n",
       "      <th>Group Resistant Variance</th>\n",
       "      <th>Group Sensitive Variance</th>\n",
       "      <th>P-value</th>\n",
       "      <th>diff_means</th>\n",
       "    </tr>\n",
       "  </thead>\n",
       "  <tbody>\n",
       "    <tr>\n",
       "      <th>FOXA1</th>\n",
       "      <td>6.138972</td>\n",
       "      <td>0.810763</td>\n",
       "      <td>4.444998</td>\n",
       "      <td>1.357682</td>\n",
       "      <td>0.000005</td>\n",
       "      <td>5.328209</td>\n",
       "    </tr>\n",
       "    <tr>\n",
       "      <th>FGFR3</th>\n",
       "      <td>3.083833</td>\n",
       "      <td>1.241584</td>\n",
       "      <td>3.717680</td>\n",
       "      <td>2.620573</td>\n",
       "      <td>0.002038</td>\n",
       "      <td>1.842249</td>\n",
       "    </tr>\n",
       "    <tr>\n",
       "      <th>JUN</th>\n",
       "      <td>5.705689</td>\n",
       "      <td>4.275132</td>\n",
       "      <td>1.021197</td>\n",
       "      <td>3.323063</td>\n",
       "      <td>0.005948</td>\n",
       "      <td>1.430557</td>\n",
       "    </tr>\n",
       "    <tr>\n",
       "      <th>FRS2</th>\n",
       "      <td>4.566767</td>\n",
       "      <td>3.387037</td>\n",
       "      <td>1.863444</td>\n",
       "      <td>0.776740</td>\n",
       "      <td>0.001840</td>\n",
       "      <td>1.17973</td>\n",
       "    </tr>\n",
       "    <tr>\n",
       "      <th>BCL2</th>\n",
       "      <td>3.056356</td>\n",
       "      <td>1.890132</td>\n",
       "      <td>4.427137</td>\n",
       "      <td>0.786149</td>\n",
       "      <td>0.033114</td>\n",
       "      <td>1.166224</td>\n",
       "    </tr>\n",
       "    <tr>\n",
       "      <th>E2F1</th>\n",
       "      <td>5.857372</td>\n",
       "      <td>4.714232</td>\n",
       "      <td>1.133118</td>\n",
       "      <td>0.566966</td>\n",
       "      <td>0.000574</td>\n",
       "      <td>1.143141</td>\n",
       "    </tr>\n",
       "    <tr>\n",
       "      <th>APAF1</th>\n",
       "      <td>3.844061</td>\n",
       "      <td>2.972342</td>\n",
       "      <td>0.885300</td>\n",
       "      <td>0.349764</td>\n",
       "      <td>0.001728</td>\n",
       "      <td>0.871719</td>\n",
       "    </tr>\n",
       "    <tr>\n",
       "      <th>EZH2</th>\n",
       "      <td>6.094678</td>\n",
       "      <td>5.226942</td>\n",
       "      <td>1.163182</td>\n",
       "      <td>0.984916</td>\n",
       "      <td>0.015358</td>\n",
       "      <td>0.867736</td>\n",
       "    </tr>\n",
       "    <tr>\n",
       "      <th>BIRC5</th>\n",
       "      <td>6.562172</td>\n",
       "      <td>5.701453</td>\n",
       "      <td>0.608337</td>\n",
       "      <td>1.021507</td>\n",
       "      <td>0.006602</td>\n",
       "      <td>0.86072</td>\n",
       "    </tr>\n",
       "    <tr>\n",
       "      <th>BAD</th>\n",
       "      <td>6.209117</td>\n",
       "      <td>5.366679</td>\n",
       "      <td>0.344646</td>\n",
       "      <td>0.348568</td>\n",
       "      <td>0.000112</td>\n",
       "      <td>0.842438</td>\n",
       "    </tr>\n",
       "    <tr>\n",
       "      <th>DAXX</th>\n",
       "      <td>6.025833</td>\n",
       "      <td>5.457889</td>\n",
       "      <td>0.383577</td>\n",
       "      <td>0.477767</td>\n",
       "      <td>0.012696</td>\n",
       "      <td>0.567944</td>\n",
       "    </tr>\n",
       "    <tr>\n",
       "      <th>SPOP</th>\n",
       "      <td>5.574172</td>\n",
       "      <td>5.069658</td>\n",
       "      <td>0.410862</td>\n",
       "      <td>0.610452</td>\n",
       "      <td>0.039361</td>\n",
       "      <td>0.504514</td>\n",
       "    </tr>\n",
       "    <tr>\n",
       "      <th>ZBTB17</th>\n",
       "      <td>4.727217</td>\n",
       "      <td>4.314563</td>\n",
       "      <td>0.645966</td>\n",
       "      <td>0.122626</td>\n",
       "      <td>0.048560</td>\n",
       "      <td>0.412654</td>\n",
       "    </tr>\n",
       "    <tr>\n",
       "      <th>MED12</th>\n",
       "      <td>4.491372</td>\n",
       "      <td>4.101284</td>\n",
       "      <td>0.364108</td>\n",
       "      <td>0.229501</td>\n",
       "      <td>0.035752</td>\n",
       "      <td>0.390088</td>\n",
       "    </tr>\n",
       "    <tr>\n",
       "      <th>COX4I2</th>\n",
       "      <td>0.115033</td>\n",
       "      <td>0.0</td>\n",
       "      <td>0.072946</td>\n",
       "      <td>0.000000</td>\n",
       "      <td>0.003328</td>\n",
       "      <td>0.115033</td>\n",
       "    </tr>\n",
       "    <tr>\n",
       "      <th>FADD</th>\n",
       "      <td>4.592983</td>\n",
       "      <td>5.133963</td>\n",
       "      <td>0.884773</td>\n",
       "      <td>0.445278</td>\n",
       "      <td>0.003709</td>\n",
       "      <td>-0.54098</td>\n",
       "    </tr>\n",
       "    <tr>\n",
       "      <th>LDHA</th>\n",
       "      <td>8.999633</td>\n",
       "      <td>9.738868</td>\n",
       "      <td>0.698748</td>\n",
       "      <td>0.690270</td>\n",
       "      <td>0.010686</td>\n",
       "      <td>-0.739235</td>\n",
       "    </tr>\n",
       "    <tr>\n",
       "      <th>IDH1</th>\n",
       "      <td>5.679211</td>\n",
       "      <td>6.567505</td>\n",
       "      <td>0.773787</td>\n",
       "      <td>0.627561</td>\n",
       "      <td>0.002685</td>\n",
       "      <td>-0.888294</td>\n",
       "    </tr>\n",
       "    <tr>\n",
       "      <th>ATM</th>\n",
       "      <td>4.312211</td>\n",
       "      <td>5.328063</td>\n",
       "      <td>1.296277</td>\n",
       "      <td>1.428368</td>\n",
       "      <td>0.012172</td>\n",
       "      <td>-1.015852</td>\n",
       "    </tr>\n",
       "    <tr>\n",
       "      <th>MXI1</th>\n",
       "      <td>4.400678</td>\n",
       "      <td>5.544974</td>\n",
       "      <td>1.174067</td>\n",
       "      <td>1.797027</td>\n",
       "      <td>0.007357</td>\n",
       "      <td>-1.144296</td>\n",
       "    </tr>\n",
       "    <tr>\n",
       "      <th>RUNX2</th>\n",
       "      <td>1.026194</td>\n",
       "      <td>2.275816</td>\n",
       "      <td>0.785088</td>\n",
       "      <td>2.002527</td>\n",
       "      <td>0.002933</td>\n",
       "      <td>-1.249621</td>\n",
       "    </tr>\n",
       "    <tr>\n",
       "      <th>TWIST1</th>\n",
       "      <td>1.8141</td>\n",
       "      <td>3.419421</td>\n",
       "      <td>4.216184</td>\n",
       "      <td>2.874976</td>\n",
       "      <td>0.043283</td>\n",
       "      <td>-1.605321</td>\n",
       "    </tr>\n",
       "    <tr>\n",
       "      <th>SMO</th>\n",
       "      <td>1.403667</td>\n",
       "      <td>3.240321</td>\n",
       "      <td>2.211526</td>\n",
       "      <td>3.072683</td>\n",
       "      <td>0.010686</td>\n",
       "      <td>-1.836654</td>\n",
       "    </tr>\n",
       "    <tr>\n",
       "      <th>ETV1</th>\n",
       "      <td>2.108478</td>\n",
       "      <td>4.191405</td>\n",
       "      <td>3.784108</td>\n",
       "      <td>1.891655</td>\n",
       "      <td>0.002041</td>\n",
       "      <td>-2.082927</td>\n",
       "    </tr>\n",
       "    <tr>\n",
       "      <th>MYC</th>\n",
       "      <td>3.923439</td>\n",
       "      <td>6.088716</td>\n",
       "      <td>6.821529</td>\n",
       "      <td>3.080084</td>\n",
       "      <td>0.015703</td>\n",
       "      <td>-2.165277</td>\n",
       "    </tr>\n",
       "    <tr>\n",
       "      <th>ETS1</th>\n",
       "      <td>2.045839</td>\n",
       "      <td>5.266421</td>\n",
       "      <td>4.957601</td>\n",
       "      <td>3.092306</td>\n",
       "      <td>0.000251</td>\n",
       "      <td>-3.220582</td>\n",
       "    </tr>\n",
       "  </tbody>\n",
       "</table>\n",
       "</div>"
      ],
      "text/plain": [
       "       Group Resistant Mean Group Sensitive Mean  Group Resistant Variance  \\\n",
       "FOXA1              6.138972             0.810763                  4.444998   \n",
       "FGFR3              3.083833             1.241584                  3.717680   \n",
       "JUN                5.705689             4.275132                  1.021197   \n",
       "FRS2               4.566767             3.387037                  1.863444   \n",
       "BCL2               3.056356             1.890132                  4.427137   \n",
       "E2F1               5.857372             4.714232                  1.133118   \n",
       "APAF1              3.844061             2.972342                  0.885300   \n",
       "EZH2               6.094678             5.226942                  1.163182   \n",
       "BIRC5              6.562172             5.701453                  0.608337   \n",
       "BAD                6.209117             5.366679                  0.344646   \n",
       "DAXX               6.025833             5.457889                  0.383577   \n",
       "SPOP               5.574172             5.069658                  0.410862   \n",
       "ZBTB17             4.727217             4.314563                  0.645966   \n",
       "MED12              4.491372             4.101284                  0.364108   \n",
       "COX4I2             0.115033                  0.0                  0.072946   \n",
       "FADD               4.592983             5.133963                  0.884773   \n",
       "LDHA               8.999633             9.738868                  0.698748   \n",
       "IDH1               5.679211             6.567505                  0.773787   \n",
       "ATM                4.312211             5.328063                  1.296277   \n",
       "MXI1               4.400678             5.544974                  1.174067   \n",
       "RUNX2              1.026194             2.275816                  0.785088   \n",
       "TWIST1               1.8141             3.419421                  4.216184   \n",
       "SMO                1.403667             3.240321                  2.211526   \n",
       "ETV1               2.108478             4.191405                  3.784108   \n",
       "MYC                3.923439             6.088716                  6.821529   \n",
       "ETS1               2.045839             5.266421                  4.957601   \n",
       "\n",
       "        Group Sensitive Variance   P-value diff_means  \n",
       "FOXA1                   1.357682  0.000005   5.328209  \n",
       "FGFR3                   2.620573  0.002038   1.842249  \n",
       "JUN                     3.323063  0.005948   1.430557  \n",
       "FRS2                    0.776740  0.001840    1.17973  \n",
       "BCL2                    0.786149  0.033114   1.166224  \n",
       "E2F1                    0.566966  0.000574   1.143141  \n",
       "APAF1                   0.349764  0.001728   0.871719  \n",
       "EZH2                    0.984916  0.015358   0.867736  \n",
       "BIRC5                   1.021507  0.006602    0.86072  \n",
       "BAD                     0.348568  0.000112   0.842438  \n",
       "DAXX                    0.477767  0.012696   0.567944  \n",
       "SPOP                    0.610452  0.039361   0.504514  \n",
       "ZBTB17                  0.122626  0.048560   0.412654  \n",
       "MED12                   0.229501  0.035752   0.390088  \n",
       "COX4I2                  0.000000  0.003328   0.115033  \n",
       "FADD                    0.445278  0.003709   -0.54098  \n",
       "LDHA                    0.690270  0.010686  -0.739235  \n",
       "IDH1                    0.627561  0.002685  -0.888294  \n",
       "ATM                     1.428368  0.012172  -1.015852  \n",
       "MXI1                    1.797027  0.007357  -1.144296  \n",
       "RUNX2                   2.002527  0.002933  -1.249621  \n",
       "TWIST1                  2.874976  0.043283  -1.605321  \n",
       "SMO                     3.072683  0.010686  -1.836654  \n",
       "ETV1                    1.891655  0.002041  -2.082927  \n",
       "MYC                     3.080084  0.015703  -2.165277  \n",
       "ETS1                    3.092306  0.000251  -3.220582  "
      ]
     },
     "execution_count": 163,
     "metadata": {},
     "output_type": "execute_result"
    }
   ],
   "source": [
    "results_egf_prolif = results_genes_enrich['EGF_Proliferation']\n",
    "results_egf_prolif['diff_means'] = results_egf_prolif['Group Resistant Mean'] - results_egf_prolif['Group Sensitive Mean'] \n",
    "results_egf_prolif.sort_values(by = 'P-value', ascending=True).head()\n",
    "\n",
    "results_egf_prolif.sort_values(by = 'diff_means', ascending=False)"
   ]
  },
  {
   "cell_type": "markdown",
   "id": "7427a44d",
   "metadata": {},
   "source": [
    "Results:\n",
    "- FOXA1: TF, key roles in hormone receptor signaling and modulates tumor growth and metastatic potential\n",
    "- FGFR3: receptor tyrosine kinase for FGF ligands, promoting cell prolif (frequently overexpressed in cancers)\n",
    "- FRS2: overexpressed in several cancers, enhancing proliferative/ migratory responses\n",
    "- BCL2, BIRC5: anti-apoptotic protein -> promotes cell survival by inhibiting programmed cell death pathways; for overepxressed in cancer to evade apoptois.\n",
    "- EZH2: silencing TSG via H3K27 trimethylation, overexpression linked to aggressive, proliferative cancers"
   ]
  },
  {
   "cell_type": "code",
   "execution_count": 33,
   "id": "1ea494fd",
   "metadata": {},
   "outputs": [
    {
     "data": {
      "text/plain": [
       "16"
      ]
     },
     "execution_count": 33,
     "metadata": {},
     "output_type": "execute_result"
    }
   ],
   "source": [
    "len(resistant_group_ids)\n",
    "len(sensitive_group_ids)"
   ]
  },
  {
   "cell_type": "markdown",
   "id": "26218d8e",
   "metadata": {},
   "source": [
    "Identify if this FOXA1 overexpression is not related to tissue "
   ]
  },
  {
   "cell_type": "code",
   "execution_count": null,
   "id": "639c6f09",
   "metadata": {},
   "outputs": [],
   "source": [
    "resistant_group_ids_models = annotations_models[annotations_models['model_id'].isin(resistant_group_ids)].copy()\n",
    "sensitive_group_ids_models = annotations_models[annotations_models['model_id'].isin(sensitive_group_ids)].copy()"
   ]
  },
  {
   "cell_type": "code",
   "execution_count": 152,
   "id": "a879ea29",
   "metadata": {},
   "outputs": [
    {
     "name": "stdout",
     "output_type": "stream",
     "text": [
      "tissue\n",
      "BREAST                       0.060976\n",
      "LUNG                         0.031546\n",
      "PERIPHERAL NERVOUS SYSTEM    0.019608\n",
      "Name: count, dtype: float64\n",
      "tissue\n",
      "BREAST                       0.012195\n",
      "LARGE INTESTINE              0.004505\n",
      "PERIPHERAL NERVOUS SYSTEM    0.019608\n",
      "SKIN                         0.096296\n",
      "STOMACH                      0.019231\n",
      "THYROID                      0.080000\n",
      "Name: count, dtype: float64\n"
     ]
    }
   ],
   "source": [
    "resistant_counts = resistant_group_ids_models['tissue'].value_counts()\n",
    "total_counts = annotations_models['tissue'].value_counts()\n",
    "fraction_resistant = resistant_counts / total_counts\n",
    "print(fraction_resistant[fraction_resistant.notna()])\n",
    "\n",
    "\n",
    "sensitive_counts = sensitive_group_ids_models['tissue'].value_counts()\n",
    "total_counts_sens = annotations_models['tissue'].value_counts()\n",
    "fraction_sensitive = sensitive_counts / total_counts_sens\n",
    "print(fraction_sensitive[fraction_sensitive.notna()])\n"
   ]
  },
  {
   "cell_type": "markdown",
   "id": "48ba1363",
   "metadata": {},
   "source": [
    "Result: As the ratio do not vary that much, the results observed do not seem to be tissue-dependent"
   ]
  },
  {
   "cell_type": "code",
   "execution_count": 155,
   "id": "ac73ca2e",
   "metadata": {},
   "outputs": [
    {
     "name": "stdout",
     "output_type": "stream",
     "text": [
      "gender\n",
      "Male       0.007601\n",
      "Female     0.007018\n",
      "Unknown    0.004444\n",
      "Name: count, dtype: float64\n",
      "gender\n",
      "Female    0.009357\n",
      "Male      0.009291\n",
      "Name: count, dtype: float64\n"
     ]
    }
   ],
   "source": [
    "resistant_counts = resistant_group_ids_models['gender'].value_counts()\n",
    "total_counts = annotations_models['gender'].value_counts()\n",
    "fraction_resistant = resistant_counts / total_counts\n",
    "print(fraction_resistant[fraction_resistant.notna()])\n",
    "\n",
    "\n",
    "sensitive_counts = sensitive_group_ids_models['gender'].value_counts()\n",
    "total_counts_sens = annotations_models['gender'].value_counts()\n",
    "fraction_sensitive = sensitive_counts / total_counts_sens\n",
    "print(fraction_sensitive[fraction_sensitive.notna()])"
   ]
  },
  {
   "cell_type": "markdown",
   "id": "31e31e07",
   "metadata": {},
   "source": [
    "Result: As the ratio do not vary that much, the results observed do not seem to be gender-dependent"
   ]
  },
  {
   "cell_type": "code",
   "execution_count": 156,
   "id": "b2280cbb",
   "metadata": {},
   "outputs": [
    {
     "name": "stdout",
     "output_type": "stream",
     "text": [
      "Required sample size per group: 10.00\n"
     ]
    },
    {
     "name": "stderr",
     "output_type": "stream",
     "text": [
      "/Users/romane/repos/icr/Attractor-Resistance/.env/lib/python3.13/site-packages/statsmodels/stats/power.py:524: ConvergenceWarning: \n",
      "Failed to converge on a solution.\n",
      "\n",
      "  warnings.warn(convergence_doc, ConvergenceWarning)\n",
      "/var/folders/83/pqwsm5cn7vscbq8l3fnf30qr0000gn/T/ipykernel_22072/3150725304.py:45: DeprecationWarning: Conversion of an array with ndim > 0 to a scalar is deprecated, and will error in future. Ensure you extract a single element from your array before performing this operation. (Deprecated NumPy 1.25.)\n",
      "  print(f\"Required sample size per group: {float(sample_size):.2f}\")\n"
     ]
    }
   ],
   "source": [
    "# power calculation for FOXA1\n",
    "\n",
    "foxa1_data_res = list(rna_seq_data_filtered[\n",
    "    (rna_seq_data_filtered['model_id'].isin(resistant_group_ids)) &\n",
    "    (rna_seq_data_filtered['gene_symbol'] == 'FOXA1')\n",
    "]['rsem_tpm'])\n",
    "\n",
    "\n",
    "foxa1_data_sens = list(rna_seq_data_filtered[\n",
    "    (rna_seq_data_filtered['model_id'].isin(sensitive_group_ids)) &\n",
    "    (rna_seq_data_filtered['gene_symbol'] == 'FOXA1')\n",
    "]['rsem_tpm'])\n",
    "\n",
    "\n",
    "res_patients_mean = np.mean(foxa1_data_res)\n",
    "sens_patients_mean = np.mean(foxa1_data_sens)\n",
    "\n",
    "\n",
    "res_patients_std = np.std(foxa1_data_res)\n",
    "sens_patients_std = np.std(foxa1_data_sens)\n",
    "\n",
    "n_res_group = len(resistant_group_ids)\n",
    "n_sens_group = len(sensitive_group_ids)\n",
    "\n",
    "sd_pooled = np.sqrt(\n",
    "    ((n_res_group - 1) * res_patients_std**2 + (n_sens_group - 1) * sens_patients_std**2)\n",
    "    / (n_res_group + n_sens_group - 2)\n",
    ")\n",
    "\n",
    "d = res_patients_mean -sens_patients_mean/sd_pooled\n",
    "\n",
    "\n",
    "# Set parameters\n",
    "effect_size = d              # Cohen's d\n",
    "alpha = 0.05                 # Significance level\n",
    "power = 0.80                 # Desired power\n",
    "alternative = 'two-sided'    # Equivalent to \"two.sample\" in R\n",
    "\n",
    "# Initialize power analysis object\n",
    "analysis = TTestIndPower()\n",
    "\n",
    "# Compute required sample size per group\n",
    "sample_size = analysis.solve_power(effect_size=effect_size, power=power, alpha=alpha, alternative=alternative)\n",
    "\n",
    "print(f\"Required sample size per group: {float(sample_size):.2f}\")\n",
    "\n"
   ]
  }
 ],
 "metadata": {
  "kernelspec": {
   "display_name": ".env",
   "language": "python",
   "name": "python3"
  },
  "language_info": {
   "codemirror_mode": {
    "name": "ipython",
    "version": 3
   },
   "file_extension": ".py",
   "mimetype": "text/x-python",
   "name": "python",
   "nbconvert_exporter": "python",
   "pygments_lexer": "ipython3",
   "version": "3.13.3"
  }
 },
 "nbformat": 4,
 "nbformat_minor": 5
}
