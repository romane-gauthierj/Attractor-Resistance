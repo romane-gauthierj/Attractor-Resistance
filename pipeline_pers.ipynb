{
 "cells": [
  {
   "cell_type": "code",
   "execution_count": null,
   "id": "cea562fe",
   "metadata": {},
   "outputs": [],
   "source": [
    "import maboss\n",
    "import ginsim\n",
    "import pandas as pd \n",
    "import numpy as np\n",
    "\n",
    "\n",
    "from identification_patients.get_patients_sens_res import get_patients\n",
    "\n",
    "from create_generic_models.create_generic_patients_cfgs import create_generic_patients_cfgs_bnds\n",
    "\n",
    "from create_generic_models.update_phenotypes_generic_models import generic_models_update_phenotypes\n",
    "from pre_process_data.pre_process_genes import create_table_rna_seq_patients, process_genes\n",
    "\n",
    "from create_person_models.tailor_cfgs_patients_gene import personalized_patients_genes_cfgs\n",
    "from create_person_models.tailor_bnd_mutations import personalized_patients_mutations_bnds\n",
    "from create_person_models.tailor_bnd_tsg_onco_mutations import tailor_bnd_tsg_onco_mut\n",
    "from create_person_models.tailor_bnd_cnv import tailor_bnd_cnv_cm\n",
    "\n",
    "\n",
    "from MaBoSS_simulation.maboss_phenotype_patient import compute_phenotype_table, compute_phenotype_mean_group_validation, combine_groups_values, compute_phenotype_mean\n",
    "\n",
    "from pre_process_data.identify_mutations_patients import identif_mutations_kras_egfr\n",
    "\n",
    "# # from pre_process_profiles_table_data_lung import create_genes_patients\n",
    "\n",
    "from stats.stats_proba import compute_mannwhitneyu_test_means\n",
    "from results_MaBoSS_visualization.boxplot_phenotype import create_boxplot\n",
    "from results_MaBoSS_visualization.create_phenotypes_patients_table import vizualise_table_phenotype_condition\n",
    "from results_MaBoSS_visualization.patients_ids_phenotype_table import create_table_patients_phenotypes\n",
    "from gene_enrichment.genes_signature import compute_genes_mean_signature\n",
    "from pre_process_data.preprocess_mutations import preprocess_mutations_ds\n",
    "from pre_process_data.pre_process_cnv import preprocess_cnv\n",
    "\n"
   ]
  },
  {
   "cell_type": "code",
   "execution_count": null,
   "id": "251ede88",
   "metadata": {},
   "outputs": [],
   "source": [
    "import os\n",
    "print(os.getcwd())\n"
   ]
  },
  {
   "cell_type": "markdown",
   "id": "ba96ba2f",
   "metadata": {},
   "source": [
    "Step 0: Import data "
   ]
  },
  {
   "cell_type": "code",
   "execution_count": null,
   "id": "543de951",
   "metadata": {},
   "outputs": [],
   "source": [
    "# Import Data\n",
    "\n",
    "annotations_models = pd.read_csv('data/model_list_20250407.csv')\n",
    "mutations_data = pd.read_csv('data/mutations_all_20250318.csv')\n",
    "drug_data = pd.read_csv('data/drug_sensitivity.csv')\n",
    "\n",
    "montagud_data = (\n",
    "    pd.read_csv('data/Montagud_inter_nodes_data.csv', header=1)\n",
    "    .loc[:, ['Target node', 'Interaction type', 'Source']])\n",
    "rna_seq_data = pd.read_csv('data/rnaseq_merged/rnaseq_merged_20250117.csv')\n",
    "cnv_data = pd.read_csv('data/cellmodel_data/cnv_summary_20250207.csv')\n",
    "\n",
    "\n",
    "models_depmap_annotation = pd.read_csv('data/cellmodel_data/model_list_20250423.csv')\n",
    "mutations_data_depseq = pd.read_csv('data/depmap_data/OmicsSomaticMutations.csv')\n",
    "\n",
    "\n"
   ]
  },
  {
   "cell_type": "code",
   "execution_count": null,
   "id": "7c8a8476",
   "metadata": {},
   "outputs": [],
   "source": [
    "# chose folder where we want all the personalized boolean models and associated results saved \n",
    "drug_interest = 'Refametinib' #Pictilisib, 'Avagacestat' AZD8931 \n",
    "tissue_interest = 'PAN_CANCER'\n",
    "tissue_remove = 'Haematopoietic and Lymphoid'\n",
    "\n",
    "folder_pers_models=f'models/personalized_boolean_{drug_interest}_{tissue_interest}'\n",
    "folder_result = f'results/{drug_interest}_{tissue_interest}'\n",
    "folder_result_resistant = f'{folder_result}/resistant_results/only_gene_expression/single_input_on/phenotype_distribution_patients'\n",
    "folder_result_sensitive = f'{folder_result}/sensitive_results/only_gene_expression/single_input_on/phenotype_distribution_patients'\n",
    "folder_result_res_sen = f'{folder_result}/sensitive_resistant_results/genes_diff_expressed'\n",
    "\n",
    "\n",
    "os.makedirs(folder_result_resistant, exist_ok=True)\n",
    "os.makedirs(folder_result_sensitive, exist_ok=True)\n",
    "os.makedirs(folder_result_res_sen, exist_ok=True)\n",
    "\n",
    "\n",
    "\n",
    "\n",
    "# Output directories\n",
    "output_dir_resistant = f'{folder_pers_models}/resistant_patient/generic_models'\n",
    "output_dir_sec_resistant = f'{folder_pers_models}/resistant_patient/personalized_boolean_modified/models_gene_expression'\n",
    "output_dir_sensitive = f'{folder_pers_models}/sensitive_patient/generic_models'\n",
    "output_dir_sec_sensitive = f'{folder_pers_models}/sensitive_patient/personalized_boolean_modified/models_gene_expression'\n",
    "bnd_dir_res = f'{folder_pers_models}/resistant_patient/personalized_boolean_modified/models_gene_expression'\n",
    "bnd_dir_sens = f'{folder_pers_models}/sensitive_patient/personalized_boolean_modified/models_gene_expression'\n",
    "\n",
    "os.makedirs(bnd_dir_sens, exist_ok=True)\n",
    "os.makedirs(bnd_dir_res, exist_ok=True)\n",
    "\n",
    "os.makedirs(output_dir_sec_resistant, exist_ok=True)\n",
    "os.makedirs(output_dir_sec_sensitive, exist_ok=True)\n"
   ]
  },
  {
   "cell_type": "markdown",
   "id": "631374cd",
   "metadata": {},
   "source": [
    "Step 1: Pre-process data- Montagud nodes, rna-seq (filtered with patients IDs and Montagud nodes)"
   ]
  },
  {
   "cell_type": "code",
   "execution_count": null,
   "id": "a6a0b59a",
   "metadata": {},
   "outputs": [],
   "source": [
    "# Pre-process Montagud nodes\n",
    "\n",
    "# Keep only the nodes of montagud not specific to Prostate \n",
    "montagud_nodes = list(set(montagud_data['Target node'].tolist() + montagud_data['Source'].tolist()))\n",
    "montagud_nodes = [node for node in montagud_nodes if node != '0/1']\n",
    "montagud_nodes = [node.upper() for node in montagud_nodes if isinstance(node, str)]\n",
    "to_remove = ['FUSED_EVENT', 'AR_ERG']\n",
    "\n",
    "montagud_nodes = [node for node in montagud_nodes if node not in to_remove]\n",
    "montagud_nodes = list(set(montagud_nodes))"
   ]
  },
  {
   "cell_type": "markdown",
   "id": "a5db46ca",
   "metadata": {},
   "source": [
    "Step 1: Check what drug is the best to keep (the one with most resistant and sensitive)"
   ]
  },
  {
   "cell_type": "code",
   "execution_count": null,
   "id": "a0562c6f",
   "metadata": {},
   "outputs": [],
   "source": [
    "# results = {}\n",
    "# drug_interests = drug_data['DRUG_NAME'].unique().tolist()\n",
    "\n",
    "# for drug in drug_interests:\n",
    "#     top_resistant_ids, top_sensitive_ids, drug_data_filtered = get_patients(500, drug_data, annotations_models, drug, tissue_remove)\n",
    "#     patients_ids = top_resistant_ids + top_sensitive_ids\n",
    "\n",
    "#     drug_tissue_filtered = drug_data_filtered[drug_data_filtered['SANGER_MODEL_ID'].isin(patients_ids)]    \n",
    "#     results[drug] = {\n",
    "#          \"name\": drug,\n",
    "#          \"<-1.5\": float((drug_tissue_filtered['Z_SCORE'] < -1.5).sum()),\n",
    "#          \">1.5\": float((drug_tissue_filtered['Z_SCORE'] > 1.5).sum()),\n",
    "#          \"mean\": float(drug_tissue_filtered['Z_SCORE'].mean()),\n",
    "#          \"std\": float(drug_tissue_filtered['Z_SCORE'].std()),\n",
    "#          \"abs_zscore\": float(drug_tissue_filtered['Z_SCORE'].abs().mean()),\n",
    "#      }\n",
    "\n",
    "# pd_results = pd.DataFrame(results.values())\n",
    "# pd_results.to_csv(f'{folder_result}/drug_analysis.csv', index=False)\n",
    "\n",
    "\n"
   ]
  },
  {
   "cell_type": "markdown",
   "id": "66844528",
   "metadata": {},
   "source": [
    "Step 2: Select cancer and drug of interest (tissue_interest, drug_interest)\n",
    "Get the 100 most sensitive patient\n",
    "Pre-process data\n"
   ]
  },
  {
   "cell_type": "code",
   "execution_count": null,
   "id": "1c471ff9",
   "metadata": {},
   "outputs": [],
   "source": [
    "# Get patients IDs\n",
    "\n",
    "# changed the drug name to Pictilisib !!!!\n",
    "\n",
    "# top_resistant_ids, top_sensitive_ids= get_patients(drug_data, annotations_models, drug_interest, tissue_interest)\n",
    "top_resistant_ids, top_sensitive_ids, drug_tissue_data= get_patients(20, drug_data, annotations_models, drug_interest, tissue_interest = None, tissue_remove = tissue_remove)\n",
    "patients_ids = top_sensitive_ids + top_resistant_ids"
   ]
  },
  {
   "cell_type": "code",
   "execution_count": null,
   "id": "8a9c1e8e",
   "metadata": {},
   "outputs": [],
   "source": [
    "# Pre-process RNA seq data (keep only montagud_nodes and patients ids) and create table for high and low expression\n",
    "rna_seq_data_filtered = process_genes(patients_ids, montagud_nodes, rna_seq_data)\n",
    "table_rna_seq_patients = create_table_rna_seq_patients(rna_seq_data_filtered)\n"
   ]
  },
  {
   "cell_type": "code",
   "execution_count": null,
   "id": "7b458dac",
   "metadata": {},
   "outputs": [],
   "source": [
    "# select only the patients id with gene expression data!!\n",
    "\n",
    "patients_rna_data_res = list(set(table_rna_seq_patients.index) & set(top_resistant_ids))\n",
    "top_resistant_ids = patients_rna_data_res\n",
    "# print(top_resistant_ids)\n",
    "# print(len(top_resistant_ids))\n",
    "\n",
    "\n",
    "patients_rna_data_sens= list(set(table_rna_seq_patients.index) & set(top_sensitive_ids))\n",
    "top_sensitive_ids = patients_rna_data_sens\n",
    "print(top_sensitive_ids)\n",
    "print(len(top_sensitive_ids))\n",
    "\n",
    "\n",
    "patients_ids = top_resistant_ids + top_sensitive_ids"
   ]
  },
  {
   "cell_type": "code",
   "execution_count": null,
   "id": "6ff5c86b",
   "metadata": {},
   "outputs": [],
   "source": [
    "# mutations_data_filtered_combined = preprocess_mutations_ds(patients_ids, models_depmap_annotation, mutations_data_depseq,montagud_nodes)\n",
    "# print(mutations_data_filtered_combined)"
   ]
  },
  {
   "cell_type": "code",
   "execution_count": null,
   "id": "abfece30",
   "metadata": {},
   "outputs": [],
   "source": [
    "# preprocess cnv\n",
    "cnv_data_filtered = preprocess_cnv(cnv_data, montagud_nodes,patients_ids)\n",
    "print(cnv_data_filtered)"
   ]
  },
  {
   "cell_type": "markdown",
   "id": "101b893a",
   "metadata": {},
   "source": [
    "Step 3: Create generic boolean networks with the sensitive and resistant ID names\n"
   ]
  },
  {
   "cell_type": "code",
   "execution_count": null,
   "id": "509fe0ef",
   "metadata": {},
   "outputs": [],
   "source": [
    "folder_generic_models_cfg = 'models/generic_models/Montagud2022_PAN_Cancer.cfg'\n",
    "folder_generic_models_bnd = 'models/generic_models/Montagud2022_PAN_Cancer.bnd'\n",
    "# create_generic_patients_cfgs_bnds(folder_generic_models_cfg, folder_generic_models_bnd, folder_pers_models, top_resistant_ids, top_sensitive_ids, drug_interest, tissue_interest)\n"
   ]
  },
  {
   "cell_type": "code",
   "execution_count": null,
   "id": "446d42ec",
   "metadata": {},
   "outputs": [],
   "source": [
    "# specify the phenotypes of interest for the analysis\n",
    "\n",
    "phenotype_interest = [\"Proliferation\",\"Invasion\",\"DNA_Repair\",\"Migration\",\"Apoptosis\"]\n",
    "original_data_dir_res = \"models/personalized_boolean_Refametinib_PAN_CANCER/resistant_patient/generic_models\"\n",
    "results_dir_res = \"models/personalized_boolean_Refametinib_PAN_CANCER/resistant_patient/generic_models\"\n",
    "\n",
    "original_data_dir_sens = \"models/personalized_boolean_Refametinib_PAN_CANCER/sensitive_patient/generic_models\"\n",
    "results_dir_sens = \"models/personalized_boolean_Refametinib_PAN_CANCER/sensitive_patient/generic_models\"\n",
    "\n",
    "# generic_models_update_phenotypes(phenotype_interest, original_data_dir_res, results_dir_res)\n",
    "# generic_models_update_phenotypes(phenotype_interest, original_data_dir_sens, results_dir_sens)\n"
   ]
  },
  {
   "cell_type": "markdown",
   "id": "ca027a3d",
   "metadata": {},
   "source": [
    "Step 4: Personalize the cfg files with genes/ proteins\n"
   ]
  },
  {
   "cell_type": "code",
   "execution_count": null,
   "id": "eb7c650c",
   "metadata": {},
   "outputs": [],
   "source": [
    "print(output_dir_resistant)\n",
    "print(output_dir_sec_resistant)\n",
    "\n",
    "print(table_rna_seq_patients.head())\n",
    "print(drug_interest)"
   ]
  },
  {
   "cell_type": "code",
   "execution_count": null,
   "id": "f6c25190",
   "metadata": {},
   "outputs": [],
   "source": [
    "# only three modif for resistant\n",
    "# personalized_patients_genes_cfgs(rna_seq_data, montagud_nodes, output_dir_resistant, output_dir_sec_resistant, patients_ids, table_rna_seq_patients, drug_interest)\n",
    "# personalized_patients_genes_cfgs(rna_seq_data, montagud_nodes, output_dir_sensitive, output_dir_sec_sensitive, patients_ids, table_rna_seq_patients, drug_interest)"
   ]
  },
  {
   "cell_type": "markdown",
   "id": "bead9930",
   "metadata": {},
   "source": [
    "Step 5: Identification of which patients id have KRAS or EGFR mutation\n",
    "personalize the bnd files with the mutations common to Lung (KRAS/ EGFR):"
   ]
  },
  {
   "cell_type": "code",
   "execution_count": null,
   "id": "41d39de4",
   "metadata": {},
   "outputs": [],
   "source": [
    "# personalized_patients_mutations_bnds(mutations_data,patients_ids,bnd_dir_res, drug_interest)\n",
    "# personalized_patients_mutations_bnds(mutations_data,patients_ids,bnd_dir_sens, drug_interest)"
   ]
  },
  {
   "cell_type": "code",
   "execution_count": null,
   "id": "bdd9b96d",
   "metadata": {},
   "outputs": [],
   "source": [
    "print(cnv_data_filtered.head())"
   ]
  },
  {
   "cell_type": "code",
   "execution_count": null,
   "id": "f624b2ca",
   "metadata": {},
   "outputs": [],
   "source": [
    "# tailor_bnd_cnv_cm(cnv_data_filtered,bnd_dir_res, bnd_dir_sens, drug_interest)"
   ]
  },
  {
   "cell_type": "code",
   "execution_count": null,
   "id": "28bb04fd",
   "metadata": {},
   "outputs": [],
   "source": [
    "# tailor_bnd_tsg_onco_mut(mutations_data_filtered_combined,bnd_dir_res, bnd_dir_sens, drug_interest)"
   ]
  },
  {
   "cell_type": "markdown",
   "id": "01754ed5",
   "metadata": {},
   "source": [
    "Step 6: compute the phenotype distribution "
   ]
  },
  {
   "cell_type": "code",
   "execution_count": null,
   "id": "97592343",
   "metadata": {},
   "outputs": [],
   "source": [
    "# dic_patient_resistant =f'{folder_pers_models}/resistant_patient/personalized_boolean_modified/models_gene_expression'\n",
    "# dic_patient_sensitive =f'{folder_pers_models}/sensitive_patient/personalized_boolean_modified/models_gene_expression'\n",
    "# phenotypes_list = phenotype_interest\n",
    "# inputs_list = ['EGF', 'FGF', 'TGFb', 'Nutrients', 'Hypoxia', 'Acidosis', 'Androgen', 'TNFalpha', 'Carcinogen']\n",
    "# patient_res_data_dict = compute_phenotypes_distribution(phenotypes_list, folder_result, dic_patient_resistant, inputs_list, drug_interest, 'resistant')\n",
    "# patient_sens_data_dict = compute_phenotypes_distribution(phenotypes_list, folder_result, dic_patient_sensitive, inputs_list, drug_interest, 'sensitive')\n",
    "# patients_res_df_mean, patients_res_df_std, stats_results_data_res_df = compute_mean_patients(patient_res_data_dict)\n",
    "# patients_sens_df_mean, patients_sens_df_std, stats_results_data_sens_df = compute_mean_patients(patient_sens_data_dict)\n",
    "# patients_res_df_mean.to_csv(f'{folder_result}/resistant_results/only_gene_expression/single_input_on/patients_resistant_df_mean_{drug_interest}.csv', index=True)\n",
    "# patients_res_df_std.to_csv(f'{folder_result}/resistant_results/only_gene_expression/single_input_on/patients_resistant_df_std_{drug_interest}.csv', index=True)\n",
    "# stats_results_data_res_df.to_csv(f'{folder_result}/resistant_results/only_gene_expression/single_input_on/patients_resistant_values_stats_{drug_interest}.csv', index=True)\n",
    "# stats_results_data_sens_df.to_csv(f'{folder_result}/sensitive_results/only_gene_expression/single_input_on/patients_sensitive_values_stats_{drug_interest}.csv', index=True)\n",
    "# patients_sens_df_mean.to_csv(f'{folder_result}/sensitive_results/only_gene_expression/single_input_on/patients_sensitive_df_mean_{drug_interest}.csv', index=True)\n",
    "# patients_sens_df_std.to_csv(f'{folder_result}/sensitive_results/only_gene_expression/single_input_on/patients_sensitive_df_std_{drug_interest}.csv', index=True)\n",
    "\n"
   ]
  },
  {
   "cell_type": "code",
   "execution_count": null,
   "id": "4ca22aaa",
   "metadata": {},
   "outputs": [],
   "source": [
    "# Compute phenotype distribution for each patient\n",
    "folder_models_res = 'models/personalized_boolean_Refametinib_PAN_CANCER/resistant_patient/personalized_boolean_modified/models_gene_expression'\n",
    "folder_save_results_res = 'results/Refametinib_PAN_CANCER/resistant_results/only_gene_expression/single_input_on/phenotype_distribution_patients' \n",
    "folder_models_sens = 'models/personalized_boolean_Refametinib_PAN_CANCER/sensitive_patient/personalized_boolean_modified/models_gene_expression'\n",
    "folder_save_results_sens = 'results/Refametinib_PAN_CANCER/sensitive_results/only_gene_expression/single_input_on/phenotype_distribution_patients' \n",
    "\n",
    "phenotypes_interest = [\n",
    "        \"Proliferation\",\n",
    "        \"Invasion\",\n",
    "        \"DNA_Repair\",\n",
    "        \"Migration\",\n",
    "        \"Apoptosis\",\n",
    "    ]\n",
    "\n",
    "\n",
    "inputs_list = ['EGF', 'FGF', 'TGFB', 'Androgen', 'Hypoxia', 'Nutrients', 'Carcinogen', 'Acidosis', 'TNF', 'SPOP']\n",
    "for patient  in top_resistant_ids:\n",
    "    compute_phenotype_table(folder_save_results_res, folder_models_res, patient, inputs_list, phenotypes_interest, 'Refametinib')\n",
    "    \n",
    "# for patient  in top_sensitive_ids:\n",
    "#     compute_phenotype_table(folder_save_results_sens, folder_models_sens, patient, inputs_list, phenotypes_interest, 'Refametinib')\n",
    "    "
   ]
  },
  {
   "cell_type": "code",
   "execution_count": null,
   "id": "4d881865",
   "metadata": {},
   "outputs": [],
   "source": [
    "# compute mean\n",
    "\n",
    "\n",
    "folder_groups_means_res = \"results/Refametinib_PAN_CANCER/resistant_results/only_gene_expression/single_input_on/phenotype_distribution_patients\"\n",
    "results_mean_folder_res = \"results/Refametinib_PAN_CANCER/resistant_results/only_gene_expression/single_input_on/phenotype_mean\"\n",
    "# to do-> change name (only compute mean not validation)\n",
    "# mean_df =compute_phenotype_mean([\"resistant\"], folder_groups_means_res, results_mean_folder_res)\n",
    "\n",
    "\n",
    "folder_groups_means_sens = \"results/Refametinib_PAN_CANCER/sensitive_results/only_gene_expression/single_input_on/phenotype_distribution_patients\"\n",
    "results_mean_folder_sens = \"results/Refametinib_PAN_CANCER/sensitive_results/only_gene_expression/single_input_on/phenotype_mean\"\n",
    "# to do-> change name (only compute mean not validation)\n",
    "# mean_df =compute_phenotype_mean([\"sensitive\"], folder_groups_means_sens, results_mean_folder_sens)"
   ]
  },
  {
   "cell_type": "code",
   "execution_count": null,
   "id": "d8c0527c",
   "metadata": {},
   "outputs": [],
   "source": [
    "# combine data together \n",
    "\n",
    "from collections import defaultdict\n",
    "\n",
    "def collect_group_data(group_folder_path):\n",
    "    combined_data = defaultdict(lambda: defaultdict(list))\n",
    "\n",
    "    for file in os.listdir(group_folder_path):\n",
    "        if file.startswith(\"_SID\") and file.endswith(\".csv\"):\n",
    "            file_path = os.path.join(group_folder_path, file)\n",
    "            df = pd.read_csv(file_path, index_col=0)\n",
    "\n",
    "            for input_name in df.index:\n",
    "                for phenotype in df.columns:\n",
    "                    value = df.at[input_name, phenotype]\n",
    "                    combined_data[input_name][phenotype].append(float(value))\n",
    "\n",
    "    result_df = pd.DataFrame.from_dict(combined_data, orient='index')\n",
    "    result_df.to_csv(os.path.join(group_folder_path, \"combined_results.csv\"))\n",
    "\n",
    "    return result_df\n",
    "\n",
    "\n",
    "# base_path_res = \"results/Refametinib_PAN_CANCER/resistant_results/only_gene_expression/single_input_on/phenotype_distribution_patients\"\n",
    "# group_df_res = collect_group_data(base_path_res)\n",
    "# print(group_df_res)\n",
    "\n",
    "base_path_sens = \"results/Refametinib_PAN_CANCER/sensitive_results/only_gene_expression/single_input_on/phenotype_distribution_patients\"\n",
    "group_df_sens = collect_group_data(base_path_sens)\n",
    "print(group_df_sens)\n"
   ]
  },
  {
   "cell_type": "code",
   "execution_count": null,
   "id": "14e5c795",
   "metadata": {},
   "outputs": [],
   "source": [
    "# stats test between the two combined dataframes (sensitive vs resistant)\n",
    "\n",
    "res_combined_path = \"results/Refametinib_PAN_CANCER/resistant_results/only_gene_expression/single_input_on/phenotype_distribution_patients/combined_results.csv\"\n",
    "sens_combined_path = \"results/Refametinib_PAN_CANCER/sensitive_results/only_gene_expression/single_input_on/phenotype_distribution_patients/combined_results.csv\"\n",
    "\n",
    "\n",
    "df_res_combined = pd.read_csv(res_combined_path, index_col=0)  # index: inputs, columns: phenotypes\n",
    "df_sens_combined = pd.read_csv(sens_combined_path, index_col=0)\n",
    "\n",
    "print(df_res_combined)\n",
    "# print(df_sens_combined)"
   ]
  },
  {
   "cell_type": "code",
   "execution_count": null,
   "id": "054b80d4",
   "metadata": {},
   "outputs": [],
   "source": [
    "from scipy.stats import kruskal\n",
    "import pandas as pd \n",
    "import ast\n",
    "\n",
    "\n",
    "kruskal_results = pd.DataFrame(index=inputs_list, columns=phenotypes_interest)\n",
    "\n",
    "for input_name in inputs_list:\n",
    "    for phenotype in phenotypes_interest:\n",
    "        group1 = df_res_combined.at[input_name, phenotype]\n",
    "        group2 = df_sens_combined.at[input_name, phenotype]\n",
    "        group1 = ast.literal_eval(group1)\n",
    "        group2 = ast.literal_eval(group2)\n",
    "\n",
    "        if group1 and group2:\n",
    "            stat, pvalue = kruskal(group1, group2)\n",
    "            kruskal_results.at[input_name, phenotype] = pvalue\n",
    "        else:\n",
    "            kruskal_results.at[input_name, phenotype] = None\n",
    "print(kruskal_results)\n",
    "\n",
    "\n",
    "\n",
    "significant_kruskal_results = kruskal_results.applymap(lambda x: x if (x is not None and float(x) < 0.05) else np.nan)\n",
    "print(significant_kruskal_results)\n"
   ]
  },
  {
   "cell_type": "markdown",
   "id": "601cf228",
   "metadata": {},
   "source": [
    "Step 7: Compute stats test between two mean datasets"
   ]
  },
  {
   "cell_type": "code",
   "execution_count": null,
   "id": "ceef3985",
   "metadata": {},
   "outputs": [],
   "source": [
    "# patient_res_stats_values = pd.read_csv(f'{folder_result}/resistant_results/only_gene_expression/single_input_on/patients_resistant_values_stats_{drug_interest}.csv')\n",
    "# patient_sens_stats_values = pd.read_csv(f'{folder_result}/sensitive_results/only_gene_expression/single_input_on/patients_sensitive_values_stats_{drug_interest}.csv')\n",
    "\n",
    "patient_res_stats_values =  pd.read_csv(\"results/Refametinib_PAN_CANCER/resistant_results/only_gene_expression/single_input_on/phenotype_distribution_patients/combined_results.csv\")\n",
    "patient_sens_stats_values = pd.read_csv(\"results/Refametinib_PAN_CANCER/sensitive_results/only_gene_expression/single_input_on/phenotype_distribution_patients/combined_results.csv\")\n",
    "compute_mannwhitneyu_test_means(folder_result,patient_res_stats_values, patient_sens_stats_values, drug_interest)"
   ]
  },
  {
   "cell_type": "markdown",
   "id": "bf053c65",
   "metadata": {},
   "source": [
    "Step 8: Vizualise the boxplot of phenotype distribution output"
   ]
  },
  {
   "cell_type": "code",
   "execution_count": null,
   "id": "662bda1f",
   "metadata": {},
   "outputs": [],
   "source": [
    "# patient_res_values = pd.read_csv(f'{folder_result}/resistant_results/only_gene_expression/single_input_on/patients_resistant_values_stats_{drug_interest}.csv')\n",
    "# patient_sens_values = pd.read_csv(f'{folder_result}/sensitive_results/only_gene_expression/single_input_on/patients_sensitive_values_stats_{drug_interest}.csv')\n",
    "#data_greater_side = pd.read_csv(f'{folder_result}/sensitive_resistant_results/p_values_df_mannwhitneyu_greater_sign_{drug_interest}.csv')\n",
    "\n",
    "\n",
    "patient_res_values = pd.read_csv('results/Refametinib_PAN_CANCER/resistant_results/only_gene_expression/single_input_on/phenotype_distribution_patients/combined_results.csv')\n",
    "patient_sens_values = pd.read_csv('results/Refametinib_PAN_CANCER/sensitive_results/only_gene_expression/single_input_on/phenotype_distribution_patients/combined_results.csv')\n",
    "data_greater_side = pd.read_csv('results/Refametinib_PAN_CANCER/sensitive_resistant_results/p_values_df_mannwhitneyu_greater_sign_Refametinib.csv')\n",
    "\n",
    "data_less_side = pd.read_csv(\"results/Refametinib_PAN_CANCER/sensitive_resistant_results/p_values_df_mannwhitneyu_less_sign_Refametinib.csv\")\n",
    "data_both_side = pd.read_csv(\"results/Refametinib_PAN_CANCER/sensitive_resistant_results/p_values_df_mannwhitneyu_two_sides_Refametinib.csv\")\n",
    "\n",
    "signif_df = pd.concat([data_greater_side, data_less_side, data_both_side], axis=0)\n"
   ]
  },
  {
   "cell_type": "code",
   "execution_count": null,
   "id": "7d6e4449",
   "metadata": {},
   "outputs": [],
   "source": [
    "create_boxplot(patient_res_values, patient_sens_values, signif_df)\n"
   ]
  },
  {
   "cell_type": "markdown",
   "id": "921ef689",
   "metadata": {},
   "source": [
    "Step 9: create table of patients with conditions- phenotype"
   ]
  },
  {
   "cell_type": "code",
   "execution_count": null,
   "id": "8259b991",
   "metadata": {},
   "outputs": [],
   "source": [
    "# dir_res_data = f'{folder_result}/resistant_results/only_gene_expression/single_input_on/phenotype_distribution_patients'\n",
    "# dir_sens_data = f'{folder_result}/sensitive_results/only_gene_expression/single_input_on/phenotype_distribution_patients'\n",
    "# patients_phenot_table = create_table_patients_phenotypes(folder_result, dir_res_data, dir_sens_data)"
   ]
  },
  {
   "cell_type": "markdown",
   "id": "8320efc8",
   "metadata": {},
   "source": [
    "Step 10: Create heatmap figure "
   ]
  },
  {
   "cell_type": "code",
   "execution_count": null,
   "id": "a5ebad17",
   "metadata": {},
   "outputs": [],
   "source": [
    "# patient_resistant_mean = pd.read_csv(f'{folder_result}/resistant_results/only_gene_expression/single_input_on/patients_resistant_df_mean_{drug_interest}.csv')\n",
    "# patient_sensitive_mean = pd.read_csv(f'{folder_result}/sensitive_results/only_gene_expression/single_input_on/patients_sensitive_df_mean_{drug_interest}.csv')\n",
    "# vizualise_table_phenotype_condition(folder_result, patient_resistant_mean, patient_sensitive_mean)"
   ]
  },
  {
   "cell_type": "markdown",
   "id": "e93b4134",
   "metadata": {},
   "source": [
    "Step 11: Identify genes differently expressed in the patients with high "
   ]
  },
  {
   "cell_type": "code",
   "execution_count": null,
   "id": "a417f999",
   "metadata": {},
   "outputs": [],
   "source": [
    "# patients_phenot_table = pd.read_csv(f'{folder_result}/sensitive_resistant_results/patients_phenot_table.csv')\n",
    "# genes_stats_results_metast_TGFb,  len_resistant_group_id_metast_TGFb, len_sensitive_group_ids_metast_TGFb = compute_genes_mean_signature(rna_seq_data_filtered, folder_result, 'Metastasis', 'TGFb', patients_phenot_table, top_resistant_ids, top_sensitive_ids)\n",
    "# genes_stats_results_prolif_egf,  len_resistant_group_ids_prolif_egf, len_sensitive_group_ids_prolif_egf = compute_genes_mean_signature(rna_seq_data_filtered, folder_result, 'Proliferation', 'EGF', patients_phenot_table, top_resistant_ids, top_sensitive_ids)"
   ]
  },
  {
   "cell_type": "code",
   "execution_count": null,
   "id": "4d139e43",
   "metadata": {},
   "outputs": [],
   "source": [
    "# print(len_resistant_group_id_metast_TGFb)\n",
    "# print(len_sensitive_group_ids_metast_TGFb)\n",
    "\n",
    "# print(len_resistant_group_ids_prolif_egf)\n",
    "# print(len_sensitive_group_ids_prolif_egf)"
   ]
  },
  {
   "cell_type": "markdown",
   "id": "478874e0",
   "metadata": {},
   "source": [
    "Step 11: check there is not correlation between phenotype distribution and cancer type \n"
   ]
  },
  {
   "cell_type": "code",
   "execution_count": null,
   "id": "af833d63",
   "metadata": {},
   "outputs": [],
   "source": [
    "# patients_phenot_table['SANGER_MODEL_ID'] = patients_phenot_table['Unnamed: 0'].str.split('_').str[0]\n",
    "# conditions = [\n",
    "#     patients_phenot_table['SANGER_MODEL_ID'].isin(top_resistant_ids),\n",
    "#     patients_phenot_table['SANGER_MODEL_ID'].isin(top_sensitive_ids)\n",
    "#     ]\n",
    "# choices = ['Resistant', 'Sensitive']\n",
    "# patients_phenot_table.loc[:,'Drug status'] = np.select(conditions, choices, default = '')\n",
    "\n",
    "\n",
    "\n",
    "# ids_tissue_data = drug_tissue_data[['SANGER_MODEL_ID', 'tissue']]\n",
    "# ids_tissue_data = ids_tissue_data.drop_duplicates(subset='SANGER_MODEL_ID')\n",
    "\n",
    "\n",
    "# # merge tissues and model id \n",
    "# patients_phenot_table = pd.merge(patients_phenot_table, ids_tissue_data, on = 'SANGER_MODEL_ID')\n",
    "\n",
    "\n",
    "\n",
    "# # look the number of each cancer for the condition-phenotype of interest\n",
    "# condition = 'TGFb'\n",
    "# phenotype = 'Metastasis'\n",
    "\n",
    "\n",
    "# # resistant group changes according to what is the condition and the phenotype\n",
    "# # group_proliferation_resistant: group with high phenotype \n",
    "\n",
    "# group_phenotype_resistant = patients_phenot_table[\n",
    "#     (patients_phenot_table['Drug status'] == 'Resistant') & \n",
    "#     (patients_phenot_table[f'{condition}_ON_{phenotype}'] >= 0.1)\n",
    "# ]\n",
    "\n",
    "# # print(group_phenotype_resistant['tissue'].value_counts()) # EGF- proliferation: 4 lung, 1 breast, 1 haematopoetic\n",
    "# #                                                           # TGFb- Metastasis: 21 haemato, 2 skin, 2 breast, 1 lung, 1 large intestine, 1 endom, 1 liver\n"
   ]
  },
  {
   "cell_type": "code",
   "execution_count": null,
   "id": "a51e26a2",
   "metadata": {},
   "outputs": [],
   "source": [
    "# inputs = ['EGF', 'FGF', 'Nutrients', 'Androgen']\n",
    "# results = []\n",
    "# output_dir = f'{folder_result}/sensitive_results/only_gene_expression/all_inputs_on/phenotype_distribution_patients'\n",
    "# os.makedirs(output_dir, exist_ok=True)\n",
    "# cfg_files = [f for f in os.listdir(dic_patient_sensitive) if f.endswith(f\"{drug_interest}.cfg\")]\n",
    "# for cfg_file in cfg_files:\n",
    "#     cfg_path = os.path.join(dic_patient_sensitive, cfg_file)\n",
    "#     base_name = os.path.splitext(cfg_file)[0]\n",
    "#     bnd_path = os.path.join(dic_patient_sensitive, base_name + \".bnd\")\n",
    "#     model = maboss.load(bnd_path, cfg_path)\n",
    "#     for input_node in inputs:\n",
    "#         model.network.set_istate(input_node, [0.0, 1.0])  # ON\n",
    "#     result = model.run()\n",
    "#     probtraj = result.get_last_states_probtraj()\n",
    "#     probtraj[\"Patient_ID\"] = base_name\n",
    "#     results.append(probtraj)\n",
    "# combined_df = pd.concat(results, ignore_index=True)\n",
    "# combined_csv_path = os.path.join(output_dir, \"all_patients_all_inputs_on_probtraj.csv\")\n",
    "# combined_df.to_csv(combined_csv_path, index=False)\n",
    "# print(f\"Saved combined results to: {combined_csv_path}\")\n"
   ]
  },
  {
   "cell_type": "code",
   "execution_count": null,
   "id": "fb8ce568",
   "metadata": {},
   "outputs": [],
   "source": [
    "# results_resistant = pd.read_csv('results/resistant_results/only_gene_expression/all_inputs_on/phenotype_distribution_patients/all_patients_all_inputs_on_probtraj.csv')\n",
    "# results_sensitive = pd.read_csv('results/sensitive_results/only_gene_expression/all_inputs_on/phenotype_distribution_patients/all_patients_all_inputs_on_probtraj.csv')\n",
    "\n",
    "\n",
    "\n",
    "# print('Apoptosis')\n",
    "\n",
    "# resistant_apopto_mean = results_resistant['Apoptosis'].mean()\n",
    "# print(resistant_apopto_mean)\n",
    "\n",
    "# sensitive_apopto_mean = results_sensitive['Apoptosis'].mean()\n",
    "# print(sensitive_apopto_mean)\n",
    "\n",
    "\n",
    "\n",
    "# print('Proliferation')\n",
    "# resistant_prolif_mean = results_resistant['Proliferation'].mean()\n",
    "# print(resistant_prolif_mean)\n",
    "\n",
    "# sensitive_prolif_mean = results_sensitive['Proliferation'].mean()\n",
    "# print(sensitive_prolif_mean)\n",
    "\n",
    "\n",
    "\n",
    "# print('Metastasis')\n",
    "# resistant_metas_mean = results_resistant['Metastasis'].mean()\n",
    "# print(resistant_metas_mean)\n",
    "\n",
    "# sensitive_metas_mean = results_sensitive['Metastasis'].mean()\n",
    "# print(sensitive_metas_mean)\n"
   ]
  },
  {
   "cell_type": "code",
   "execution_count": null,
   "id": "f388be28",
   "metadata": {},
   "outputs": [],
   "source": [
    "# TO DO: later- changes EGF and TGF initial states according to expression\n"
   ]
  }
 ],
 "metadata": {
  "kernelspec": {
   "display_name": ".env",
   "language": "python",
   "name": "python3"
  },
  "language_info": {
   "codemirror_mode": {
    "name": "ipython",
    "version": 3
   },
   "file_extension": ".py",
   "mimetype": "text/x-python",
   "name": "python",
   "nbconvert_exporter": "python",
   "pygments_lexer": "ipython3",
   "version": "3.13.3"
  }
 },
 "nbformat": 4,
 "nbformat_minor": 5
}
