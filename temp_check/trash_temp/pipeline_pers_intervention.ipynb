{
 "cells": [
  {
   "cell_type": "markdown",
   "id": "3d742a84",
   "metadata": {},
   "source": [
    "Downstream Analysis Pipeline: try to block (knock out) differentienly expressed genes and see if impact proliferation"
   ]
  },
  {
   "cell_type": "markdown",
   "id": "560e5781",
   "metadata": {},
   "source": [
    "Block: FOXA1, BCL2, BIRC5"
   ]
  },
  {
   "cell_type": "code",
   "execution_count": 3,
   "id": "cea562fe",
   "metadata": {},
   "outputs": [],
   "source": [
    "import maboss\n",
    "import ginsim\n",
    "import pandas as pd \n",
    "import numpy as np\n",
    "import os\n",
    "import shutil\n",
    "from collections import defaultdict\n",
    "from statsmodels.stats.power import TTestIndPower\n",
    "import ast\n",
    "\n",
    "\n",
    "from identification_patients.get_patients_sens_res import get_patients\n",
    "\n",
    "from identification_drug.identification_drug import identify_drug\n",
    "\n",
    "\n",
    "from create_generic_models.create_generic_patients_cfgs import create_generic_patients_cfgs_bnds\n",
    "\n",
    "from create_generic_models.update_phenotypes_generic_models import generic_models_update_phenotypes\n",
    "from pre_process_data.pre_process_genes import create_table_rna_seq_patients, process_genes\n",
    "\n",
    "from create_person_models.tailor_cfgs_patients import personalized_patients_genes_cfgs\n",
    "from create_person_models.tailor_bnd_mutations import personalized_patients_mutations_bnds\n",
    "from create_person_models.tailor_bnd_tsg_onco_mutations import tailor_bnd_tsg_onco_mut\n",
    "from create_person_models.tailor_bnd_cnv import tailor_bnd_cnv_cm\n",
    "\n",
    "\n",
    "from MaBoSS_simulation.maboss_phenotype_patient import compute_phenotype_table, compute_phenotype_mean_group_validation\n",
    "\n",
    "from pre_process_data.identify_mutations_patients import identif_mutations_kras_egfr\n",
    "\n",
    "# # from pre_process_profiles_table_data_lung import create_genes_patients\n",
    "\n",
    "from stats.stats_proba import compute_mannwhitneyu_test_means, compute_kruskal\n",
    "from results_MaBoSS_visualization.boxplot_phenotype import create_boxplot\n",
    "from results_MaBoSS_visualization.create_phenotypes_patients_table import vizualise_table_phenotype_condition\n",
    "from results_MaBoSS_visualization.patients_ids_phenotype_table import create_combined_table_patients\n",
    "from gene_enrichment.genes_signature import compute_genes_mean_signature\n",
    "from pre_process_data.preprocess_mutations import preprocess_mutations_ds\n",
    "from pre_process_data.pre_process_cnv import preprocess_cnv\n",
    "\n",
    "\n",
    "\n",
    "from downstream_analysis.pers_interventions import tailor_bnd_genes_intervention"
   ]
  },
  {
   "cell_type": "markdown",
   "id": "ba96ba2f",
   "metadata": {},
   "source": [
    "Step 0: Import data "
   ]
  },
  {
   "cell_type": "code",
   "execution_count": 4,
   "id": "543de951",
   "metadata": {},
   "outputs": [
    {
     "ename": "KeyboardInterrupt",
     "evalue": "",
     "output_type": "error",
     "traceback": [
      "\u001b[31m---------------------------------------------------------------------------\u001b[39m",
      "\u001b[31mKeyboardInterrupt\u001b[39m                         Traceback (most recent call last)",
      "\u001b[36mCell\u001b[39m\u001b[36m \u001b[39m\u001b[32mIn[4]\u001b[39m\u001b[32m, line 10\u001b[39m\n\u001b[32m      5\u001b[39m drug_data = pd.read_csv(\u001b[33m'\u001b[39m\u001b[33mdata/drug_sensitivity.csv\u001b[39m\u001b[33m'\u001b[39m)\n\u001b[32m      7\u001b[39m montagud_data = (\n\u001b[32m      8\u001b[39m     pd.read_csv(\u001b[33m'\u001b[39m\u001b[33mdata/Montagud_inter_nodes_data.csv\u001b[39m\u001b[33m'\u001b[39m, header=\u001b[32m1\u001b[39m)\n\u001b[32m      9\u001b[39m     .loc[:, [\u001b[33m'\u001b[39m\u001b[33mTarget node\u001b[39m\u001b[33m'\u001b[39m, \u001b[33m'\u001b[39m\u001b[33mInteraction type\u001b[39m\u001b[33m'\u001b[39m, \u001b[33m'\u001b[39m\u001b[33mSource\u001b[39m\u001b[33m'\u001b[39m]])\n\u001b[32m---> \u001b[39m\u001b[32m10\u001b[39m rna_seq_data = \u001b[43mpd\u001b[49m\u001b[43m.\u001b[49m\u001b[43mread_csv\u001b[49m\u001b[43m(\u001b[49m\u001b[33;43m'\u001b[39;49m\u001b[33;43mdata/rnaseq_merged/rnaseq_merged_20250117.csv\u001b[39;49m\u001b[33;43m'\u001b[39;49m\u001b[43m)\u001b[49m\n\u001b[32m     11\u001b[39m cnv_data = pd.read_csv(\u001b[33m'\u001b[39m\u001b[33mdata/cellmodel_data/cnv_summary_20250207.csv\u001b[39m\u001b[33m'\u001b[39m)\n\u001b[32m     14\u001b[39m models_depmap_annotation = pd.read_csv(\u001b[33m'\u001b[39m\u001b[33mdata/cellmodel_data/model_list_20250423.csv\u001b[39m\u001b[33m'\u001b[39m)\n",
      "\u001b[36mFile \u001b[39m\u001b[32m~/repos/icr/Attractor-Resistance/.env/lib/python3.13/site-packages/pandas/io/parsers/readers.py:1026\u001b[39m, in \u001b[36mread_csv\u001b[39m\u001b[34m(filepath_or_buffer, sep, delimiter, header, names, index_col, usecols, dtype, engine, converters, true_values, false_values, skipinitialspace, skiprows, skipfooter, nrows, na_values, keep_default_na, na_filter, verbose, skip_blank_lines, parse_dates, infer_datetime_format, keep_date_col, date_parser, date_format, dayfirst, cache_dates, iterator, chunksize, compression, thousands, decimal, lineterminator, quotechar, quoting, doublequote, escapechar, comment, encoding, encoding_errors, dialect, on_bad_lines, delim_whitespace, low_memory, memory_map, float_precision, storage_options, dtype_backend)\u001b[39m\n\u001b[32m   1013\u001b[39m kwds_defaults = _refine_defaults_read(\n\u001b[32m   1014\u001b[39m     dialect,\n\u001b[32m   1015\u001b[39m     delimiter,\n\u001b[32m   (...)\u001b[39m\u001b[32m   1022\u001b[39m     dtype_backend=dtype_backend,\n\u001b[32m   1023\u001b[39m )\n\u001b[32m   1024\u001b[39m kwds.update(kwds_defaults)\n\u001b[32m-> \u001b[39m\u001b[32m1026\u001b[39m \u001b[38;5;28;01mreturn\u001b[39;00m \u001b[43m_read\u001b[49m\u001b[43m(\u001b[49m\u001b[43mfilepath_or_buffer\u001b[49m\u001b[43m,\u001b[49m\u001b[43m \u001b[49m\u001b[43mkwds\u001b[49m\u001b[43m)\u001b[49m\n",
      "\u001b[36mFile \u001b[39m\u001b[32m~/repos/icr/Attractor-Resistance/.env/lib/python3.13/site-packages/pandas/io/parsers/readers.py:626\u001b[39m, in \u001b[36m_read\u001b[39m\u001b[34m(filepath_or_buffer, kwds)\u001b[39m\n\u001b[32m    623\u001b[39m     \u001b[38;5;28;01mreturn\u001b[39;00m parser\n\u001b[32m    625\u001b[39m \u001b[38;5;28;01mwith\u001b[39;00m parser:\n\u001b[32m--> \u001b[39m\u001b[32m626\u001b[39m     \u001b[38;5;28;01mreturn\u001b[39;00m \u001b[43mparser\u001b[49m\u001b[43m.\u001b[49m\u001b[43mread\u001b[49m\u001b[43m(\u001b[49m\u001b[43mnrows\u001b[49m\u001b[43m)\u001b[49m\n",
      "\u001b[36mFile \u001b[39m\u001b[32m~/repos/icr/Attractor-Resistance/.env/lib/python3.13/site-packages/pandas/io/parsers/readers.py:1923\u001b[39m, in \u001b[36mTextFileReader.read\u001b[39m\u001b[34m(self, nrows)\u001b[39m\n\u001b[32m   1916\u001b[39m nrows = validate_integer(\u001b[33m\"\u001b[39m\u001b[33mnrows\u001b[39m\u001b[33m\"\u001b[39m, nrows)\n\u001b[32m   1917\u001b[39m \u001b[38;5;28;01mtry\u001b[39;00m:\n\u001b[32m   1918\u001b[39m     \u001b[38;5;66;03m# error: \"ParserBase\" has no attribute \"read\"\u001b[39;00m\n\u001b[32m   1919\u001b[39m     (\n\u001b[32m   1920\u001b[39m         index,\n\u001b[32m   1921\u001b[39m         columns,\n\u001b[32m   1922\u001b[39m         col_dict,\n\u001b[32m-> \u001b[39m\u001b[32m1923\u001b[39m     ) = \u001b[38;5;28;43mself\u001b[39;49m\u001b[43m.\u001b[49m\u001b[43m_engine\u001b[49m\u001b[43m.\u001b[49m\u001b[43mread\u001b[49m\u001b[43m(\u001b[49m\u001b[43m  \u001b[49m\u001b[38;5;66;43;03m# type: ignore[attr-defined]\u001b[39;49;00m\n\u001b[32m   1924\u001b[39m \u001b[43m        \u001b[49m\u001b[43mnrows\u001b[49m\n\u001b[32m   1925\u001b[39m \u001b[43m    \u001b[49m\u001b[43m)\u001b[49m\n\u001b[32m   1926\u001b[39m \u001b[38;5;28;01mexcept\u001b[39;00m \u001b[38;5;167;01mException\u001b[39;00m:\n\u001b[32m   1927\u001b[39m     \u001b[38;5;28mself\u001b[39m.close()\n",
      "\u001b[36mFile \u001b[39m\u001b[32m~/repos/icr/Attractor-Resistance/.env/lib/python3.13/site-packages/pandas/io/parsers/c_parser_wrapper.py:234\u001b[39m, in \u001b[36mCParserWrapper.read\u001b[39m\u001b[34m(self, nrows)\u001b[39m\n\u001b[32m    232\u001b[39m \u001b[38;5;28;01mtry\u001b[39;00m:\n\u001b[32m    233\u001b[39m     \u001b[38;5;28;01mif\u001b[39;00m \u001b[38;5;28mself\u001b[39m.low_memory:\n\u001b[32m--> \u001b[39m\u001b[32m234\u001b[39m         chunks = \u001b[38;5;28;43mself\u001b[39;49m\u001b[43m.\u001b[49m\u001b[43m_reader\u001b[49m\u001b[43m.\u001b[49m\u001b[43mread_low_memory\u001b[49m\u001b[43m(\u001b[49m\u001b[43mnrows\u001b[49m\u001b[43m)\u001b[49m\n\u001b[32m    235\u001b[39m         \u001b[38;5;66;03m# destructive to chunks\u001b[39;00m\n\u001b[32m    236\u001b[39m         data = _concatenate_chunks(chunks)\n",
      "\u001b[36mFile \u001b[39m\u001b[32mparsers.pyx:838\u001b[39m, in \u001b[36mpandas._libs.parsers.TextReader.read_low_memory\u001b[39m\u001b[34m()\u001b[39m\n",
      "\u001b[36mFile \u001b[39m\u001b[32mparsers.pyx:905\u001b[39m, in \u001b[36mpandas._libs.parsers.TextReader._read_rows\u001b[39m\u001b[34m()\u001b[39m\n",
      "\u001b[36mFile \u001b[39m\u001b[32mparsers.pyx:874\u001b[39m, in \u001b[36mpandas._libs.parsers.TextReader._tokenize_rows\u001b[39m\u001b[34m()\u001b[39m\n",
      "\u001b[36mFile \u001b[39m\u001b[32mparsers.pyx:891\u001b[39m, in \u001b[36mpandas._libs.parsers.TextReader._check_tokenize_status\u001b[39m\u001b[34m()\u001b[39m\n",
      "\u001b[36mFile \u001b[39m\u001b[32mparsers.pyx:2053\u001b[39m, in \u001b[36mpandas._libs.parsers.raise_parser_error\u001b[39m\u001b[34m()\u001b[39m\n",
      "\u001b[36mFile \u001b[39m\u001b[32m<frozen codecs>:334\u001b[39m, in \u001b[36mgetstate\u001b[39m\u001b[34m(self)\u001b[39m\n",
      "\u001b[31mKeyboardInterrupt\u001b[39m: "
     ]
    }
   ],
   "source": [
    "# Import Data\n",
    "\n",
    "annotations_models = pd.read_csv('data/model_list_20250407.csv')\n",
    "mutations_data = pd.read_csv('data/mutations_all_20250318.csv')\n",
    "drug_data = pd.read_csv('data/drug_sensitivity.csv')\n",
    "\n",
    "montagud_data = (\n",
    "    pd.read_csv('data/Montagud_inter_nodes_data.csv', header=1)\n",
    "    .loc[:, ['Target node', 'Interaction type', 'Source']])\n",
    "rna_seq_data = pd.read_csv('data/rnaseq_merged/rnaseq_merged_20250117.csv')\n",
    "cnv_data = pd.read_csv('data/cellmodel_data/cnv_summary_20250207.csv')\n",
    "\n",
    "\n",
    "models_depmap_annotation = pd.read_csv('data/cellmodel_data/model_list_20250423.csv')\n",
    "mutations_data_depseq = pd.read_csv('data/depmap_data/OmicsSomaticMutations.csv')\n",
    "\n"
   ]
  },
  {
   "cell_type": "markdown",
   "id": "d36be240",
   "metadata": {},
   "source": [
    "Step 1: Identify the best drug to keep (the one with most resistant and sensitive, and with big variance) \n",
    "        & specify the phenotypes of our model"
   ]
  },
  {
   "cell_type": "code",
   "execution_count": null,
   "id": "5d5dc4ad",
   "metadata": {},
   "outputs": [],
   "source": [
    "tissue_remove = 'Haematopoietic and Lymphoid'\n",
    "# drugs_df = identify_drug(drug_data, annotations_models, tissue_remove)"
   ]
  },
  {
   "cell_type": "code",
   "execution_count": null,
   "id": "75295787",
   "metadata": {},
   "outputs": [],
   "source": [
    "drug_interest = 'Refametinib' #Pictilisib, 'Avagacestat' AZD8931 \n",
    "tissue_interest = 'PAN_CANCER'\n",
    "\n",
    "\n",
    "type_models = 'genes_models'\n",
    "\n",
    "\n",
    "# models inputs\n",
    "inputs_list = ['EGF', 'FGF', 'TGFB', 'Androgen', 'Hypoxia', 'Nutrients', 'Carcinogen', 'Acidosis', 'TNF', 'SPOP']\n",
    "\n",
    "\n",
    "# models outputs\n",
    "phenotype_interest = [\"Proliferation\",\"Invasion\",\"DNA_Repair\",\"Migration\",\"Apoptosis\"]\n",
    "\n"
   ]
  },
  {
   "cell_type": "markdown",
   "id": "edbe8a13",
   "metadata": {},
   "source": [
    "Step 2: Create the folders where the models are saved and where the results will be saved"
   ]
  },
  {
   "cell_type": "code",
   "execution_count": null,
   "id": "7c8a8476",
   "metadata": {},
   "outputs": [],
   "source": [
    "\n",
    "# folder where the results will be saved\n",
    "folder_result = f'results/{drug_interest}_{tissue_interest}_intervention'\n",
    "\n",
    "folder_pers_models=f'models/personalized_boolean_{drug_interest}_{tissue_interest}_intervention'\n",
    "\n",
    "\n",
    "\n",
    "\n",
    "# Generic model that will be duplicated to create personalized models\n",
    "folder_generic_models = f'{folder_pers_models}/generic_models'\n",
    "\n",
    "\n",
    "src_dir_generic_models = f'models/prostate/generic/{type_models}'\n",
    "\n",
    "# copy the generic model from the models to validation generic models\n",
    "\n",
    "folder_generic_models_cfg = f'{folder_generic_models}/Montagud2022_Prostate_Cancer.cfg'\n",
    "folder_generic_models_bnd = f'{folder_generic_models}/Montagud2022_Prostate_Cancer.bnd'\n",
    "\n",
    "\n",
    "folder_res_results_single_input = f'{folder_result}/resistant_results/only_gene_expression/single_input_on'\n",
    "folder_sens_results_single_input = f'{folder_result}/sensitive_results/only_gene_expression/single_input_on'\n",
    "\n",
    "\n",
    "\n",
    "folder_result_resistant = f'{folder_res_results_single_input}/phenotype_distribution_patients'\n",
    "folder_result_sensitive = f'{folder_sens_results_single_input}/phenotype_distribution_patients'\n",
    "\n",
    "folder_result_res_sen = f'{folder_result}/sensitive_resistant_results/genes_diff_expressed'\n",
    "\n",
    "\n",
    "generic_pers_models_folder_res = f\"{folder_pers_models}/resistant_patient/generic_models\"\n",
    "generic_pers_models_folder_sens = f\"{folder_pers_models}/sensitive_patient/generic_models\"\n",
    "\n",
    "folder_models_res = f'{folder_pers_models}/resistant_patient/personalized_boolean_modified/models_gene_expression'\n",
    "folder_models_sens = f'{folder_pers_models}/sensitive_patient/personalized_boolean_modified/models_gene_expression'\n",
    "\n",
    "\n",
    "\n",
    "\n",
    "results_mean_folder_res = f\"{folder_res_results_single_input}/phenotype_mean\"\n",
    "results_mean_folder_sens = f\"{folder_sens_results_single_input}/phenotype_mean\"\n",
    "\n",
    "\n",
    "\n",
    "os.makedirs(folder_result_resistant, exist_ok=True)\n",
    "os.makedirs(folder_result_sensitive, exist_ok=True)\n",
    "os.makedirs(folder_result_res_sen, exist_ok=True)\n",
    "\n",
    "os.makedirs(folder_generic_models, exist_ok=True)\n",
    "os.makedirs(folder_models_res, exist_ok=True)\n",
    "os.makedirs(folder_models_sens, exist_ok=True)\n",
    "\n",
    "os.makedirs(results_mean_folder_res, exist_ok=True)\n",
    "os.makedirs(results_mean_folder_res, exist_ok=True)\n",
    "\n",
    "for filename in os.listdir(src_dir_generic_models):\n",
    "    src_file = os.path.join(src_dir_generic_models, filename)\n",
    "    dst_file = os.path.join(folder_generic_models, filename)\n",
    "    if os.path.isfile(src_file):\n",
    "        shutil.copy(src_file, dst_file)\n",
    "\n",
    "        \n",
    "\n"
   ]
  },
  {
   "cell_type": "markdown",
   "id": "f7954a33",
   "metadata": {},
   "source": [
    "Step 3: Get the n top patients Ids"
   ]
  },
  {
   "cell_type": "code",
   "execution_count": null,
   "id": "52a8092a",
   "metadata": {},
   "outputs": [
    {
     "name": "stderr",
     "output_type": "stream",
     "text": [
      "/Users/romane/repos/icr/Attractor-Resistance/identification_patients/get_patients_sens_res.py:33: SettingWithCopyWarning: \n",
      "A value is trying to be set on a copy of a slice from a DataFrame\n",
      "\n",
      "See the caveats in the documentation: https://pandas.pydata.org/pandas-docs/stable/user_guide/indexing.html#returning-a-view-versus-a-copy\n",
      "  annotations_models_filtered.rename(\n"
     ]
    }
   ],
   "source": [
    "# top_resistant_ids, top_sensitive_ids= get_patients(drug_data, annotations_models, drug_interest, tissue_interest)\n",
    "top_resistant_ids, top_sensitive_ids, drug_tissue_data= get_patients(20, drug_data, annotations_models, drug_interest, tissue_interest = None, tissue_remove = tissue_remove)\n",
    "patients_ids = top_sensitive_ids + top_resistant_ids"
   ]
  },
  {
   "cell_type": "markdown",
   "id": "631374cd",
   "metadata": {},
   "source": [
    "Step 4: Pre-process data- Montagud nodes, rna-seq (filtered with patients IDs and Montagud nodes)"
   ]
  },
  {
   "cell_type": "code",
   "execution_count": null,
   "id": "a6a0b59a",
   "metadata": {},
   "outputs": [],
   "source": [
    "# Pre-process Montagud nodes\n",
    "\n",
    "# Keep only the nodes of montagud not specific to Prostate \n",
    "montagud_nodes = list(set(montagud_data['Target node'].tolist() + montagud_data['Source'].tolist()))\n",
    "montagud_nodes = [node for node in montagud_nodes if node != '0/1']\n",
    "montagud_nodes = [node.upper() for node in montagud_nodes if isinstance(node, str)]\n",
    "to_remove = ['FUSED_EVENT', 'AR_ERG']\n",
    "\n",
    "montagud_nodes = [node for node in montagud_nodes if node not in to_remove]\n",
    "montagud_nodes = list(set(montagud_nodes))"
   ]
  },
  {
   "cell_type": "code",
   "execution_count": null,
   "id": "8a9c1e8e",
   "metadata": {},
   "outputs": [
    {
     "name": "stderr",
     "output_type": "stream",
     "text": [
      "/Users/romane/repos/icr/Attractor-Resistance/pre_process_data/pre_process_genes.py:72: SettingWithCopyWarning: \n",
      "A value is trying to be set on a copy of a slice from a DataFrame\n",
      "\n",
      "See the caveats in the documentation: https://pandas.pydata.org/pandas-docs/stable/user_guide/indexing.html#returning-a-view-versus-a-copy\n",
      "  rna_seq_data.rename(columns={\"gene_symbol\": \"gene_name\"}, inplace=True)\n"
     ]
    }
   ],
   "source": [
    "# Pre-process RNA seq data (keep only montagud_nodes and patients ids) and create table for high and low expression\n",
    "rna_seq_data_filtered = process_genes(patients_ids, montagud_nodes, rna_seq_data)\n",
    "table_rna_seq_patients = create_table_rna_seq_patients(rna_seq_data_filtered)\n"
   ]
  },
  {
   "cell_type": "code",
   "execution_count": null,
   "id": "7b458dac",
   "metadata": {},
   "outputs": [],
   "source": [
    "# Pre-process patients (keep only the patients id with gene expression data)\n",
    "\n",
    "top_resistant_ids = list(set(table_rna_seq_patients.index) & set(top_resistant_ids))\n",
    "top_sensitive_ids= list(set(table_rna_seq_patients.index) & set(top_sensitive_ids))\n",
    "\n",
    "patients_ids = top_resistant_ids + top_sensitive_ids"
   ]
  },
  {
   "cell_type": "code",
   "execution_count": null,
   "id": "6ff5c86b",
   "metadata": {},
   "outputs": [],
   "source": [
    "# mutations_data_filtered_combined = preprocess_mutations_ds(patients_ids, models_depmap_annotation, mutations_data_depseq,montagud_nodes)\n",
    "# print(mutations_data_filtered_combined)"
   ]
  },
  {
   "cell_type": "code",
   "execution_count": null,
   "id": "abfece30",
   "metadata": {},
   "outputs": [],
   "source": [
    "# preprocess cnv data\n",
    "cnv_data_filtered = preprocess_cnv(cnv_data, montagud_nodes,patients_ids)"
   ]
  },
  {
   "cell_type": "markdown",
   "id": "101b893a",
   "metadata": {},
   "source": [
    "Step 5: Create generic boolean networks with the sensitive and resistant ID names\n"
   ]
  },
  {
   "cell_type": "code",
   "execution_count": null,
   "id": "509fe0ef",
   "metadata": {},
   "outputs": [],
   "source": [
    "# create_generic_patients_cfgs_bnds(folder_generic_models_cfg, folder_generic_models_bnd, folder_pers_models, top_resistant_ids, top_sensitive_ids, drug_interest, tissue_interest)\n",
    "\n",
    "\n",
    "# ## specify the phenotypes of interest for the analysis\n",
    "# generic_models_update_phenotypes(phenotype_interest, generic_pers_models_folder_res, generic_pers_models_folder_res)\n",
    "# generic_models_update_phenotypes(phenotype_interest, generic_pers_models_folder_sens, generic_pers_models_folder_sens)\n"
   ]
  },
  {
   "cell_type": "markdown",
   "id": "ca027a3d",
   "metadata": {},
   "source": [
    "Step 6: Personalize the cfg files with genes/ proteins\n"
   ]
  },
  {
   "cell_type": "code",
   "execution_count": null,
   "id": "f6c25190",
   "metadata": {},
   "outputs": [],
   "source": [
    "# personalized_patients_genes_cfgs(rna_seq_data, montagud_nodes, generic_pers_models_folder_res, folder_models_res, patients_ids, table_rna_seq_patients, drug_interest)\n",
    "# personalized_patients_genes_cfgs(rna_seq_data, montagud_nodes, generic_pers_models_folder_sens, folder_models_sens, patients_ids, table_rna_seq_patients, drug_interest)"
   ]
  },
  {
   "cell_type": "code",
   "execution_count": null,
   "id": "b4f33ead",
   "metadata": {},
   "outputs": [
    {
     "name": "stdout",
     "output_type": "stream",
     "text": [
      "   gene_name  Group Resistant Mean  Group Sensitive Mean  \\\n",
      "13     FOXA1              6.138972              0.810763   \n",
      "12     FGFR3              3.083833              1.241584   \n",
      "16       JUN              5.705689              4.275132   \n",
      "14      FRS2              4.566767              3.387037   \n",
      "3       BCL2              3.056356              1.890132   \n",
      "\n",
      "    Group Resistant Variance  Group Sensitive Variance   P-value  diff_means  \n",
      "13                  4.444998                  1.357682  0.000005    5.328209  \n",
      "12                  3.717680                  2.620573  0.002038    1.842249  \n",
      "16                  1.021197                  3.323063  0.005948    1.430557  \n",
      "14                  1.863444                  0.776740  0.001840    1.179730  \n",
      "3                   4.427137                  0.786149  0.033114    1.166224  \n"
     ]
    }
   ],
   "source": [
    "genes_enrichment_egf_prolif = pd.read_csv('results/genes_enrichment_egf_prolif.csv')\n",
    "\n",
    "genes_enrichment_egf_prolif = genes_enrichment_egf_prolif.rename(columns={'Unnamed: 0': 'gene_name'})\n",
    "\n",
    "genes_enrichment_egf_prolif = genes_enrichment_egf_prolif.sort_values(by='diff_means', ascending = False)\n",
    "\n",
    "\n",
    "# top_diff_genes = list(genes_enrichment_egf_prolif['gene_name'].iloc[:6])\n",
    "print(genes_enrichment_egf_prolif.head())\n",
    "top_diff_genes = ['E2F1']"
   ]
  },
  {
   "cell_type": "code",
   "execution_count": null,
   "id": "6c93858a",
   "metadata": {},
   "outputs": [],
   "source": [
    "\n",
    "# top_diff_genes = list(genes_enrichment_egf_prolif['gene_name'].iloc[:8])\n",
    "# print(top_diff_genes)"
   ]
  },
  {
   "cell_type": "markdown",
   "id": "9a56cc70",
   "metadata": {},
   "source": [
    "Personalize the cfg files with the \"simulated KO\" of FOXA1, BCL2, and BIRC5"
   ]
  },
  {
   "cell_type": "code",
   "execution_count": null,
   "id": "5d603c39",
   "metadata": {},
   "outputs": [
    {
     "name": "stdout",
     "output_type": "stream",
     "text": [
      "🔍 Processing patient SIDM00870, gene: E2F1\n",
      "E2F1 node found. Replacing...\n",
      "SIDM00870_Refametinib: CNV — nodes modified\n",
      "🔍 Processing patient SIDM00719, gene: E2F1\n",
      "E2F1 node found. Replacing...\n",
      "SIDM00719_Refametinib: CNV — nodes modified\n",
      "🔍 Processing patient SIDM00881, gene: E2F1\n",
      "E2F1 node found. Replacing...\n",
      "SIDM00881_Refametinib: CNV — nodes modified\n",
      "🔍 Processing patient SIDM00920, gene: E2F1\n",
      "E2F1 node found. Replacing...\n",
      "SIDM00920_Refametinib: CNV — nodes modified\n",
      "🔍 Processing patient SIDM01056, gene: E2F1\n",
      "E2F1 node found. Replacing...\n",
      "SIDM01056_Refametinib: CNV — nodes modified\n",
      "🔍 Processing patient SIDM00770, gene: E2F1\n",
      "E2F1 node found. Replacing...\n",
      "SIDM00770_Refametinib: CNV — nodes modified\n",
      "🔍 Processing patient SIDM00506, gene: E2F1\n",
      "E2F1 node found. Replacing...\n",
      "SIDM00506_Refametinib: CNV — nodes modified\n",
      "🔍 Processing patient SIDM00971, gene: E2F1\n",
      "E2F1 node found. Replacing...\n",
      "SIDM00971_Refametinib: CNV — nodes modified\n",
      "🔍 Processing patient SIDM00508, gene: E2F1\n",
      "E2F1 node found. Replacing...\n",
      "SIDM00508_Refametinib: CNV — nodes modified\n",
      "🔍 Processing patient SIDM00255, gene: E2F1\n",
      "E2F1 node found. Replacing...\n",
      "SIDM00255_Refametinib: CNV — nodes modified\n",
      "🔍 Processing patient SIDM00292, gene: E2F1\n",
      "E2F1 node found. Replacing...\n",
      "SIDM00292_Refametinib: CNV — nodes modified\n",
      "🔍 Processing patient SIDM00524, gene: E2F1\n",
      "E2F1 node found. Replacing...\n",
      "SIDM00524_Refametinib: CNV — nodes modified\n",
      "🔍 Processing patient SIDM00444, gene: E2F1\n",
      "E2F1 node found. Replacing...\n",
      "SIDM00444_Refametinib: CNV — nodes modified\n",
      "🔍 Processing patient SIDM01120, gene: E2F1\n",
      "E2F1 node found. Replacing...\n",
      "SIDM01120_Refametinib: CNV — nodes modified\n",
      "🔍 Processing patient SIDM00631, gene: E2F1\n",
      "E2F1 node found. Replacing...\n",
      "SIDM00631_Refametinib: CNV — nodes modified\n",
      "🔍 Processing patient SIDM00183, gene: E2F1\n",
      "E2F1 node found. Replacing...\n",
      "SIDM00183_Refametinib: CNV — nodes modified\n",
      "🔍 Processing patient SIDM00767, gene: E2F1\n",
      "E2F1 node found. Replacing...\n",
      "SIDM00767_Refametinib: CNV — nodes modified\n",
      "🔍 Processing patient SIDM00892, gene: E2F1\n",
      "E2F1 node found. Replacing...\n",
      "SIDM00892_Refametinib: CNV — nodes modified\n",
      "🔍 Processing patient SIDM00716, gene: E2F1\n",
      "E2F1 node found. Replacing...\n",
      "SIDM00716_Refametinib: CNV — nodes modified\n"
     ]
    }
   ],
   "source": [
    "tailor_bnd_genes_intervention(top_diff_genes, top_resistant_ids, folder_models_res, tissue_interest)"
   ]
  },
  {
   "cell_type": "code",
   "execution_count": null,
   "id": "f624b2ca",
   "metadata": {},
   "outputs": [],
   "source": [
    "# personalize copy nb variation\n",
    "\n",
    "# tailor_bnd_cnv_cm(cnv_data_filtered,folder_models_res, folder_models_sens, drug_interest)"
   ]
  },
  {
   "cell_type": "code",
   "execution_count": null,
   "id": "28bb04fd",
   "metadata": {},
   "outputs": [],
   "source": [
    "# tailor_bnd_tsg_onco_mut(mutations_data_filtered_combined,folder_models_res, folder_models_sens, drug_interest)"
   ]
  },
  {
   "cell_type": "markdown",
   "id": "01754ed5",
   "metadata": {},
   "source": [
    "Step 7: compute the phenotype distribution "
   ]
  },
  {
   "cell_type": "code",
   "execution_count": null,
   "id": "4ca22aaa",
   "metadata": {},
   "outputs": [],
   "source": [
    "# Compute phenotype distribution for each patient\n",
    "\n",
    "# for patient  in top_resistant_ids:\n",
    "#     compute_phenotype_table(folder_result_resistant, folder_models_res, patient, inputs_list, phenotype_interest, drug_interest)\n",
    "    \n",
    "# for patient  in top_sensitive_ids:\n",
    "#     compute_phenotype_table(folder_result_sensitive, folder_models_sens, patient, inputs_list, phenotype_interest, drug_interest)\n",
    "    "
   ]
  },
  {
   "cell_type": "code",
   "execution_count": null,
   "id": "d8c0527c",
   "metadata": {},
   "outputs": [],
   "source": [
    "# combine data together \n",
    "def collect_group_data(group_folder_path):\n",
    "    combined_data = defaultdict(lambda: defaultdict(list))\n",
    "\n",
    "    for file in os.listdir(group_folder_path):\n",
    "        if file.startswith(\"_SID\") and file.endswith(\".csv\"):\n",
    "            file_path = os.path.join(group_folder_path, file)\n",
    "            df = pd.read_csv(file_path, index_col=0)\n",
    "\n",
    "            for input_name in df.index:\n",
    "                for phenotype in df.columns:\n",
    "                    value = df.at[input_name, phenotype]\n",
    "                    combined_data[input_name][phenotype].append(float(value))\n",
    "\n",
    "    result_df = pd.DataFrame.from_dict(combined_data, orient='index')\n",
    "    result_df.to_csv(os.path.join(group_folder_path, \"combined_results.csv\"))\n",
    "\n",
    "    return result_df\n",
    "\n",
    "\n",
    "group_df_sens = collect_group_data(folder_result_sensitive)\n",
    "group_df_res = collect_group_data(folder_result_resistant)"
   ]
  },
  {
   "cell_type": "code",
   "execution_count": null,
   "id": "14e5c795",
   "metadata": {},
   "outputs": [],
   "source": [
    "# stats test between the two combined dataframes (sensitive vs resistant)\n",
    "\n",
    "# res_combined_path = \"results/Refametinib_PAN_CANCER/resistant_results/only_gene_expression/single_input_on/phenotype_distribution_patients/combined_results.csv\"\n",
    "# sens_combined_path = \"results/Refametinib_PAN_CANCER/sensitive_results/only_gene_expression/single_input_on/phenotype_distribution_patients/combined_results.csv\"\n",
    "\n",
    "df_res_combined = pd.read_csv(f'{folder_result_resistant}/combined_results.csv', index_col=0)  # index: inputs, columns: phenotypes\n",
    "df_sens_combined = pd.read_csv(f'{folder_result_sensitive}/combined_results.csv', index_col=0)"
   ]
  },
  {
   "cell_type": "markdown",
   "id": "3a3359b9",
   "metadata": {},
   "source": [
    "Compute attractors phenotype mean and power calculation to count the nb of patients needed in each group"
   ]
  },
  {
   "cell_type": "code",
   "execution_count": null,
   "id": "5836ef3f",
   "metadata": {},
   "outputs": [
    {
     "name": "stdout",
     "output_type": "stream",
     "text": [
      "           Proliferation  Invasion DNA_Repair Migration Apoptosis\n",
      "EGF             0.650108  0.362665   0.106984  0.009549  0.549079\n",
      "FGF             0.659215  0.357815   0.106009  0.003684  0.572442\n",
      "TGFB            0.328091    0.5399   0.111851  0.009917   0.53456\n",
      "Androgen        0.650108  0.362665   0.106984  0.009549  0.549079\n",
      "Hypoxia         0.419146  0.349873   0.110456  0.003321  0.554028\n",
      "Nutrients       0.640169  0.359032   0.107388  0.005909  0.559601\n",
      "Carcinogen      0.664075   0.35192   0.593903  0.002534  0.609117\n",
      "Acidosis        0.634288  0.334524   0.107206  0.004429  0.565463\n",
      "TNF             0.098532    0.6481   0.110469  0.017792  0.602307\n",
      "SPOP            0.659862  0.361748   0.107895  0.007058  0.390904\n",
      "           Proliferation  Invasion DNA_Repair Migration Apoptosis\n",
      "EGF             0.515556  0.399102   0.150515   0.12391  0.359916\n",
      "FGF             0.497445    0.3617   0.156442  0.029609  0.436496\n",
      "TGFB            0.227462  0.603899   0.154123  0.039391    0.5074\n",
      "Androgen        0.515171  0.399418   0.150515  0.124469   0.36008\n",
      "Hypoxia         0.238541  0.356549    0.15568  0.045918  0.373408\n",
      "Nutrients       0.510726  0.363623   0.153873  0.046522  0.355905\n",
      "Carcinogen      0.488287  0.352288   0.570645  0.015023  0.560732\n",
      "Acidosis        0.475174  0.327009   0.157526  0.037583  0.389066\n",
      "TNF             0.108568  0.837862   0.159916  0.192281  0.363904\n",
      "SPOP            0.539603  0.416288   0.164427  0.092975  0.216506\n"
     ]
    },
    {
     "name": "stderr",
     "output_type": "stream",
     "text": [
      "/var/folders/83/pqwsm5cn7vscbq8l3fnf30qr0000gn/T/ipykernel_22322/2541010860.py:12: FutureWarning: ChainedAssignmentError: behaviour will change in pandas 3.0!\n",
      "You are setting values through chained assignment. Currently this works in certain cases, but when using Copy-on-Write (which will become the default behaviour in pandas 3.0) this will never work to update the original DataFrame or Series, because the intermediate object on which we are setting values will behave as a copy.\n",
      "A typical example is when you are setting values in a column of a DataFrame, like:\n",
      "\n",
      "df[\"col\"][row_indexer] = value\n",
      "\n",
      "Use `df.loc[row_indexer, \"col\"] = values` instead, to perform the assignment in a single step and ensure this keeps updating the original `df`.\n",
      "\n",
      "See the caveats in the documentation: https://pandas.pydata.org/pandas-docs/stable/user_guide/indexing.html#returning-a-view-versus-a-copy\n",
      "\n",
      "  mean_df_res_combined.loc[condition][phenotype] = mean\n",
      "/var/folders/83/pqwsm5cn7vscbq8l3fnf30qr0000gn/T/ipykernel_22322/2541010860.py:29: FutureWarning: ChainedAssignmentError: behaviour will change in pandas 3.0!\n",
      "You are setting values through chained assignment. Currently this works in certain cases, but when using Copy-on-Write (which will become the default behaviour in pandas 3.0) this will never work to update the original DataFrame or Series, because the intermediate object on which we are setting values will behave as a copy.\n",
      "A typical example is when you are setting values in a column of a DataFrame, like:\n",
      "\n",
      "df[\"col\"][row_indexer] = value\n",
      "\n",
      "Use `df.loc[row_indexer, \"col\"] = values` instead, to perform the assignment in a single step and ensure this keeps updating the original `df`.\n",
      "\n",
      "See the caveats in the documentation: https://pandas.pydata.org/pandas-docs/stable/user_guide/indexing.html#returning-a-view-versus-a-copy\n",
      "\n",
      "  mean_df_sens_combined.loc[condition][phenotype] = mean\n"
     ]
    }
   ],
   "source": [
    "conditions = df_res_combined.index\n",
    "phenotypes = df_res_combined.columns\n",
    "mean_df_res_combined = pd.DataFrame(index=conditions, columns=phenotypes)\n",
    "\n",
    "\n",
    "for condition, values in df_res_combined.iterrows():\n",
    "    for phenotype in df_res_combined.columns:\n",
    "\n",
    "        df_res_values = df_res_combined.loc[condition][phenotype]\n",
    "        df_res_values = ast.literal_eval(df_res_values)\n",
    "        mean = sum(df_res_values)/ len(df_res_values)\n",
    "        mean_df_res_combined.loc[condition][phenotype] = mean\n",
    "print(mean_df_res_combined)\n",
    "\n",
    "\n",
    "\n",
    "\n",
    "conditions = df_sens_combined.index\n",
    "phenotypes = df_sens_combined.columns\n",
    "mean_df_sens_combined = pd.DataFrame(index=conditions, columns=phenotypes)\n",
    "\n",
    "\n",
    "for condition, values in df_sens_combined.iterrows():\n",
    "    for phenotype in df_sens_combined.columns:\n",
    "\n",
    "        df_res_values = df_sens_combined.loc[condition][phenotype]\n",
    "        df_res_values = ast.literal_eval(df_res_values)\n",
    "        mean = sum(df_res_values)/ len(df_res_values)\n",
    "        mean_df_sens_combined.loc[condition][phenotype] = mean\n",
    "print(mean_df_sens_combined)"
   ]
  },
  {
   "cell_type": "markdown",
   "id": "d037a191",
   "metadata": {},
   "source": [
    "Power calculation for every condition-phenotype pairs"
   ]
  },
  {
   "cell_type": "code",
   "execution_count": null,
   "id": "636ee14a",
   "metadata": {},
   "outputs": [],
   "source": [
    "# # power calculation \n",
    "\n",
    "# nb_patients_required = pd.DataFrame(index=conditions, columns=phenotypes)\n",
    "\n",
    "# for condition, values in df_res_combined.iterrows():\n",
    "#     for phenotype in df_res_combined.columns:\n",
    "\n",
    "\n",
    "#         data_res =  ast.literal_eval(df_res_combined.loc[condition][phenotype])\n",
    "#         data_sens = ast.literal_eval(df_sens_combined.loc[condition][phenotype])\n",
    "\n",
    "#         res_patients_mean = np.mean(data_res)\n",
    "#         sens_patients_mean = np.mean(data_sens)\n",
    "\n",
    "#         res_patients_std = np.std(data_res)\n",
    "#         sens_patients_std = np.std(data_sens)\n",
    "\n",
    "#         n_res_group = len(data_res)\n",
    "#         n_sens_group = len(data_sens)\n",
    "#         sd_pooled = np.sqrt(\n",
    "#             ((n_res_group - 1) * res_patients_std**2 + (n_sens_group - 1) * sens_patients_std**2)\n",
    "#             / (n_res_group + n_sens_group - 2)\n",
    "#         )\n",
    "\n",
    "#         d = res_patients_mean -sens_patients_mean/sd_pooled\n",
    "\n",
    "#         analysis = TTestIndPower()\n",
    "#         sample_size = analysis.solve_power(effect_size=d, power=0.8, alpha=0.05, alternative='two-sided')\n",
    "#         nb_patients_required.loc[condition][phenotype] = sample_size\n",
    "\n",
    "# print(nb_patients_required)\n",
    "# print(nb_patients_required[nb_patients_required <= 20])\n",
    "\n",
    "\n",
    "\n"
   ]
  },
  {
   "cell_type": "markdown",
   "id": "98712421",
   "metadata": {},
   "source": [
    "Results: using a T-test with alpha of 0.05 we will have 80% power to detect an effect size of 0.62 * StDev (ie effect > 10) with a minimum study size of 19 patients per group."
   ]
  },
  {
   "cell_type": "code",
   "execution_count": null,
   "id": "57cf8c6a",
   "metadata": {},
   "outputs": [
    {
     "name": "stderr",
     "output_type": "stream",
     "text": [
      "/Users/romane/repos/icr/Attractor-Resistance/stats/stats_proba.py:54: FutureWarning: DataFrame.applymap has been deprecated. Use DataFrame.map instead.\n",
      "  significant_kruskal_results = kruskal_results.applymap(lambda x: x if (x is not None and float(x) < 0.05) else np.nan)\n"
     ]
    }
   ],
   "source": [
    "significant_kruskal_results = compute_kruskal(inputs_list, phenotype_interest, df_res_combined, df_sens_combined)"
   ]
  },
  {
   "cell_type": "markdown",
   "id": "601cf228",
   "metadata": {},
   "source": [
    "Step 7: Compute stats test between two mean datasets"
   ]
  },
  {
   "cell_type": "code",
   "execution_count": null,
   "id": "ceef3985",
   "metadata": {},
   "outputs": [],
   "source": [
    "# patient_res_stats_values = pd.read_csv(f'{folder_result}/resistant_results/only_gene_expression/single_input_on/patients_resistant_values_stats_{drug_interest}.csv')\n",
    "# patient_sens_stats_values = pd.read_csv(f'{folder_result}/sensitive_results/only_gene_expression/single_input_on/patients_sensitive_values_stats_{drug_interest}.csv')\n",
    "\n",
    "patient_res_stats_values =  pd.read_csv(f'{folder_result_resistant}/combined_results.csv')\n",
    "patient_sens_stats_values = pd.read_csv(f'{folder_result_sensitive}/combined_results.csv')\n",
    "compute_mannwhitneyu_test_means(folder_result,patient_res_stats_values, patient_sens_stats_values, drug_interest)"
   ]
  },
  {
   "cell_type": "markdown",
   "id": "bf053c65",
   "metadata": {},
   "source": [
    "Step 8: Vizualise the boxplot of phenotype distribution output"
   ]
  },
  {
   "cell_type": "code",
   "execution_count": null,
   "id": "662bda1f",
   "metadata": {},
   "outputs": [],
   "source": [
    "# patient_res_values = pd.read_csv(f'{folder_result}/resistant_results/only_gene_expression/single_input_on/patients_resistant_values_stats_{drug_interest}.csv')\n",
    "# patient_sens_values = pd.read_csv(f'{folder_result}/sensitive_results/only_gene_expression/single_input_on/patients_sensitive_values_stats_{drug_interest}.csv')\n",
    "#data_greater_side = pd.read_csv(f'{folder_result}/sensitive_resistant_results/p_values_df_mannwhitneyu_greater_sign_{drug_interest}.csv')\n",
    "\n",
    "\n",
    "data_greater_side = pd.read_csv(f'{folder_result}/sensitive_resistant_results/p_values_df_mannwhitneyu_greater_sign_Refametinib.csv')\n",
    "data_less_side = pd.read_csv(f'{folder_result}/sensitive_resistant_results/p_values_df_mannwhitneyu_less_sign_Refametinib.csv')\n",
    "data_both_side = pd.read_csv(f'{folder_result}/sensitive_resistant_results/p_values_df_mannwhitneyu_two_sides_Refametinib.csv')\n",
    "\n",
    "signif_df = pd.concat([data_greater_side, data_less_side, data_greater_side], axis=0)"
   ]
  },
  {
   "cell_type": "code",
   "execution_count": null,
   "id": "7d6e4449",
   "metadata": {},
   "outputs": [
    {
     "data": {
      "image/png": "[encoded data removed]",
      "text/plain": [
       "<Figure size 3000x800 with 3 Axes>"
      ]
     },
     "metadata": {},
     "output_type": "display_data"
    }
   ],
   "source": [
    "create_boxplot(patient_res_stats_values, patient_sens_stats_values, signif_df)\n"
   ]
  },
  {
   "cell_type": "markdown",
   "id": "921ef689",
   "metadata": {},
   "source": [
    "Step 9: create table of patients with conditions- phenotype"
   ]
  },
  {
   "cell_type": "code",
   "execution_count": null,
   "id": "8691af14",
   "metadata": {},
   "outputs": [],
   "source": [
    "res_tables_path = f'{folder_res_results_single_input}/phenotype_distribution_patients'\n",
    "sens_tables_path = f'{folder_sens_results_single_input}/phenotype_distribution_patients'"
   ]
  },
  {
   "cell_type": "code",
   "execution_count": null,
   "id": "8259b991",
   "metadata": {},
   "outputs": [
    {
     "name": "stdout",
     "output_type": "stream",
     "text": [
      "['SIDM00892', 'SIDM00716', 'SIDM00920', 'SIDM00506', 'SIDM00881', 'SIDM01056', 'SIDM00770', 'SIDM00767', 'SIDM01120', 'SIDM00971', 'SIDM00631', 'SIDM00183', 'SIDM00292', 'SIDM00870', 'SIDM00508', 'SIDM00444', 'SIDM00524', 'SIDM00255', 'SIDM00719', 'SIDM00890', 'SIDM00129', 'SIDM00826', 'SIDM01240', 'SIDM00003', 'SIDM00175', 'SIDM01242', 'SIDM01059', 'SIDM00795', 'SIDM00568', 'SIDM01066', 'SIDM00190', 'SIDM00619', 'SIDM00974', 'SIDM00284', 'SIDM00910', 'SIDM00337', 'SIDM01001', 'SIDM00056']\n",
      "Saved final phenotype table to: results/Refametinib_PAN_CANCER_intervention/sensitive_resistant_results/patients_phenot_table.csv\n"
     ]
    }
   ],
   "source": [
    "patients_phenot_table = create_combined_table_patients(res_tables_path, sens_tables_path, folder_result)\n",
    "\n",
    "# patients_phenot_table = create_table_patients_phenotypes(folder_result, dir_res_data, dir_sens_data)"
   ]
  },
  {
   "cell_type": "markdown",
   "id": "8320efc8",
   "metadata": {},
   "source": [
    "Step 10: Create heatmap figure "
   ]
  },
  {
   "cell_type": "code",
   "execution_count": null,
   "id": "a5ebad17",
   "metadata": {},
   "outputs": [],
   "source": [
    "# patient_resistant_mean = pd.read_csv(f'{folder_res_results_single_input}/patients_resistant_df_mean_{drug_interest}.csv')\n",
    "# patient_sensitive_mean = pd.read_csv(f'{folder_sens_results_single_input}/patients_sensitive_df_mean_{drug_interest}.csv')\n",
    "# vizualise_table_phenotype_condition(folder_result, patient_resistant_mean, patient_sensitive_mean)"
   ]
  },
  {
   "cell_type": "markdown",
   "id": "e93b4134",
   "metadata": {},
   "source": [
    "Step 11: Identify genes differently expressed in the patients with high "
   ]
  },
  {
   "cell_type": "code",
   "execution_count": null,
   "id": "f31de187",
   "metadata": {},
   "outputs": [
    {
     "data": {
      "text/html": [
       "<div>\n",
       "<style scoped>\n",
       "    .dataframe tbody tr th:only-of-type {\n",
       "        vertical-align: middle;\n",
       "    }\n",
       "\n",
       "    .dataframe tbody tr th {\n",
       "        vertical-align: top;\n",
       "    }\n",
       "\n",
       "    .dataframe thead th {\n",
       "        text-align: right;\n",
       "    }\n",
       "</style>\n",
       "<table border=\"1\" class=\"dataframe\">\n",
       "  <thead>\n",
       "    <tr style=\"text-align: right;\">\n",
       "      <th></th>\n",
       "      <th>Condition</th>\n",
       "      <th>Phenotype</th>\n",
       "    </tr>\n",
       "  </thead>\n",
       "  <tbody>\n",
       "    <tr>\n",
       "      <th>0</th>\n",
       "      <td>TNF</td>\n",
       "      <td>Apoptosis</td>\n",
       "    </tr>\n",
       "  </tbody>\n",
       "</table>\n",
       "</div>"
      ],
      "text/plain": [
       "  Condition  Phenotype\n",
       "0       TNF  Apoptosis"
      ]
     },
     "execution_count": 32,
     "metadata": {},
     "output_type": "execute_result"
    }
   ],
   "source": [
    "# identify the condition (input) and phenotype for which we observe a significant increase in resistant patients\n",
    "\n",
    "greater_sign_results = pd.read_csv(f'{folder_result}/sensitive_resistant_results/p_values_df_mannwhitneyu_greater_sign_Refametinib.csv')\n",
    "conditions_phenotypes_df = greater_sign_results[['Condition', 'Phenotype']]\n",
    "conditions_phenotypes_df"
   ]
  },
  {
   "cell_type": "code",
   "execution_count": null,
   "id": "dedeb35c",
   "metadata": {},
   "outputs": [],
   "source": [
    "patients_phenot_table = pd.read_csv(f'{folder_result}/sensitive_resistant_results/patients_phenot_table.csv')"
   ]
  },
  {
   "cell_type": "code",
   "execution_count": null,
   "id": "a417f999",
   "metadata": {},
   "outputs": [
    {
     "name": "stderr",
     "output_type": "stream",
     "text": [
      "/Users/romane/repos/icr/Attractor-Resistance/.env/lib/python3.13/site-packages/scipy/stats/_axis_nan_policy.py:586: UserWarning: scipy.stats.shapiro: Input data has range zero. The results may not be accurate.\n",
      "  res = hypotest_fun_out(*samples, **kwds)\n"
     ]
    }
   ],
   "source": [
    "# identify the patients id that show this condition-phenotype pair \n",
    "\n",
    "# save every gene enrichment dataframe in a dictionary of index condtion_phenotype\n",
    "indexes_list = []\n",
    "for condition, phenotype in conditions_phenotypes_df.values:\n",
    "    indexes_list.append(f'{condition}_{phenotype}')\n",
    "results_genes_enrich = {key: None for key in indexes_list}\n",
    "\n",
    "for condition, phenotype in conditions_phenotypes_df.values:\n",
    "    genes_stats_results, resistant_group_ids, sensitive_group_ids = compute_genes_mean_signature(rna_seq_data_filtered, \n",
    "    folder_result, phenotype, condition, patients_phenot_table, top_resistant_ids, top_sensitive_ids)\n",
    "    if isinstance(genes_stats_results, pd.DataFrame):\n",
    "        results_genes_enrich[f'{condition}_{phenotype}'] = genes_stats_results\n",
    "        "
   ]
  },
  {
   "cell_type": "markdown",
   "id": "478874e0",
   "metadata": {},
   "source": [
    "Step 11: check there is not correlation between phenotype distribution and cancer type \n"
   ]
  },
  {
   "cell_type": "markdown",
   "id": "b4bf8482",
   "metadata": {},
   "source": [
    "Gene enrichment for EGF Proliferation (as required 19 patients in each group and statistically relevant with Mannwhiteney test)"
   ]
  },
  {
   "cell_type": "code",
   "execution_count": null,
   "id": "aab3847f",
   "metadata": {},
   "outputs": [
    {
     "ename": "KeyError",
     "evalue": "'EGF_Proliferation'",
     "output_type": "error",
     "traceback": [
      "\u001b[31m---------------------------------------------------------------------------\u001b[39m",
      "\u001b[31mKeyError\u001b[39m                                  Traceback (most recent call last)",
      "\u001b[36mCell\u001b[39m\u001b[36m \u001b[39m\u001b[32mIn[35]\u001b[39m\u001b[32m, line 1\u001b[39m\n\u001b[32m----> \u001b[39m\u001b[32m1\u001b[39m results_egf_prolif = \u001b[43mresults_genes_enrich\u001b[49m\u001b[43m[\u001b[49m\u001b[33;43m'\u001b[39;49m\u001b[33;43mEGF_Proliferation\u001b[39;49m\u001b[33;43m'\u001b[39;49m\u001b[43m]\u001b[49m\n\u001b[32m      2\u001b[39m results_egf_prolif[\u001b[33m'\u001b[39m\u001b[33mdiff_means\u001b[39m\u001b[33m'\u001b[39m] = results_egf_prolif[\u001b[33m'\u001b[39m\u001b[33mGroup Resistant Mean\u001b[39m\u001b[33m'\u001b[39m] - results_egf_prolif[\u001b[33m'\u001b[39m\u001b[33mGroup Sensitive Mean\u001b[39m\u001b[33m'\u001b[39m] \n\u001b[32m      3\u001b[39m results_egf_prolif.sort_values(by = \u001b[33m'\u001b[39m\u001b[33mP-value\u001b[39m\u001b[33m'\u001b[39m, ascending=\u001b[38;5;28;01mTrue\u001b[39;00m).head()\n",
      "\u001b[31mKeyError\u001b[39m: 'EGF_Proliferation'"
     ]
    }
   ],
   "source": [
    "results_egf_prolif = results_genes_enrich['EGF_Proliferation']\n",
    "results_egf_prolif['diff_means'] = results_egf_prolif['Group Resistant Mean'] - results_egf_prolif['Group Sensitive Mean'] \n",
    "results_egf_prolif.sort_values(by = 'P-value', ascending=True).head()\n",
    "\n",
    "results_egf_prolif.sort_values(by = 'diff_means', ascending=False)\n",
    "results_egf_prolif.to_csv(\"results/Refametinib_PAN_CANCER_intervention/sensitive_resistant_results/genes_enrichment_egf_prolif.csv\", index=True)\n"
   ]
  },
  {
   "cell_type": "markdown",
   "id": "7427a44d",
   "metadata": {},
   "source": [
    "Results:\n",
    "- FOXA1: TF, key roles in hormone receptor signaling and modulates tumor growth and metastatic potential\n",
    "- FGFR3: receptor tyrosine kinase for FGF ligands, promoting cell prolif (frequently overexpressed in cancers)\n",
    "- FRS2: overexpressed in several cancers, enhancing proliferative/ migratory responses\n",
    "- BCL2, BIRC5: anti-apoptotic protein -> promotes cell survival by inhibiting programmed cell death pathways; for overepxressed in cancer to evade apoptois.\n",
    "- EZH2: silencing TSG via H3K27 trimethylation, overexpression linked to aggressive, proliferative cancers"
   ]
  },
  {
   "cell_type": "code",
   "execution_count": null,
   "id": "1ea494fd",
   "metadata": {},
   "outputs": [],
   "source": [
    "len(resistant_group_ids)\n",
    "len(sensitive_group_ids)"
   ]
  },
  {
   "cell_type": "markdown",
   "id": "26218d8e",
   "metadata": {},
   "source": [
    "Identify if this FOXA1 overexpression is not related to tissue "
   ]
  },
  {
   "cell_type": "code",
   "execution_count": null,
   "id": "639c6f09",
   "metadata": {},
   "outputs": [],
   "source": [
    "resistant_group_ids_models = annotations_models[annotations_models['model_id'].isin(resistant_group_ids)].copy()\n",
    "sensitive_group_ids_models = annotations_models[annotations_models['model_id'].isin(sensitive_group_ids)].copy()"
   ]
  },
  {
   "cell_type": "code",
   "execution_count": null,
   "id": "a879ea29",
   "metadata": {},
   "outputs": [],
   "source": [
    "resistant_counts = resistant_group_ids_models['tissue'].value_counts()\n",
    "total_counts = annotations_models['tissue'].value_counts()\n",
    "fraction_resistant = resistant_counts / total_counts\n",
    "print(fraction_resistant[fraction_resistant.notna()])\n",
    "\n",
    "\n",
    "sensitive_counts = sensitive_group_ids_models['tissue'].value_counts()\n",
    "total_counts_sens = annotations_models['tissue'].value_counts()\n",
    "fraction_sensitive = sensitive_counts / total_counts_sens\n",
    "print(fraction_sensitive[fraction_sensitive.notna()])\n"
   ]
  },
  {
   "cell_type": "markdown",
   "id": "48ba1363",
   "metadata": {},
   "source": [
    "Result: As the ratio do not vary that much, the results observed do not seem to be tissue-dependent"
   ]
  },
  {
   "cell_type": "code",
   "execution_count": null,
   "id": "ac73ca2e",
   "metadata": {},
   "outputs": [],
   "source": [
    "resistant_counts = resistant_group_ids_models['gender'].value_counts()\n",
    "total_counts = annotations_models['gender'].value_counts()\n",
    "fraction_resistant = resistant_counts / total_counts\n",
    "print(fraction_resistant[fraction_resistant.notna()])\n",
    "\n",
    "\n",
    "sensitive_counts = sensitive_group_ids_models['gender'].value_counts()\n",
    "total_counts_sens = annotations_models['gender'].value_counts()\n",
    "fraction_sensitive = sensitive_counts / total_counts_sens\n",
    "print(fraction_sensitive[fraction_sensitive.notna()])"
   ]
  },
  {
   "cell_type": "markdown",
   "id": "31e31e07",
   "metadata": {},
   "source": [
    "Result: As the ratio do not vary that much, the results observed do not seem to be gender-dependent"
   ]
  },
  {
   "cell_type": "code",
   "execution_count": null,
   "id": "b2280cbb",
   "metadata": {},
   "outputs": [],
   "source": [
    "# power calculation for FOXA1\n",
    "\n",
    "foxa1_data_res = list(rna_seq_data_filtered[\n",
    "    (rna_seq_data_filtered['model_id'].isin(resistant_group_ids)) &\n",
    "    (rna_seq_data_filtered['gene_symbol'] == 'FOXA1')\n",
    "]['rsem_tpm'])\n",
    "\n",
    "\n",
    "foxa1_data_sens = list(rna_seq_data_filtered[\n",
    "    (rna_seq_data_filtered['model_id'].isin(sensitive_group_ids)) &\n",
    "    (rna_seq_data_filtered['gene_symbol'] == 'FOXA1')\n",
    "]['rsem_tpm'])\n",
    "\n",
    "\n",
    "res_patients_mean = np.mean(foxa1_data_res)\n",
    "sens_patients_mean = np.mean(foxa1_data_sens)\n",
    "\n",
    "\n",
    "res_patients_std = np.std(foxa1_data_res)\n",
    "sens_patients_std = np.std(foxa1_data_sens)\n",
    "\n",
    "n_res_group = len(resistant_group_ids)\n",
    "n_sens_group = len(sensitive_group_ids)\n",
    "\n",
    "sd_pooled = np.sqrt(\n",
    "    ((n_res_group - 1) * res_patients_std**2 + (n_sens_group - 1) * sens_patients_std**2)\n",
    "    / (n_res_group + n_sens_group - 2)\n",
    ")\n",
    "\n",
    "d = res_patients_mean -sens_patients_mean/sd_pooled\n",
    "\n",
    "\n",
    "# Set parameters\n",
    "effect_size = d              # Cohen's d\n",
    "alpha = 0.05                 # Significance level\n",
    "power = 0.80                 # Desired power\n",
    "alternative = 'two-sided'    # Equivalent to \"two.sample\" in R\n",
    "\n",
    "# Initialize power analysis object\n",
    "analysis = TTestIndPower()\n",
    "\n",
    "# Compute required sample size per group\n",
    "sample_size = analysis.solve_power(effect_size=effect_size, power=power, alpha=alpha, alternative=alternative)\n",
    "\n",
    "print(f\"Required sample size per group: {float(sample_size):.2f}\")\n",
    "\n"
   ]
  }
 ],
 "metadata": {
  "kernelspec": {
   "display_name": ".env",
   "language": "python",
   "name": "python3"
  },
  "language_info": {
   "codemirror_mode": {
    "name": "ipython",
    "version": 3
   },
   "file_extension": ".py",
   "mimetype": "text/x-python",
   "name": "python",
   "nbconvert_exporter": "python",
   "pygments_lexer": "ipython3",
   "version": "3.13.3"
  }
 },
 "nbformat": 4,
 "nbformat_minor": 5
}
