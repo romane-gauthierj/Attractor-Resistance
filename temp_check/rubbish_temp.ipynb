{
 "cells": [
  {
   "cell_type": "code",
   "execution_count": null,
   "id": "4591b8ec",
   "metadata": {},
   "outputs": [],
   "source": [
    "# mutations_data_filtered_combined = preprocess_mutations_ds(patients_ids, models_depmap_annotation, mutations_data_depseq,montagud_nodes)\n",
    "# print(mutations_data_filtered_combined)"
   ]
  },
  {
   "cell_type": "code",
   "execution_count": null,
   "id": "378f400a",
   "metadata": {},
   "outputs": [],
   "source": [
    "# Identification of which patients id have KRAS or EGFR mutation personalize the bnd files with the mutations common to Lung (KRAS/ EGFR)\n",
    "\n",
    "\n",
    "# personalized_patients_mutations_bnds(mutations_data,patients_ids,folder_models_res, drug_interest)\n",
    "# personalized_patients_mutations_bnds(mutations_data,patients_ids,folder_models_sens, drug_interest)"
   ]
  },
  {
   "cell_type": "code",
   "execution_count": null,
   "id": "b9d5c31d",
   "metadata": {},
   "outputs": [],
   "source": [
    "# tailor_bnd_tsg_onco_mut(mutations_data_filtered_combined,folder_models_res, folder_models_sens, drug_interest)"
   ]
  },
  {
   "cell_type": "markdown",
   "id": "e0595034",
   "metadata": {},
   "source": [
    "Step 9: create table of patients with conditions- phenotype"
   ]
  }
 ],
 "metadata": {
  "language_info": {
   "name": "python"
  }
 },
 "nbformat": 4,
 "nbformat_minor": 5
}
