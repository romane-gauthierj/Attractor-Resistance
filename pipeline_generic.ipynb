{
 "cells": [
  {
   "cell_type": "markdown",
   "id": "7f8cb014",
   "metadata": {},
   "source": [
    "# Pipeline on the preprocessed generic model (after synonyms,..)"
   ]
  },
  {
   "cell_type": "code",
   "execution_count": 2,
   "id": "53d7475b",
   "metadata": {},
   "outputs": [
    {
     "data": {
      "text/html": [
       "<script type=\"text/javascript\" id=\"colomoto-setup-1415323\" class=\"to-be-removed\">\n",
       "        if (typeof Jupyter != 'undefined') {\n",
       "            \n",
       "function detect_import(cell, module) {\n",
       "    var code = cell.get_text();\n",
       "    code = code.replace(/\\\\\\n/g, \"\");\n",
       "    var lines = code.split(\"\\n\");\n",
       "    var r_simple = new RegExp(\"^(\"+module+\")$\");\n",
       "    var r_alias = new RegExp(\"^\"+module+\"\\\\s+as\\\\s+(\\\\w+)$\");\n",
       "    for (var i = 0; i < lines.length; ++i) {\n",
       "        if (/^import\\s/.test(lines[i])) {\n",
       "            code = lines[i].substr(7);\n",
       "            var parts = code.split(\",\")\n",
       "            for (var j = 0; j < parts.length; ++j) {\n",
       "                code = parts[j].trim();\n",
       "                var m = code.match(r_simple);\n",
       "                if (!m) {\n",
       "                    m = code.match(r_alias);\n",
       "                }\n",
       "                if (m) {\n",
       "                    return m[1];\n",
       "                }\n",
       "            }\n",
       "        }\n",
       "    }\n",
       "    return module;\n",
       "}\n",
       "\n",
       "function colomoto_replace_call(cell, orig, dest, args, comment=false) {\n",
       "    var call_regexp = new RegExp(\"\\\\.\"+orig.replace(\".\",\"\\\\.\")+\"\\\\(\");\n",
       "    var call_replacer = new RegExp(\"\\\\.\"+orig.replace(\".\",\"\\\\.\")\n",
       "                    + \"\\\\(\\\\s*([^\\\\)]*)?\\\\)\");\n",
       "    var code = cell.get_text();\n",
       "    var lines = code.split(\"\\n\");\n",
       "    if (args) {\n",
       "        var strargs = \", \"+args.join(\", \");\n",
       "    } else {\n",
       "        var strargs = \"\";\n",
       "    }\n",
       "    for (var i = 0; i < lines.length; ++i) {\n",
       "        if (call_regexp.test(lines[i])) {\n",
       "            var code = \"\"\n",
       "            if (comment) {\n",
       "                code += \"#\"+lines[i]+\"\\n\";\n",
       "            }\n",
       "            code += lines[i].replace(call_replacer, \".\"+dest+\"($1\"+strargs+\")\")\n",
       "            lines[i] = code;\n",
       "        }\n",
       "    }\n",
       "    cell.set_text(code)\n",
       "}\n",
       "\n",
       "function colomoto_upload(Jupyter, ssid, input, py_callback_name, orig, dest) {\n",
       "\n",
       "    function callback(out_data) {\n",
       "        var cell_element = $(\"#\"+ssid).parents('.cell');\n",
       "        var cell_idx = Jupyter.notebook.get_cell_elements().index(cell_element);\n",
       "        var cell = Jupyter.notebook.get_cell(cell_idx);\n",
       "\n",
       "        var filename = out_data.content.text;\n",
       "\n",
       "        var code = cell.get_text();\n",
       "        code = code.replace(new RegExp(\"\\\\b\" + orig.replace('.', '\\\\.')\n",
       "                    + \"\\\\(\\\\s*((\\\\w+)=[^\\\\)]*)?\\\\)\"),\n",
       "                dest+\"(\\\"\"+filename+\"\\\",$1)\");\n",
       "        code = code.replace('\",)', '\")')\n",
       "        cell.set_text(code);\n",
       "\n",
       "        Jupyter.notebook.select(cell_idx);\n",
       "        Jupyter.notebook.execute_cell_and_select_below();\n",
       "    }\n",
       "\n",
       "    if (! (window.File && window.FileReader && window.FileList && window.Blob)) {\n",
       "        alert(\"Interactive file upload is not supported by your browser.\");\n",
       "        return;\n",
       "    }\n",
       "\n",
       "    input.disabled = true;\n",
       "    input.style.cursor = \"wait\";\n",
       "    input.parentElement.style.cursor = \"wait\";\n",
       "\n",
       "    var f = input.files[0];\n",
       "    var reader = new FileReader();\n",
       "    reader.onload = (function(f) {\n",
       "        return function (e) {\n",
       "            var obj = {\n",
       "                content: e.target.result,\n",
       "                name: f.name\n",
       "            };\n",
       "\n",
       "            //var pycb = py_callback_name+\"(\"+JSON.stringify(obj)+\")\"\n",
       "            // hack/workaround:\n",
       "            // it seems that Jupyter does not like very long lines\n",
       "            // so we split the data in chunks\n",
       "            var chunk_length = 100;\n",
       "            var pycb = \"__colomoto_upload_name = \" + JSON.stringify(obj.name) + \"\\n\";\n",
       "            pycb += \"__colomoto_upload_content = \\\\\\n\";\n",
       "            for (var i = 0; i < obj.content.length; i += chunk_length) {\n",
       "                pycb += \"\\\"\" + obj.content.substr(i, chunk_length)+\"\\\"\\\\\\n\"\n",
       "            }\n",
       "            pycb += \"\\n\"\n",
       "            pycb += py_callback_name+\"({'name':__colomoto_upload_name, 'content': __colomoto_upload_content})\\n\";\n",
       "            pycb += \"del __colomoto_upload_name, __colomoto_upload_content\"\n",
       "\n",
       "            IPython.notebook.kernel.execute(pycb, {iopub: {output: callback}});\n",
       "        };\n",
       "    })(f);\n",
       "    reader.readAsDataURL(f);\n",
       "}\n",
       "\n",
       "function resolve_function(tool_api, funcname) {\n",
       "    if (tool_api.hasOwnProperty(funcname)) {\n",
       "        return tool_api[funcname];\n",
       "    } else {\n",
       "        return window[funcname];\n",
       "    }\n",
       "}\n",
       "\n",
       "function colomoto_extension(Jupyter, ssid, name, menu, toolbar, tool_api) {\n",
       "\n",
       "    function insert_snippet_code(snippet) {\n",
       "        var cell = Jupyter.notebook.get_selected_cell();\n",
       "        Jupyter.notebook.edit_mode();\n",
       "        cell.code_mirror.replaceSelection(snippet, 'around');\n",
       "        //cell.focus_editor();\n",
       "    }\n",
       "\n",
       "    /**\n",
       "        from https://github.com/moble/jupyter_boilerplate/blob/master/main.js\n",
       "    */\n",
       "    function callback_insert_snippet (evt) {\n",
       "        // this (or event.currentTarget, see below) always refers to the DOM\n",
       "        // element the listener was attached to - see\n",
       "        // http://stackoverflow.com/questions/12077859\n",
       "        insert_snippet_code($(evt.currentTarget).data('snippet-code'));\n",
       "    }\n",
       "    function build_menu_element (menu_item_spec, direction) {\n",
       "        // Create the menu item html element\n",
       "        var element = $('<li/>');\n",
       "\n",
       "        if (typeof menu_item_spec == 'string') {\n",
       "            if (menu_item_spec != '---') {\n",
       "                return element.html(menu_item_spec)\n",
       "                        .addClass('ui-state-disabled')\n",
       "                        .attr({\"style\": \"padding:2px .4em\"})\n",
       "                       ;\n",
       "            }\n",
       "            return element.addClass('divider');\n",
       "        }\n",
       "\n",
       "        var a = $('<a/>')\n",
       "            .attr('href', '#')\n",
       "            .html(menu_item_spec.name)\n",
       "            .appendTo(element);\n",
       "        if (menu_item_spec.hasOwnProperty('snippet')) {\n",
       "            var snippet = menu_item_spec.snippet;\n",
       "            if (typeof snippet == 'string' || snippet instanceof String) {\n",
       "                snippet = [snippet];\n",
       "            }\n",
       "            a.attr({\n",
       "                'title' : \"\", // Do not remove this, even though it's empty!\n",
       "                'data-snippet-code' : snippet.join('\\n'),\n",
       "            })\n",
       "            .on('click', callback_insert_snippet)\n",
       "            .addClass('snippet');\n",
       "        }\n",
       "        else if (menu_item_spec.hasOwnProperty('internal-link')) {\n",
       "            a.attr('href', menu_item_spec['internal-link']);\n",
       "        }\n",
       "        else if (menu_item_spec.hasOwnProperty('external-link')) {\n",
       "            a.empty();\n",
       "            a.attr('href', menu_item_spec['external-link']);\n",
       "            a.attr({\n",
       "                'target' : '_blank',\n",
       "                'title' : 'Opens in a new window',\n",
       "            });\n",
       "            $('<i class=\"fa fa-external-link menu-icon pull-right\"/>').appendTo(a);\n",
       "            $('<span/>').html(menu_item_spec.name).appendTo(a);\n",
       "        }\n",
       "\n",
       "        if (menu_item_spec.hasOwnProperty('sub-menu')) {\n",
       "            element\n",
       "                .addClass('dropdown-submenu')\n",
       "                .toggleClass('dropdown-submenu-left', direction === 'left');\n",
       "            var sub_element = $('<ul class=\"dropdown-menu\"/>')\n",
       "                .toggleClass('dropdown-menu-compact', menu_item_spec.overlay === true) // For space-saving menus\n",
       "                .appendTo(element);\n",
       "\n",
       "            var new_direction = (menu_item_spec['sub-menu-direction'] === 'left') ? 'left' : 'right';\n",
       "            for (var j=0; j<menu_item_spec['sub-menu'].length; ++j) {\n",
       "                var sub_menu_item_spec = build_menu_element(menu_item_spec['sub-menu'][j], new_direction);\n",
       "                if(sub_menu_item_spec !== null) {\n",
       "                    sub_menu_item_spec.appendTo(sub_element);\n",
       "                }\n",
       "            }\n",
       "        }\n",
       "\n",
       "        return element;\n",
       "    }\n",
       "\n",
       "    function menu_setup (menu_item_specs, sibling, insert_before_sibling) {\n",
       "        for (var i=0; i<menu_item_specs.length; ++i) {\n",
       "            var menu_item_spec;\n",
       "            if (insert_before_sibling) {\n",
       "                menu_item_spec = menu_item_specs[i];\n",
       "            } else {\n",
       "                menu_item_spec = menu_item_specs[menu_item_specs.length-1-i];\n",
       "            }\n",
       "            var direction = (menu_item_spec['menu-direction'] == 'left') ? 'left' : 'right';\n",
       "            var menu_element = build_menu_element(menu_item_spec, direction);\n",
       "            // We need special properties if this item is in the navbar\n",
       "            if ($(sibling).parent().is('ul.nav.navbar-nav')) {\n",
       "                menu_element\n",
       "                    .addClass('dropdown')\n",
       "                    .removeClass('dropdown-submenu dropdown-submenu-left');\n",
       "                menu_element.children('a')\n",
       "                    .addClass('dropdown-toggle')\n",
       "                    .attr({\n",
       "                        'id': name+'_menu',\n",
       "                        'data-toggle' : 'dropdown',\n",
       "                        'aria-expanded' : 'false'\n",
       "                    });\n",
       "            }\n",
       "\n",
       "            // Insert the menu element into DOM\n",
       "            menu_element[insert_before_sibling ? 'insertBefore': 'insertAfter'](sibling);\n",
       "        }\n",
       "    }\n",
       "    /** end from */\n",
       "\n",
       "\n",
       "    function self_cleanup() {\n",
       "        var cell_element = $(\"script[class='to-be-removed']\").parents('.cell');\n",
       "        var cell_idx = Jupyter.notebook.get_cell_elements().index(cell_element);\n",
       "        var cell = Jupyter.notebook.get_cell(cell_idx);\n",
       "        var to_remove = -1;\n",
       "        for (var i = 0; i < cell.output_area.outputs.length; ++i) {\n",
       "            var oa = cell.output_area.outputs[i];\n",
       "            if (oa.output_type == \"display_data\"\n",
       "                && typeof oa.data[\"text/html\"] != 'undefined'\n",
       "                && oa.data[\"text/html\"].indexOf(' class=\"to-be-removed\"') >= 0) {\n",
       "                to_remove = i;\n",
       "                break;\n",
       "            }\n",
       "        }\n",
       "        if (to_remove == -1) {\n",
       "            console.log(\"cannot find toberemoved\");\n",
       "        } else {\n",
       "            cell.output_area.outputs.splice(to_remove, 1);\n",
       "        }\n",
       "    }\n",
       "\n",
       "    function toolbar_setup(actions) {\n",
       "        var buttons = [];\n",
       "        for (var i = 0; i < actions.length; ++i) {\n",
       "            var setup = actions[i].setup;\n",
       "            if (typeof setup.handler == 'string') {\n",
       "                setup.handler = resolve_function(tool_api, setup.handler);\n",
       "            }\n",
       "            buttons.push(Jupyter.actions.register(actions[i].setup,\n",
       "                actions[i].name, name));\n",
       "        }\n",
       "        $(\"#\"+name+\"-toolbar\").remove();\n",
       "        Jupyter.toolbar.add_buttons_group(buttons, name+\"-toolbar\");\n",
       "    }\n",
       "\n",
       "    function replace_menu_snippets(menu_spec, orig, dest) {\n",
       "        if (menu_spec.hasOwnProperty(\"snippet\")) {\n",
       "            var snippet = menu_spec.snippet;\n",
       "            if (typeof snippet == \"string\" || snippet instanceof String) {\n",
       "                menu_spec[\"snippet\"] = snippet.replace(orig, dest);\n",
       "            } else {\n",
       "                for (var i = 0; i < snippet.length; ++i) {\n",
       "                    menu_spec[\"snippet\"][i] = snippet[i].replace(orig, dest);\n",
       "                }\n",
       "            }\n",
       "        }\n",
       "        if (menu_spec.hasOwnProperty(\"sub-menu\")) {\n",
       "            for (var i = 0; i < menu_spec[\"sub-menu\"].length; ++i) {\n",
       "                replace_menu_snippets(menu_spec[\"sub-menu\"][i], orig, dest);\n",
       "            }\n",
       "        }\n",
       "    }\n",
       "\n",
       "    function load_ipython_extension() {\n",
       "\n",
       "        var mycellelt = $(\"#\"+ssid).parents('.cell');\n",
       "        var myidx = Jupyter.notebook.get_cell_elements().index(mycellelt);\n",
       "        var import_cell = Jupyter.notebook.get_cell(myidx);\n",
       "\n",
       "        var alias = detect_import(import_cell, name);\n",
       "        tool_api.module_alias = alias;\n",
       "        if (alias && alias != name) {\n",
       "            var orig = new RegExp(\"\\\\b\"+name+\"\\\\b\", \"g\");\n",
       "            replace_menu_snippets(menu, orig, alias);\n",
       "        }\n",
       "\n",
       "        if (toolbar) {\n",
       "            toolbar_setup(toolbar);\n",
       "        }\n",
       "\n",
       "        $(\"#\"+name+\"_menu\").parent().remove();\n",
       "        if (menu) {\n",
       "            menu_setup([menu], $(\"#help_menu\").parent(), true);\n",
       "        }\n",
       "\n",
       "        if (tool_api.hasOwnProperty(\"post_install_callback\")) {\n",
       "            tool_api.post_install_callback();\n",
       "        }\n",
       "\n",
       "        setTimeout(self_cleanup, 5000);\n",
       "    };\n",
       "\n",
       "    load_ipython_extension();\n",
       "}\n",
       "\n",
       "function resolve_toolbar_handlers(tool_api, toolbar_spec) {\n",
       "    for (var i = 0; i < toolbar_spec.length; ++i) {\n",
       "        func = resolve_function(tool_api, toolbar_spec[i][\"setup\"][\"handler\"]);\n",
       "        toolbar_spec[i][\"setup\"][\"handler\"] = func;\n",
       "    }\n",
       "    return toolbar_spec\n",
       "}\n",
       "\n",
       "\n",
       "    var minibn_jsapi = {  };\n",
       "    colomoto_extension(Jupyter, \"colomoto-setup-1415323\", \"minibn\", null, null, minibn_jsapi);\n",
       "     }</script>"
      ],
      "text/plain": [
       "<IPython.core.display.HTML object>"
      ]
     },
     "metadata": {},
     "output_type": "display_data"
    },
    {
     "data": {
      "text/html": [
       "<script type=\"text/javascript\" id=\"colomoto-setup-5905759\" class=\"to-be-removed\">\n",
       "        if (typeof Jupyter != 'undefined') {\n",
       "            \n",
       "    var mymodule_jsapi = {  };\n",
       "    colomoto_extension(Jupyter, \"colomoto-setup-5905759\", \"mymodule\", {\"name\": \"MaBoSS\", \"sub-menu\": [{\"name\": \"Load MaBoSS file\", \"snippet\": [\"masim = maboss.load(\\\"filename.bnd\\\", \\\"filename.cfg\\\")\"]}, {\"name\": \"Network\", \"sub-menu\": [{\"name\": \"Set istate\", \"snippet\": [\"maboss.wg_set_istate(masim)\"]}, {\"name\": \"Get initial state\", \"snippet\": [\"masim.get_initial_state()\"]}]}, {\"name\": \"Simulation\", \"sub-menu\": [{\"name\": \"Create mutant\", \"snippet\": [\"maboss.wg_make_mutant(masim)\"]}, {\"name\": \"Run\", \"snippet\": [\"simres = masim.run()\"]}, {\"name\": \"Set initial states\", \"snippet\": [\"masim.network.set_istate([\\\"mygenelist\\\"],{})\"]}, {\"name\": \"Set output\", \"snippet\": [\"maboss.wg_set_output(masim)\"]}]}, {\"name\": \"Results\", \"sub-menu\": [{\"name\": \"Save results\", \"snippet\": [\"simres.save(\\\"filename\\\")\"]}, {\"name\": \"Plot piechart\", \"snippet\": [\"simres.plot_piechart()\"]}, {\"name\": \"Plot trajectory\", \"snippet\": [\"simres.plot_trajectory()\"]}]}, {\"name\": \"Conversion\", \"sub-menu\": [{\"name\": \"Convert to biolqm\", \"snippet\": [\"biolqm_model = maboss.to_biolqm(masim)\"]}, {\"name\": \"Convert to minibn\", \"snippet\": [\"minibn_model = maboss.to_minibn(masim)\"]}]}, \"---\", {\"name\": \"Documentation\", \"external-link\": \"http://pymaboss.readthedocs.io\"}]}, null, mymodule_jsapi);\n",
       "     }</script><style type=\"text/css\">\n",
       "    #mymodule_menu {\n",
       "        color: green;\n",
       "        background-color: white;\n",
       "    }\n",
       "    </style>"
      ],
      "text/plain": [
       "<IPython.core.display.HTML object>"
      ]
     },
     "metadata": {},
     "output_type": "display_data"
    }
   ],
   "source": [
    "import pandas as pd\n",
    "import numpy as np\n",
    "import maboss\n",
    "import shutil\n",
    "import os\n",
    "import seaborn as sns\n",
    "import matplotlib.pyplot as plt\n",
    "from functions.generate_utils.create_generic_models.update_phenotypes_generic_models import generic_models_update_phenotypes\n",
    "from functions.analysis_utils.MaBoSS_simulation.maboss_phenotype_patient import compute_phenotype_table_generic\n",
    "\n",
    "from functions.generate_utils.create_generic_models.update_nodes_names import replace_node_names_in_file\n"
   ]
  },
  {
   "cell_type": "code",
   "execution_count": 3,
   "id": "075f28be",
   "metadata": {},
   "outputs": [],
   "source": [
    "\n",
    "name_montagud_maps = {\n",
    "        \"CASPASE8\": \"CASP8\",\n",
    "        \"CASPASE3\": \"CASP3\",\n",
    "        \"CASPASE9\": \"CASP9\",\n",
    "        \"CYCLINB\": \"CCNB1\",\n",
    "        \"CYCLIND\": \"CCND1\",\n",
    "        \"DSH\": \"DVL1\",\n",
    "        \"BETA_CATENIN\": \"CTNNB1\",\n",
    "        \"E_CADHERIN\": \"CDH1\",\n",
    "        \"CYCC\": \"CYCS\",\n",
    "        \"MEK1_2\": \"MEK1\",\n",
    "        \"NF_KB\": \"NFKB\",\n",
    "        \"SNAIL\": \"SNAI1\",\n",
    "        \"TNFALPHA\": \"TNF\",\n",
    "        \"TSC1_2\": \"TSC1\",\n",
    "        \"BCL_XL\": \"BCL2L1\",\n",
    "        \"MAP3K1_3\": \"MAP3K1\",\n",
    "        \"CHK1_2\": \"CHK1\",\n",
    "    }"
   ]
  },
  {
   "cell_type": "code",
   "execution_count": 4,
   "id": "02418dff",
   "metadata": {},
   "outputs": [],
   "source": [
    "# chose folder where we want all the personalized boolean models and associated results saved \n",
    "drug_interest = 'Refametinib' #Pictilisib, 'Avagacestat' AZD8931 \n",
    "tissue_interest = 'Prostate'\n",
    "tissue_remove = 'Haematopoietic and Lymphoid'\n",
    "\n",
    "data_model_folder = 'data/montagud_models'\n",
    "bnd_original_model = f'{data_model_folder}/Montagud2022_Prostate_Cancer.bnd'\n",
    "cfg_original_model = f'{data_model_folder}/Montagud2022_Prostate_Cancer.cfg'\n",
    "\n"
   ]
  },
  {
   "cell_type": "code",
   "execution_count": 5,
   "id": "567b1359",
   "metadata": {},
   "outputs": [],
   "source": [
    "folder_model = \"analysis/generic_models\"\n",
    "folder_result = f\"{folder_model}/results\"\n",
    "\n",
    "# os.makedirs(folder_model, exist_ok=True)\n",
    "# os.makedirs(folder_result, exist_ok=True)\n",
    "\n",
    "\n",
    "# shutil.copy(bnd_original_model, f\"{folder_model}/Montagud2022_{tissue_interest}_Cancer.bnd\")\n",
    "# shutil.copy(cfg_original_model, f\"{folder_model}/Montagud2022_{tissue_interest}_Cancer.cfg\")\n"
   ]
  },
  {
   "cell_type": "code",
   "execution_count": 6,
   "id": "8684a9cd",
   "metadata": {},
   "outputs": [],
   "source": [
    "\n",
    "input_nodes = ['ACIDOSIS', 'ANDROGEN', 'CARCINOGEN', 'EGF', 'FGF', 'HYPOXIA', 'NUTRIENTS', 'SPOP', 'TGFB', 'TNF']\n",
    "\n",
    "phenotypes_interest = [\n",
    "        \"PROLIFERATION\",\n",
    "        \"INVASION\",\n",
    "        \"DNA_REPAIR\",\n",
    "        \"MIGRATION\",\n",
    "        \"APOPTOSIS\",\n",
    "    ]\n",
    "\n",
    "nodes_to_remove = ['FUSED_EVENT', 'AR_ERG']"
   ]
  },
  {
   "cell_type": "code",
   "execution_count": 7,
   "id": "949aff0a",
   "metadata": {},
   "outputs": [
    {
     "data": {
      "text/plain": [
       "'analysis/generic_models/Montagud2022_Prostate_Cancer.cfg'"
      ]
     },
     "execution_count": 7,
     "metadata": {},
     "output_type": "execute_result"
    }
   ],
   "source": [
    "# pre process the models\n",
    "cfg_template_path = (\n",
    "        folder_model + \"/Montagud2022_Prostate_Cancer.cfg\"\n",
    "    )\n",
    "bnd_template_path = (\n",
    "    folder_model + \"/Montagud2022_Prostate_Cancer.bnd\"\n",
    ")\n",
    "cfg_template_path"
   ]
  },
  {
   "cell_type": "code",
   "execution_count": 8,
   "id": "104a95fc",
   "metadata": {},
   "outputs": [],
   "source": [
    "# pre process the models\n",
    "cfg_template_path = (\n",
    "        folder_model + \"/Montagud2022_Prostate_Cancer.cfg\"\n",
    "    )\n",
    "bnd_template_path = (\n",
    "    folder_model + \"/Montagud2022_Prostate_Cancer.bnd\"\n",
    ")\n",
    "\n",
    "\n",
    "\n",
    "nodes_to_add = {\"MEK1\": \"MEK2\", \"TSC1\": \"TSC2\", \"MAP3K1\": \"MAP3K3\", \"CHK1\": \"CHK2\"}\n",
    "\n",
    "\n",
    "# # # --- Pre process the generic model (proteins or genes names) ---\n",
    "# replace_node_names_in_file(cfg_template_path, name_montagud_maps, nodes_to_remove, nodes_to_add)\n",
    "# replace_node_names_in_file(bnd_template_path, name_montagud_maps, nodes_to_remove, nodes_to_add)"
   ]
  },
  {
   "cell_type": "code",
   "execution_count": 9,
   "id": "c6a01382",
   "metadata": {},
   "outputs": [
    {
     "name": "stdout",
     "output_type": "stream",
     "text": [
      "Modified and saved: analysis/generic_models/Montagud2022_Prostate_Cancer.cfg\n"
     ]
    }
   ],
   "source": [
    "# update phenotypes \n",
    "generic_models_update_phenotypes(phenotypes_interest, folder_model)"
   ]
  },
  {
   "cell_type": "code",
   "execution_count": 10,
   "id": "d0bca037",
   "metadata": {},
   "outputs": [],
   "source": [
    "results_phenotypes = compute_phenotype_table_generic(folder_model,input_nodes,phenotypes_interest, folder_result)\n"
   ]
  },
  {
   "cell_type": "markdown",
   "id": "74bef310",
   "metadata": {},
   "source": [
    "Results:\n",
    "- Generic models show overal less proliferation than the sensitive and resistant groups.\n",
    "- no stats test possible as only one model"
   ]
  },
  {
   "cell_type": "code",
   "execution_count": 11,
   "id": "2b4fdec4",
   "metadata": {},
   "outputs": [
    {
     "data": {
      "image/png": "[encoded data removed]",
      "text/plain": [
       "<Figure size 800x500 with 2 Axes>"
      ]
     },
     "metadata": {},
     "output_type": "display_data"
    }
   ],
   "source": [
    "\n",
    "\n",
    "plt.figure(figsize=(8, 5))\n",
    "results_phenotypes_numeric = results_phenotypes.apply(pd.to_numeric, errors='coerce')\n",
    "sns.heatmap(results_phenotypes_numeric, annot=False, cmap=\"RdYlGn_r\")\n",
    "plt.title(\"Heatmap of Phenotype Results\")\n",
    "plt.xlabel(\"Phenotypes\")\n",
    "plt.ylabel(\"Input Nodes or Models\")\n",
    "\n",
    "# Save as high-resolution PDF\n",
    "plt.savefig(\"analysis/generic_models/results/heatmap_phenotypes.png\", dpi=400, bbox_inches='tight')  \n",
    "\n",
    "plt.show()\n",
    "\n"
   ]
  },
  {
   "cell_type": "code",
   "execution_count": 11,
   "id": "2146a5f4",
   "metadata": {},
   "outputs": [
    {
     "data": {
      "text/plain": [
       "'analysis/generic_models/Montagud2022_Prostate_Cancer.bnd'"
      ]
     },
     "execution_count": 11,
     "metadata": {},
     "output_type": "execute_result"
    }
   ],
   "source": [
    "bnd_template_path"
   ]
  },
  {
   "cell_type": "code",
   "execution_count": 12,
   "id": "dcff3dd2",
   "metadata": {},
   "outputs": [
    {
     "data": {
      "text/plain": [
       "'analysis/generic_models/Montagud2022_Prostate_Cancer.cfg'"
      ]
     },
     "execution_count": 12,
     "metadata": {},
     "output_type": "execute_result"
    }
   ],
   "source": [
    "cfg_template_path"
   ]
  },
  {
   "cell_type": "code",
   "execution_count": 18,
   "id": "7dfbf25e",
   "metadata": {},
   "outputs": [
    {
     "data": {
      "image/png": "[encoded data removed]",
      "text/plain": [
       "<Figure size 640x480 with 1 Axes>"
      ]
     },
     "metadata": {},
     "output_type": "display_data"
    }
   ],
   "source": [
    "model_generic_zero = maboss.load(bnd_template_path,cfg_template_path)\n",
    "# generic_model = model_generic.run()\n",
    "\n",
    "\n",
    "for node in input_nodes:\n",
    "    model_generic_zero.network.set_istate(node, [1, 0])\n",
    "\n",
    "generic_model_zero = model_generic_zero.run()\n",
    "generic_model_zero.plot_piechart()\n",
    "\n",
    "fig = plt.gcf()\n",
    "\n",
    "fig.savefig(\"analysis/generic_models/results/piechart_generic_model_zero.pdf\", format='pdf', dpi=400, bbox_inches='tight')\n"
   ]
  },
  {
   "cell_type": "code",
   "execution_count": 19,
   "id": "47e5c154",
   "metadata": {},
   "outputs": [
    {
     "data": {
      "image/png": "[encoded data removed]",
      "text/plain": [
       "<Figure size 640x480 with 1 Axes>"
      ]
     },
     "metadata": {},
     "output_type": "display_data"
    }
   ],
   "source": [
    "model_generic_zero_egf_nutrients = model_generic_zero.copy()\n",
    "\n",
    "model_generic_zero_egf_nutrients.network.set_istate('EGF', [0, 1])\n",
    "model_generic_zero_egf_nutrients.network.set_istate('NUTRIENTS', [0, 1])\n",
    "generic_model_egf_nutrients = model_generic_zero_egf_nutrients.run()\n",
    "\n",
    "generic_model_egf_nutrients.plot_piechart()\n",
    "\n",
    "fig = plt.gcf()\n",
    "\n",
    "\n",
    "fig.savefig(\"analysis/generic_models/results/piechart_generic_egf_nutrients.pdf\", format='pdf', dpi=400, bbox_inches='tight')\n"
   ]
  },
  {
   "cell_type": "code",
   "execution_count": 20,
   "id": "f154f015",
   "metadata": {},
   "outputs": [
    {
     "data": {
      "image/png": "[encoded data removed]",
      "text/plain": [
       "<Figure size 640x480 with 1 Axes>"
      ]
     },
     "metadata": {},
     "output_type": "display_data"
    }
   ],
   "source": [
    "model_generic_zero_egf_nutrients_myc_mut = model_generic_zero_egf_nutrients.copy()\n",
    "model_generic_zero_egf_nutrients_myc_mut.mutate(\"MYC_MAX\", \"OFF\")\n",
    "res_mutant_generic_growth_myc_mut = model_generic_zero_egf_nutrients_myc_mut.run()\n",
    "res_mutant_generic_growth_myc_mut.plot_piechart()\n",
    "\n",
    "fig = plt.gcf()\n",
    "\n",
    "fig.savefig(\"analysis/generic_models/results/piechart_generic_growth_myc_mut.pdf\", format='pdf', dpi=400, bbox_inches='tight')\n",
    "\n"
   ]
  },
  {
   "cell_type": "markdown",
   "id": "e6d16c51",
   "metadata": {},
   "source": [
    "Results\n",
    "\n",
    "- similar results as the paper\n",
    "- TGFB can act as both an oncogene and tumor suppressor\n",
    "- When Carcinogen is present this increase genome instability and DNA damage (DNA repair is a sensor of DNA damage)"
   ]
  }
 ],
 "metadata": {
  "kernelspec": {
   "display_name": ".env",
   "language": "python",
   "name": "python3"
  },
  "language_info": {
   "codemirror_mode": {
    "name": "ipython",
    "version": 3
   },
   "file_extension": ".py",
   "mimetype": "text/x-python",
   "name": "python",
   "nbconvert_exporter": "python",
   "pygments_lexer": "ipython3",
   "version": "3.13.3"
  }
 },
 "nbformat": 4,
 "nbformat_minor": 5
}
