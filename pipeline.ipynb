{
 "cells": [
  {
   "cell_type": "code",
   "execution_count": null,
   "id": "cea562fe",
   "metadata": {},
   "outputs": [
    {
     "data": {
      "text/html": [
       "<script type=\"text/javascript\" id=\"colomoto-setup-2554595\" class=\"to-be-removed\">\n",
       "        if (typeof Jupyter != 'undefined') {\n",
       "            \n",
       "    var minibn_jsapi = {  };\n",
       "    colomoto_extension(Jupyter, \"colomoto-setup-2554595\", \"minibn\", null, null, minibn_jsapi);\n",
       "     }</script>"
      ],
      "text/plain": [
       "<IPython.core.display.HTML object>"
      ]
     },
     "metadata": {},
     "output_type": "display_data"
    },
    {
     "data": {
      "text/html": [
       "<script type=\"text/javascript\" id=\"colomoto-setup-673052\" class=\"to-be-removed\">\n",
       "        if (typeof Jupyter != 'undefined') {\n",
       "            \n",
       "    var mymodule_jsapi = {  };\n",
       "    colomoto_extension(Jupyter, \"colomoto-setup-673052\", \"mymodule\", {\"name\": \"MaBoSS\", \"sub-menu\": [{\"name\": \"Load MaBoSS file\", \"snippet\": [\"masim = maboss.load(\\\"filename.bnd\\\", \\\"filename.cfg\\\")\"]}, {\"name\": \"Network\", \"sub-menu\": [{\"name\": \"Set istate\", \"snippet\": [\"maboss.wg_set_istate(masim)\"]}, {\"name\": \"Get initial state\", \"snippet\": [\"masim.get_initial_state()\"]}]}, {\"name\": \"Simulation\", \"sub-menu\": [{\"name\": \"Create mutant\", \"snippet\": [\"maboss.wg_make_mutant(masim)\"]}, {\"name\": \"Run\", \"snippet\": [\"simres = masim.run()\"]}, {\"name\": \"Set initial states\", \"snippet\": [\"masim.network.set_istate([\\\"mygenelist\\\"],{})\"]}, {\"name\": \"Set output\", \"snippet\": [\"maboss.wg_set_output(masim)\"]}]}, {\"name\": \"Results\", \"sub-menu\": [{\"name\": \"Save results\", \"snippet\": [\"simres.save(\\\"filename\\\")\"]}, {\"name\": \"Plot piechart\", \"snippet\": [\"simres.plot_piechart()\"]}, {\"name\": \"Plot trajectory\", \"snippet\": [\"simres.plot_trajectory()\"]}]}, {\"name\": \"Conversion\", \"sub-menu\": [{\"name\": \"Convert to biolqm\", \"snippet\": [\"biolqm_model = maboss.to_biolqm(masim)\"]}, {\"name\": \"Convert to minibn\", \"snippet\": [\"minibn_model = maboss.to_minibn(masim)\"]}]}, \"---\", {\"name\": \"Documentation\", \"external-link\": \"http://pymaboss.readthedocs.io\"}]}, null, mymodule_jsapi);\n",
       "     }</script><style type=\"text/css\">\n",
       "    #mymodule_menu {\n",
       "        color: green;\n",
       "        background-color: white;\n",
       "    }\n",
       "    </style>"
      ],
      "text/plain": [
       "<IPython.core.display.HTML object>"
      ]
     },
     "metadata": {},
     "output_type": "display_data"
    }
   ],
   "source": [
    "import maboss\n",
    "import ginsim\n",
    "import pandas as pd \n",
    "import numpy as np\n",
    "\n",
    "from get_patients_sens_res import get_patients_top_10\n",
    "from create_generic_patients_cfgs import create_generic_patients_cfgs_bnds\n",
    "from pre_process_genes import process_genes\n",
    "\n",
    "from tailor_cfgs_patients_gene import personalized_patients_genes_cfgs\n",
    "from MaBoSS_phenotype_distribution import compute_phenotypes_distribution, compute_mean_patients\n",
    "# from pre_process_profiles_table_data_lung import create_genes_patients\n",
    "# from identify_mutations_patients import identif_mutations_kras_egfr\n",
    "from stats_proba import compute_mannwhitneyu_test_means\n",
    "from tailor_bnd_mutations import personalized_patients_mutations_bnds\n",
    "from boxplot_phenotype_V2 import create_boxplot\n",
    "from create_phenotypes_patients_table import vizualise_table_phenotype_condition\n",
    "from patients_ids_phenotype_table import create_table_patients_phenotypes\n",
    "from genes_signature import compute_genes_mean_signature\n"
   ]
  },
  {
   "cell_type": "markdown",
   "id": "ba96ba2f",
   "metadata": {},
   "source": [
    "Step 0: Import data "
   ]
  },
  {
   "cell_type": "code",
   "execution_count": null,
   "id": "543de951",
   "metadata": {},
   "outputs": [],
   "source": [
    "# Import data\n",
    "annotations_models = pd.read_csv('../data/model_list_20250407.csv')\n",
    "mutations_data = pd.read_csv('../data/mutations_all_20250318.csv')\n",
    "drug_data = pd.read_csv('../data/drug_sensitivity.csv')\n",
    "\n",
    "montagud_data = (\n",
    "    pd.read_csv('../data/Montagud_inter_nodes_data.csv', header=1)\n",
    "    .loc[:, ['Target node', 'Interaction type', 'Source']])\n",
    "montagud_nodes = list(set(montagud_data['Target node'].tolist() + montagud_data['Source'].tolist()))\n",
    "rna_seq_data = pd.read_csv('../data/rnaseq_merged/rnaseq_merged_20250117.csv')\n",
    "#genes_data_filtered = pd.read_csv('filtered_data/rna_seq_lung_clean.csv')\n"
   ]
  },
  {
   "cell_type": "code",
   "execution_count": null,
   "id": "d7defdc9",
   "metadata": {},
   "outputs": [],
   "source": [
    "# chose folder where we want all the models and results saved \n",
    "folder='personalized_boolean_large_groups'\n",
    "\n",
    "# Output directories\n",
    "output_dir_resistant = f'{folder}/resistant_patient/generic_models'\n",
    "output_dir_sec_resistant = f'{folder}/resistant_patient/personalized_boolean_modified'\n",
    "output_dir_sensitive = f'{folder}/sensitive_patient/generic_models'\n",
    "output_dir_sec_sensitive = f'{folder}/sensitive_patient/personalized_boolean_modified'\n",
    "bnd_dir_res = f'{folder}/resistant_patient/personalized_boolean_modified/models_gene_expression'\n",
    "bnd_dir_sens = f'{folder}/sensitive_patient/personalized_boolean_modified/models_gene_expression'\n",
    "\n"
   ]
  },
  {
   "cell_type": "code",
   "execution_count": null,
   "id": "d394f84b",
   "metadata": {},
   "outputs": [],
   "source": [
    "tissue_remove = 'Haematopoietic and Lymphoid'\n",
    "tissue_interest = 'Lung'"
   ]
  },
  {
   "cell_type": "markdown",
   "id": "a5db46ca",
   "metadata": {},
   "source": [
    "Step 1: Check what drug is the best to keep (the one with most resistant and sensitive)"
   ]
  },
  {
   "cell_type": "code",
   "execution_count": null,
   "id": "a0562c6f",
   "metadata": {},
   "outputs": [],
   "source": [
    "# results = {}\n",
    "# drug_interests = drug_data['DRUG_NAME'].unique().tolist()\n",
    "# #print(drug_interests)\n",
    "# for drug_interest in drug_interests:\n",
    "#     results[drug_interest] = get_patients_top_10(drug_data, annotations_models, tissue_interest, drug_interest)\n",
    "\n",
    "# drug_interest: {\n",
    "#     \"name\": drug_interest,\n",
    "#     \"<-1.5\": float((df['Z_SCORE'] < -1.5).sum()),\n",
    "#     \">1.5\": float((df['Z_SCORE'] > 1.5).sum()),\n",
    "#     \"mean\": float(df['Z_SCORE'].mean()),\n",
    "#     \"std\": float(df['Z_SCORE'].std()),\n",
    "#     \"abs_zscore\": float(df['Z_SCORE'].abs().mean()),\n",
    "# }\n",
    "\n",
    "# list_results = results.values()\n",
    "# pd_results = pd.DataFrame(list_results)\n",
    "# pd_results.to_csv(f'{folder}/drug_analysis.csv\")"
   ]
  },
  {
   "cell_type": "markdown",
   "id": "66844528",
   "metadata": {},
   "source": [
    "Step 2: Select cancer and drug of interest (tissue_interest, drug_interest)\n",
    "Get the 100 most sensitive patient\n"
   ]
  },
  {
   "cell_type": "code",
   "execution_count": null,
   "id": "1c471ff9",
   "metadata": {},
   "outputs": [],
   "source": [
    "# Pre-process genes data \n",
    "# top_resistant_ids, top_sensitive_ids= get_patients_top_10(drug_data, annotations_models, drug_interest, tissue_interest)\n",
    "drug_interest = 'AZD8931' #'Avagacestat' AZD8931\n",
    "tissue_remove = 'Haematopoietic and Lymphoid'\n",
    "top_resistant_ids, top_sensitive_ids, drug_tissue_data= get_patients_top_10(drug_data, annotations_models, drug_interest)\n",
    "patients_ids = top_sensitive_ids + top_resistant_ids\n",
    "\n",
    "# check if KRAS is also in the montagud_data\n",
    "rna_seq_data_filtered = process_genes(patients_ids, montagud_data, rna_seq_data)\n"
   ]
  },
  {
   "cell_type": "markdown",
   "id": "101b893a",
   "metadata": {},
   "source": [
    "Step 3: Create generic boolean networks with the sensitive and resistant ID names\n"
   ]
  },
  {
   "cell_type": "code",
   "execution_count": null,
   "id": "509fe0ef",
   "metadata": {},
   "outputs": [],
   "source": [
    "create_generic_patients_cfgs_bnds(folder, top_resistant_ids, top_sensitive_ids, drug_interest)\n"
   ]
  },
  {
   "cell_type": "markdown",
   "id": "ca027a3d",
   "metadata": {},
   "source": [
    "Step 4: Personalize the cfg files with genes/ proteins\n"
   ]
  },
  {
   "cell_type": "code",
   "execution_count": null,
   "id": "f6c25190",
   "metadata": {},
   "outputs": [],
   "source": [
    "personalized_patients_genes_cfgs(montagud_data, output_dir_resistant, output_dir_sec_resistant, patients_ids, rna_seq_data_filtered, drug_interest)\n",
    "personalized_patients_genes_cfgs(montagud_data, output_dir_sensitive, output_dir_sec_sensitive, patients_ids, rna_seq_data_filtered, drug_interest)"
   ]
  },
  {
   "cell_type": "markdown",
   "id": "bead9930",
   "metadata": {},
   "source": [
    "Step 5: Identification of which patients id have KRAS or EGFR mutation\n",
    "personalize the bnd files with the mutations common to Lung (KRAS/ EGFR):"
   ]
  },
  {
   "cell_type": "code",
   "execution_count": null,
   "id": "41d39de4",
   "metadata": {},
   "outputs": [],
   "source": [
    "personalized_patients_mutations_bnds(mutations_data,patients_ids,bnd_dir_res, drug_interest)\n",
    "personalized_patients_mutations_bnds(mutations_data,patients_ids,bnd_dir_sens, drug_interest)"
   ]
  },
  {
   "cell_type": "markdown",
   "id": "01754ed5",
   "metadata": {},
   "source": [
    "Step 6: compute the phenotype distribution "
   ]
  },
  {
   "cell_type": "code",
   "execution_count": null,
   "id": "97592343",
   "metadata": {},
   "outputs": [],
   "source": [
    "dic_patient_resistant =f'{folder}/resistant_patient/personalized_boolean_modified/models_gene_expression'\n",
    "dic_patient_sensitive =f'{folder}/sensitive_patient/personalized_boolean_modified/models_gene_expression'\n",
    "inputs_list = ['EGF', 'FGF', 'TGFb', 'Nutrients', 'Hypoxia', 'Acidosis', 'Androgen', 'TNFalpha', 'Carcinogen']\n",
    "\n",
    "patient_res_data_dict = compute_phenotypes_distribution(folder, dic_patient_resistant, inputs_list, 'resistant', drug_interest)\n",
    "patient_sens_data_dict = compute_phenotypes_distribution(folder, dic_patient_sensitive, inputs_list, 'sensitive', drug_interest)\n",
    "patients_res_df_mean, patients_res_df_std, stats_results_data_res_df = compute_mean_patients(patient_res_data_dict)\n",
    "patients_sens_df_mean, patients_sens_df_std, stats_results_data_sens_df = compute_mean_patients(patient_sens_data_dict)\n",
    "\n",
    "\n",
    "\n",
    "patients_res_df_mean.to_csv(f'{folder}/resistant_results/only_gene_expression/single_input_on/patients_resistant_df_mean_{drug_interest}.csv', index=True)\n",
    "patients_res_df_std.to_csv(f'{folder}/resistant_results/only_gene_expression/single_input_on/patients_resistant_df_std_{drug_interest}.csv', index=True)\n",
    "stats_results_data_res_df.to_csv(f'{folder}/resistant_results/only_gene_expression/single_input_on/patients_resistant_values_stats_{drug_interest}.csv', index=True)\n",
    "stats_results_data_sens_df.to_csv(f'{folder}/sensitive_results/only_gene_expression/single_input_on/patients_sensitive_values_stats_{drug_interest}.csv', index=True)\n",
    "patients_sens_df_mean.to_csv(f'{folder}/sensitive_results/only_gene_expression/single_input_on/patients_sensitive_df_mean_{drug_interest}.csv', index=True)\n",
    "patients_sens_df_std.to_csv(f'{folder}/sensitive_results/only_gene_expression/single_input_on/patients_sensitive_df_std_{drug_interest}.csv', index=True)\n",
    "\n"
   ]
  },
  {
   "cell_type": "markdown",
   "id": "601cf228",
   "metadata": {},
   "source": [
    "Step 7: Compute stats test between two mean datasets"
   ]
  },
  {
   "cell_type": "code",
   "execution_count": null,
   "id": "ceef3985",
   "metadata": {},
   "outputs": [],
   "source": [
    "patient_res_stats_values = pd.read_csv(f'{folder}/resistant_results/only_gene_expression/single_input_on/patients_resistant_values_stats_{drug_interest}.csv')\n",
    "patient_sens_stats_values = pd.read_csv(f'{folder}/sensitive_results/only_gene_expression/single_input_on/patients_sensitive_values_stats_{drug_interest}.csv')\n",
    "compute_mannwhitneyu_test_means(folder,patient_res_stats_values, patient_sens_stats_values, drug_interest)"
   ]
  },
  {
   "cell_type": "markdown",
   "id": "bf053c65",
   "metadata": {},
   "source": [
    "Step 8: Vizualise the boxplot of phenotype distribution output"
   ]
  },
  {
   "cell_type": "code",
   "execution_count": null,
   "id": "662bda1f",
   "metadata": {},
   "outputs": [],
   "source": [
    "patient_res_values = pd.read_csv(f'{folder}/resistant_results/only_gene_expression/single_input_on/patients_resistant_values_stats_{drug_interest}.csv')\n",
    "patient_sens_values = pd.read_csv(f'{folder}/sensitive_results/only_gene_expression/single_input_on/patients_sensitive_values_stats_{drug_interest}.csv')\n",
    "data_greater_side = pd.read_csv(f'{folder}/sensitive_resistant_results/p_values_df_mannwhitneyu_greater_sign_{drug_interest}.csv')\n",
    "create_boxplot(folder, patient_res_values, patient_sens_values, data_greater_side)"
   ]
  },
  {
   "cell_type": "markdown",
   "id": "921ef689",
   "metadata": {},
   "source": [
    "Step 9: create table of patients with conditions- phenotype"
   ]
  },
  {
   "cell_type": "code",
   "execution_count": null,
   "id": "8259b991",
   "metadata": {},
   "outputs": [],
   "source": [
    "dir_res_data = f'{folder}/resistant_results/only_gene_expression/single_input_on/phenotype_distribution_patients'\n",
    "dir_sens_data = f'{folder}/sensitive_results/only_gene_expression/single_input_on/phenotype_distribution_patients'\n",
    "patients_phenot_table = create_table_patients_phenotypes(folder, dir_res_data, dir_sens_data)"
   ]
  },
  {
   "cell_type": "markdown",
   "id": "8320efc8",
   "metadata": {},
   "source": [
    "Step 10: Create heatmap figure "
   ]
  },
  {
   "cell_type": "code",
   "execution_count": null,
   "id": "a5ebad17",
   "metadata": {},
   "outputs": [],
   "source": [
    "patient_resistant_mean = pd.read_csv(f'{folder}/resistant_results/only_gene_expression/single_input_on/patients_resistant_df_mean_{drug_interest}.csv')\n",
    "patient_sensitive_mean = pd.read_csv(f'{folder}/sensitive_results/only_gene_expression/single_input_on/patients_sensitive_df_mean_{drug_interest}.csv')\n",
    "vizualise_table_phenotype_condition(folder, patient_resistant_mean, patient_sensitive_mean)"
   ]
  },
  {
   "cell_type": "markdown",
   "id": "e93b4134",
   "metadata": {},
   "source": [
    "Step 11: Identify genes differently expressed in the patients with high "
   ]
  },
  {
   "cell_type": "code",
   "execution_count": null,
   "id": "a417f999",
   "metadata": {},
   "outputs": [],
   "source": [
    "patients_phenot_table = pd.read_csv(f'{folder}/sensitive_resistant_results/patients_phenot_table.csv')\n",
    "genes_stats_results_metast_TGFb = compute_genes_mean_signature(folder, montagud_nodes, 'Metastasis', 'TGFb', patients_phenot_table, top_resistant_ids, top_sensitive_ids)\n",
    "genes_stats_results_prolif_egf = compute_genes_mean_signature(folder, montagud_nodes, 'Proliferation', 'EGF', patients_phenot_table, top_resistant_ids, top_sensitive_ids)"
   ]
  },
  {
   "cell_type": "markdown",
   "id": "478874e0",
   "metadata": {},
   "source": [
    "Step 11: check there is not correlation between phenotype distribution and cancer type \n"
   ]
  },
  {
   "cell_type": "code",
   "execution_count": null,
   "id": "af833d63",
   "metadata": {},
   "outputs": [],
   "source": [
    "patients_phenot_table['SANGER_MODEL_ID'] = patients_phenot_table['Unnamed: 0'].str.split('_').str[0]\n",
    "conditions = [\n",
    "    patients_phenot_table['SANGER_MODEL_ID'].isin(top_resistant_ids),\n",
    "    patients_phenot_table['SANGER_MODEL_ID'].isin(top_sensitive_ids)\n",
    "    ]\n",
    "choices = ['Resistant', 'Sensitive']\n",
    "patients_phenot_table.loc[:,'Drug status'] = np.select(conditions, choices, default = '')\n",
    "\n",
    "\n",
    "\n",
    "ids_tissue_data = drug_tissue_data[['SANGER_MODEL_ID', 'tissue']]\n",
    "ids_tissue_data = ids_tissue_data.drop_duplicates(subset='SANGER_MODEL_ID')\n",
    "\n",
    "\n",
    "# merge tissues and model id \n",
    "patients_phenot_table = pd.merge(patients_phenot_table, ids_tissue_data, on = 'SANGER_MODEL_ID')\n",
    "print(patients_phenot_table)\n",
    "\n",
    "\n",
    "\n",
    "# look the number of each cancer for the condition-phenotype of interest\n",
    "condition = 'TGFb'\n",
    "phenotype = 'Metastasis'\n",
    "\n",
    "\n",
    "# resistant group changes according to what is the condition and the phenotype\n",
    "# group_proliferation_resistant: group with high phenotype \n",
    "\n",
    "group_phenotype_resistant = patients_phenot_table[\n",
    "    (patients_phenot_table['Drug status'] == 'Resistant') & \n",
    "    (patients_phenot_table[f'{condition}_ON_{phenotype}'] >= 0.1)\n",
    "]\n",
    "\n",
    "# print(group_phenotype_resistant['tissue'].value_counts()) # EGF- proliferation: 4 lung, 1 breast, 1 haematopoetic\n",
    "#                                                           # TGFb- Metastasis: 21 haemato, 2 skin, 2 breast, 1 lung, 1 large intestine, 1 endom, 1 liver\n"
   ]
  }
 ],
 "metadata": {
  "kernelspec": {
   "display_name": ".env",
   "language": "python",
   "name": "python3"
  },
  "language_info": {
   "codemirror_mode": {
    "name": "ipython",
    "version": 3
   },
   "file_extension": ".py",
   "mimetype": "text/x-python",
   "name": "python",
   "nbconvert_exporter": "python",
   "pygments_lexer": "ipython3",
   "version": "3.13.3"
  }
 },
 "nbformat": 4,
 "nbformat_minor": 5
}
