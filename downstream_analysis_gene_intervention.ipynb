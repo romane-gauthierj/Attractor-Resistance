{
 "cells": [
  {
   "cell_type": "markdown",
   "id": "3d742a84",
   "metadata": {},
   "source": [
    "Downstream Analysis Pipeline: try to block (knock out) differentienly expressed genes and see if impact proliferation"
   ]
  },
  {
   "cell_type": "markdown",
   "id": "560e5781",
   "metadata": {},
   "source": [
    "Block: FOXA1, BCL2, BIRC5"
   ]
  },
  {
   "cell_type": "code",
   "execution_count": null,
   "id": "cea562fe",
   "metadata": {},
   "outputs": [],
   "source": [
    "import maboss\n",
    "import ginsim\n",
    "import pandas as pd \n",
    "import numpy as np\n",
    "import os\n",
    "import shutil\n",
    "from collections import defaultdict\n",
    "from statsmodels.stats.power import TTestIndPower\n",
    "import ast\n",
    "import tempfile \n",
    "\n",
    "from functions.generate_utils.identification_patients.get_patients_sens_res import get_patients\n",
    "\n",
    "\n",
    "from functions.generate_utils.create_generic_models.create_generic_patients_cfgs import create_generic_patients_cfgs_bnds\n",
    "\n",
    "from functions.generate_utils.create_generic_models.update_phenotypes_generic_models import generic_models_update_phenotypes\n",
    "from functions.generate_utils.pre_process_data.pre_process_genes import create_table_rna_seq_patients, process_genes\n",
    "\n",
    "from functions.generate_utils.create_person_models.tailor_cfgs_patients import personalized_patients_genes_cfgs\n",
    "from functions.generate_utils.create_person_models.tailor_bnd_mutations import personalized_patients_mutations_bnds\n",
    "from functions.generate_utils.create_person_models.tailor_bnd_cnv import tailor_bnd_cnv_cm\n",
    "\n",
    "\n",
    "from functions.analysis_utils.MaBoSS_simulation.maboss_phenotype_patient import compute_phenotype_table, compute_phenotype_mean_group_validation\n",
    "\n",
    "\n",
    "# # from pre_process_profiles_table_data_lung import create_genes_patients\n",
    "\n",
    "from functions.analysis_utils.stats.stats_proba import compute_mannwhitneyu_test_means, compute_kruskal, compute_power_calculation\n",
    "from functions.analysis_utils.results_MaBoSS_visualization.boxplot_phenotype import create_boxplot\n",
    "from functions.analysis_utils.results_MaBoSS_visualization.create_phenotypes_patients_table import vizualise_table_phenotype_condition\n",
    "from functions.analysis_utils.results_MaBoSS_visualization.patients_ids_phenotype_table import create_combined_table_patients\n",
    "from functions.analysis_utils.gene_enrichment.genes_signature import compute_genes_mean_signature\n",
    "from functions.generate_utils.pre_process_data.pre_process_cnv import preprocess_cnv\n",
    "from functions.generate_utils.pre_process_data.pre_process_montagud_nodes import process_montagud_nodes\n",
    "\n",
    "\n",
    "from functions.analysis_utils.genes_intervention.pers_interventions import tailor_bnd_genes_intervention"
   ]
  },
  {
   "cell_type": "markdown",
   "id": "ba96ba2f",
   "metadata": {},
   "source": [
    "Step 0: Import data "
   ]
  },
  {
   "cell_type": "code",
   "execution_count": 17,
   "id": "543de951",
   "metadata": {},
   "outputs": [
    {
     "name": "stderr",
     "output_type": "stream",
     "text": [
      "/var/folders/83/pqwsm5cn7vscbq8l3fnf30qr0000gn/T/ipykernel_42538/4029099413.py:15: DtypeWarning: Columns (22,50,56,57,58,59,61) have mixed types. Specify dtype option on import or set low_memory=False.\n",
      "  mutations_data_depseq = pd.read_csv('data/depmap_data/OmicsSomaticMutations.csv')\n"
     ]
    }
   ],
   "source": [
    "# Import Data\n",
    "\n",
    "annotations_models = pd.read_csv('data/model_list_20250407.csv')\n",
    "mutations_data = pd.read_csv('data/mutations_all_20250318.csv')\n",
    "drug_data = pd.read_csv('data/drug_sensitivity.csv')\n",
    "\n",
    "montagud_data = (\n",
    "    pd.read_csv('data/Montagud_inter_nodes_data.csv', header=1)\n",
    "    .loc[:, ['Target node', 'Interaction type', 'Source']])\n",
    "rna_seq_data = pd.read_csv('data/rnaseq_merged/rnaseq_merged_20250117.csv')\n",
    "cnv_data = pd.read_csv('data/cellmodel_data/cnv_summary_20250207.csv')\n",
    "\n",
    "\n",
    "models_depmap_annotation = pd.read_csv('data/cellmodel_data/model_list_20250423.csv')\n",
    "mutations_data_depseq = pd.read_csv('data/depmap_data/OmicsSomaticMutations.csv')\n",
    "\n"
   ]
  },
  {
   "cell_type": "markdown",
   "id": "d36be240",
   "metadata": {},
   "source": [
    "Step 1: Identify the best drug to keep (the one with most resistant and sensitive, and with big variance) \n",
    "        & specify the phenotypes of our model"
   ]
  },
  {
   "cell_type": "code",
   "execution_count": 18,
   "id": "5d5dc4ad",
   "metadata": {},
   "outputs": [],
   "source": [
    "tissue_remove = 'Haematopoietic and Lymphoid'\n",
    "# drugs_df = identify_drug(drug_data, annotations_models, tissue_remove)"
   ]
  },
  {
   "cell_type": "code",
   "execution_count": 19,
   "id": "75295787",
   "metadata": {},
   "outputs": [],
   "source": [
    "drug_interest = 'Refametinib' #Pictilisib, 'Avagacestat' AZD8931 \n",
    "tissue_interest = 'PAN_CANCER'\n",
    "\n",
    "\n",
    "type_models = 'genes_models'\n",
    "\n",
    "\n",
    "# models inputs\n",
    "inputs_list = ['EGF', 'FGF', 'TGFB', 'Androgen', 'Hypoxia', 'Nutrients', 'Carcinogen', 'Acidosis', 'TNF', 'SPOP']\n",
    "\n",
    "\n",
    "# models outputs\n",
    "phenotype_interest = [\"Proliferation\",\"Invasion\",\"DNA_Repair\",\"Migration\",\"Apoptosis\"]\n",
    "\n"
   ]
  },
  {
   "cell_type": "markdown",
   "id": "edbe8a13",
   "metadata": {},
   "source": [
    "Step 2: Create the folders where the models are saved and where the results will be saved"
   ]
  },
  {
   "cell_type": "code",
   "execution_count": 20,
   "id": "7c8a8476",
   "metadata": {},
   "outputs": [],
   "source": [
    "\n",
    "# folder where the results will be saved\n",
    "folder_result = f'results/{drug_interest}_{tissue_interest}_intervention'\n",
    "\n",
    "folder_pers_models=f'models/personalized_boolean_{drug_interest}_{tissue_interest}_intervention'\n",
    "\n",
    "\n",
    "# Generic model that will be duplicated to create personalized models\n",
    "folder_generic_models = f'{folder_pers_models}/generic_models'\n",
    "\n",
    "\n",
    "src_dir_generic_models = f'models/prostate/generic/{type_models}'\n",
    "\n",
    "# copy the generic model from the models to validation generic models\n",
    "\n",
    "folder_generic_models_cfg = f'{folder_generic_models}/Montagud2022_Prostate_Cancer.cfg'\n",
    "folder_generic_models_bnd = f'{folder_generic_models}/Montagud2022_Prostate_Cancer.bnd'\n",
    "\n",
    "\n",
    "folder_res_results_single_input = f'{folder_result}/resistant_results/only_gene_expression/single_input_on'\n",
    "folder_sens_results_single_input = f'{folder_result}/sensitive_results/only_gene_expression/single_input_on'\n",
    "\n",
    "\n",
    "\n",
    "folder_result_resistant = f'{folder_res_results_single_input}/phenotype_distribution_patients'\n",
    "folder_result_sensitive = f'{folder_sens_results_single_input}/phenotype_distribution_patients'\n",
    "\n",
    "folder_result_res_sen = f'{folder_result}/sensitive_resistant_results/genes_diff_expressed'\n",
    "\n",
    "\n",
    "generic_pers_models_folder_res = f\"{folder_pers_models}/resistant_patient/generic_models\"\n",
    "generic_pers_models_folder_sens = f\"{folder_pers_models}/sensitive_patient/generic_models\"\n",
    "\n",
    "folder_models_res = f'{folder_pers_models}/resistant_patient/personalized_boolean_modified/models_gene_expression'\n",
    "folder_models_sens = f'{folder_pers_models}/sensitive_patient/personalized_boolean_modified/models_gene_expression'\n",
    "\n",
    "\n",
    "\n",
    "\n",
    "results_mean_folder_res = f\"{folder_res_results_single_input}/phenotype_mean\"\n",
    "results_mean_folder_sens = f\"{folder_sens_results_single_input}/phenotype_mean\"\n",
    "\n",
    "\n",
    "\n",
    "os.makedirs(folder_result_resistant, exist_ok=True)\n",
    "os.makedirs(folder_result_sensitive, exist_ok=True)\n",
    "os.makedirs(folder_result_res_sen, exist_ok=True)\n",
    "\n",
    "os.makedirs(folder_generic_models, exist_ok=True)\n",
    "os.makedirs(folder_models_res, exist_ok=True)\n",
    "os.makedirs(folder_models_sens, exist_ok=True)\n",
    "\n",
    "os.makedirs(results_mean_folder_res, exist_ok=True)\n",
    "os.makedirs(results_mean_folder_res, exist_ok=True)\n",
    "\n",
    "for filename in os.listdir(src_dir_generic_models):\n",
    "    src_file = os.path.join(src_dir_generic_models, filename)\n",
    "    dst_file = os.path.join(folder_generic_models, filename)\n",
    "    if os.path.isfile(src_file):\n",
    "        shutil.copy(src_file, dst_file)\n",
    "\n",
    "        \n",
    "\n"
   ]
  },
  {
   "cell_type": "markdown",
   "id": "f7954a33",
   "metadata": {},
   "source": [
    "Step 3: Get the n top patients Ids"
   ]
  },
  {
   "cell_type": "code",
   "execution_count": 21,
   "id": "52a8092a",
   "metadata": {},
   "outputs": [
    {
     "name": "stderr",
     "output_type": "stream",
     "text": [
      "/Users/romane/repos/icr/Attractor-Resistance/identification_patients/get_patients_sens_res.py:33: SettingWithCopyWarning: \n",
      "A value is trying to be set on a copy of a slice from a DataFrame\n",
      "\n",
      "See the caveats in the documentation: https://pandas.pydata.org/pandas-docs/stable/user_guide/indexing.html#returning-a-view-versus-a-copy\n",
      "  annotations_models_filtered.rename(\n"
     ]
    }
   ],
   "source": [
    "# top_resistant_ids, top_sensitive_ids= get_patients(drug_data, annotations_models, drug_interest, tissue_interest)\n",
    "top_resistant_ids, top_sensitive_ids, drug_tissue_data= get_patients(20, drug_data, annotations_models, drug_interest, tissue_interest = None, tissue_remove = tissue_remove)\n",
    "patients_ids = top_sensitive_ids + top_resistant_ids"
   ]
  },
  {
   "cell_type": "markdown",
   "id": "631374cd",
   "metadata": {},
   "source": [
    "Step 4: Pre-process data- Montagud nodes, rna-seq (filtered with patients IDs and Montagud nodes)"
   ]
  },
  {
   "cell_type": "code",
   "execution_count": 22,
   "id": "a6a0b59a",
   "metadata": {},
   "outputs": [],
   "source": [
    "# Pre-process Montagud nodes\n",
    "nodes_to_remove = ['FUSED_EVENT', 'AR_ERG']\n",
    "montagud_nodes = process_montagud_nodes(montagud_data, node_to_remove=nodes_to_remove)"
   ]
  },
  {
   "cell_type": "code",
   "execution_count": 23,
   "id": "8a9c1e8e",
   "metadata": {},
   "outputs": [
    {
     "name": "stderr",
     "output_type": "stream",
     "text": [
      "/Users/romane/repos/icr/Attractor-Resistance/pre_process_data/pre_process_genes.py:72: SettingWithCopyWarning: \n",
      "A value is trying to be set on a copy of a slice from a DataFrame\n",
      "\n",
      "See the caveats in the documentation: https://pandas.pydata.org/pandas-docs/stable/user_guide/indexing.html#returning-a-view-versus-a-copy\n",
      "  rna_seq_data.rename(columns={\"gene_symbol\": \"gene_name\"}, inplace=True)\n"
     ]
    }
   ],
   "source": [
    "# Pre-process RNA seq data (keep only montagud_nodes and patients ids) and create table for high and low expression\n",
    "rna_seq_data_filtered = process_genes(patients_ids, montagud_nodes, rna_seq_data)\n",
    "table_rna_seq_patients = create_table_rna_seq_patients(rna_seq_data_filtered)"
   ]
  },
  {
   "cell_type": "code",
   "execution_count": 24,
   "id": "7b458dac",
   "metadata": {},
   "outputs": [],
   "source": [
    "# Pre-process patients (keep only the patients id with gene expression data)\n",
    "\n",
    "top_resistant_ids = list(set(table_rna_seq_patients.index) & set(top_resistant_ids))\n",
    "top_sensitive_ids= list(set(table_rna_seq_patients.index) & set(top_sensitive_ids))\n",
    "\n",
    "patients_ids = top_resistant_ids + top_sensitive_ids"
   ]
  },
  {
   "cell_type": "code",
   "execution_count": 25,
   "id": "6bcac853",
   "metadata": {},
   "outputs": [],
   "source": [
    "def collect_group_data(group_folder_path):\n",
    "    combined_data = defaultdict(lambda: defaultdict(list))\n",
    "\n",
    "    for file in os.listdir(group_folder_path):\n",
    "        if file.startswith(\"_SID\") and file.endswith(\".csv\"):\n",
    "            file_path = os.path.join(group_folder_path, file)\n",
    "            df = pd.read_csv(file_path, index_col=0)\n",
    "\n",
    "            for input_name in df.index:\n",
    "                for phenotype in df.columns:\n",
    "                    value = df.at[input_name, phenotype]\n",
    "                    combined_data[input_name][phenotype].append(float(value))\n",
    "\n",
    "    result_df = pd.DataFrame.from_dict(combined_data, orient='index')\n",
    "    result_df.to_csv(os.path.join(group_folder_path, \"combined_results.csv\"))\n",
    "\n",
    "    return result_df"
   ]
  },
  {
   "cell_type": "code",
   "execution_count": 26,
   "id": "1de2eabd",
   "metadata": {},
   "outputs": [],
   "source": [
    "genes_enrichment_cond_pheno = pd.read_csv('results/genes_enrichment_egf_prolif.csv')\n",
    "genes_enrichment_cond_pheno = genes_enrichment_cond_pheno.rename(columns={'Unnamed: 0': 'gene_name'})\n",
    "\n",
    "genes_enrichment_cond_pheno = genes_enrichment_cond_pheno.sort_values(by='diff_means', ascending = False)\n",
    "\n",
    "# Select top 8 genes based on the 'diff_means' column\n",
    "if isinstance(genes_enrichment_cond_pheno['gene_name'].iloc[:8], str):\n",
    "    top_diff_genes = [genes_enrichment_cond_pheno['gene_name'].iloc[:8]]\n",
    "else:\n",
    "    top_diff_genes = list(genes_enrichment_cond_pheno['gene_name'].iloc[:8])"
   ]
  },
  {
   "cell_type": "code",
   "execution_count": 27,
   "id": "59badd28",
   "metadata": {},
   "outputs": [
    {
     "name": "stdout",
     "output_type": "stream",
     "text": [
      "<class 'list'>\n",
      "<class 'str'>\n"
     ]
    }
   ],
   "source": [
    "print(type(top_diff_genes))\n",
    "print(type(top_diff_genes[1]))"
   ]
  },
  {
   "cell_type": "code",
   "execution_count": 28,
   "id": "b4f33ead",
   "metadata": {},
   "outputs": [
    {
     "name": "stdout",
     "output_type": "stream",
     "text": [
      "top_diff_genes type: <class 'list'>\n",
      "top_diff_genes: ['FOXA1', 'FGFR3', 'JUN', 'FRS2', 'BCL2', 'E2F1', 'APAF1', 'EZH2']\n",
      "FOXA1\n",
      "<class 'str'>\n",
      "🔍 Processing patient SIDM00892, gene: FOXA1\n",
      "FOXA1 node found. Replacing...\n",
      "SIDM00892_Refametinib: CNV — nodes modified\n",
      "🔍 Processing patient SIDM01056, gene: FOXA1\n",
      "FOXA1 node found. Replacing...\n",
      "SIDM01056_Refametinib: CNV — nodes modified\n",
      "🔍 Processing patient SIDM00719, gene: FOXA1\n",
      "FOXA1 node found. Replacing...\n",
      "SIDM00719_Refametinib: CNV — nodes modified\n",
      "🔍 Processing patient SIDM01120, gene: FOXA1\n",
      "FOXA1 node found. Replacing...\n",
      "SIDM01120_Refametinib: CNV — nodes modified\n",
      "🔍 Processing patient SIDM00255, gene: FOXA1\n",
      "FOXA1 node found. Replacing...\n",
      "SIDM00255_Refametinib: CNV — nodes modified\n",
      "🔍 Processing patient SIDM00870, gene: FOXA1\n",
      "FOXA1 node found. Replacing...\n",
      "SIDM00870_Refametinib: CNV — nodes modified\n",
      "🔍 Processing patient SIDM00770, gene: FOXA1\n",
      "FOXA1 node found. Replacing...\n",
      "SIDM00770_Refametinib: CNV — nodes modified\n",
      "🔍 Processing patient SIDM00767, gene: FOXA1\n",
      "FOXA1 node found. Replacing...\n",
      "SIDM00767_Refametinib: CNV — nodes modified\n",
      "🔍 Processing patient SIDM00183, gene: FOXA1\n",
      "FOXA1 node found. Replacing...\n",
      "SIDM00183_Refametinib: CNV — nodes modified\n",
      "🔍 Processing patient SIDM00716, gene: FOXA1\n",
      "FOXA1 node found. Replacing...\n",
      "SIDM00716_Refametinib: CNV — nodes modified\n",
      "🔍 Processing patient SIDM00508, gene: FOXA1\n",
      "FOXA1 node found. Replacing...\n",
      "SIDM00508_Refametinib: CNV — nodes modified\n",
      "🔍 Processing patient SIDM00444, gene: FOXA1\n",
      "FOXA1 node found. Replacing...\n",
      "SIDM00444_Refametinib: CNV — nodes modified\n",
      "🔍 Processing patient SIDM00920, gene: FOXA1\n",
      "FOXA1 node found. Replacing...\n",
      "SIDM00920_Refametinib: CNV — nodes modified\n",
      "🔍 Processing patient SIDM00506, gene: FOXA1\n",
      "FOXA1 node found. Replacing...\n",
      "SIDM00506_Refametinib: CNV — nodes modified\n",
      "🔍 Processing patient SIDM00292, gene: FOXA1\n",
      "FOXA1 node found. Replacing...\n",
      "SIDM00292_Refametinib: CNV — nodes modified\n",
      "🔍 Processing patient SIDM00631, gene: FOXA1\n",
      "FOXA1 node found. Replacing...\n",
      "SIDM00631_Refametinib: CNV — nodes modified\n",
      "🔍 Processing patient SIDM00524, gene: FOXA1\n",
      "FOXA1 node found. Replacing...\n",
      "SIDM00524_Refametinib: CNV — nodes modified\n",
      "🔍 Processing patient SIDM00881, gene: FOXA1\n",
      "FOXA1 node found. Replacing...\n",
      "SIDM00881_Refametinib: CNV — nodes modified\n",
      "🔍 Processing patient SIDM00971, gene: FOXA1\n",
      "FOXA1 node found. Replacing...\n",
      "SIDM00971_Refametinib: CNV — nodes modified\n",
      "No .bnd file found for patient: SIDM00892\n",
      "No .bnd file found for patient: SIDM01056\n",
      "No .bnd file found for patient: SIDM00719\n",
      "No .bnd file found for patient: SIDM01120\n",
      "No .bnd file found for patient: SIDM00255\n",
      "No .bnd file found for patient: SIDM00870\n",
      "No .bnd file found for patient: SIDM00770\n",
      "No .bnd file found for patient: SIDM00767\n",
      "No .bnd file found for patient: SIDM00183\n",
      "No .bnd file found for patient: SIDM00716\n",
      "No .bnd file found for patient: SIDM00508\n",
      "No .bnd file found for patient: SIDM00444\n",
      "No .bnd file found for patient: SIDM00920\n",
      "No .bnd file found for patient: SIDM00506\n",
      "No .bnd file found for patient: SIDM00292\n",
      "No .bnd file found for patient: SIDM00631\n",
      "No .bnd file found for patient: SIDM00524\n",
      "No .bnd file found for patient: SIDM00881\n",
      "No .bnd file found for patient: SIDM00971\n",
      "FGFR3\n",
      "<class 'str'>\n",
      "🔍 Processing patient SIDM00892, gene: FGFR3\n",
      "FGFR3 node found. Replacing...\n",
      "SIDM00892_Refametinib: CNV — nodes modified\n",
      "🔍 Processing patient SIDM01056, gene: FGFR3\n",
      "FGFR3 node found. Replacing...\n",
      "SIDM01056_Refametinib: CNV — nodes modified\n",
      "🔍 Processing patient SIDM00719, gene: FGFR3\n",
      "FGFR3 node found. Replacing...\n",
      "SIDM00719_Refametinib: CNV — nodes modified\n",
      "🔍 Processing patient SIDM01120, gene: FGFR3\n",
      "FGFR3 node found. Replacing...\n",
      "SIDM01120_Refametinib: CNV — nodes modified\n",
      "🔍 Processing patient SIDM00255, gene: FGFR3\n",
      "FGFR3 node found. Replacing...\n",
      "SIDM00255_Refametinib: CNV — nodes modified\n",
      "🔍 Processing patient SIDM00870, gene: FGFR3\n",
      "FGFR3 node found. Replacing...\n",
      "SIDM00870_Refametinib: CNV — nodes modified\n",
      "🔍 Processing patient SIDM00770, gene: FGFR3\n",
      "FGFR3 node found. Replacing...\n",
      "SIDM00770_Refametinib: CNV — nodes modified\n",
      "🔍 Processing patient SIDM00767, gene: FGFR3\n",
      "FGFR3 node found. Replacing...\n",
      "SIDM00767_Refametinib: CNV — nodes modified\n",
      "🔍 Processing patient SIDM00183, gene: FGFR3\n",
      "FGFR3 node found. Replacing...\n",
      "SIDM00183_Refametinib: CNV — nodes modified\n",
      "🔍 Processing patient SIDM00716, gene: FGFR3\n",
      "FGFR3 node found. Replacing...\n",
      "SIDM00716_Refametinib: CNV — nodes modified\n",
      "🔍 Processing patient SIDM00508, gene: FGFR3\n",
      "FGFR3 node found. Replacing...\n",
      "SIDM00508_Refametinib: CNV — nodes modified\n",
      "🔍 Processing patient SIDM00444, gene: FGFR3\n",
      "FGFR3 node found. Replacing...\n",
      "SIDM00444_Refametinib: CNV — nodes modified\n",
      "🔍 Processing patient SIDM00920, gene: FGFR3\n",
      "FGFR3 node found. Replacing...\n",
      "SIDM00920_Refametinib: CNV — nodes modified\n",
      "🔍 Processing patient SIDM00506, gene: FGFR3\n",
      "FGFR3 node found. Replacing...\n",
      "SIDM00506_Refametinib: CNV — nodes modified\n",
      "🔍 Processing patient SIDM00292, gene: FGFR3\n",
      "FGFR3 node found. Replacing...\n",
      "SIDM00292_Refametinib: CNV — nodes modified\n",
      "🔍 Processing patient SIDM00631, gene: FGFR3\n",
      "FGFR3 node found. Replacing...\n",
      "SIDM00631_Refametinib: CNV — nodes modified\n",
      "🔍 Processing patient SIDM00524, gene: FGFR3\n",
      "FGFR3 node found. Replacing...\n",
      "SIDM00524_Refametinib: CNV — nodes modified\n",
      "🔍 Processing patient SIDM00881, gene: FGFR3\n",
      "FGFR3 node found. Replacing...\n",
      "SIDM00881_Refametinib: CNV — nodes modified\n",
      "🔍 Processing patient SIDM00971, gene: FGFR3\n",
      "FGFR3 node found. Replacing...\n",
      "SIDM00971_Refametinib: CNV — nodes modified\n",
      "No .bnd file found for patient: SIDM00892\n",
      "No .bnd file found for patient: SIDM01056\n",
      "No .bnd file found for patient: SIDM00719\n",
      "No .bnd file found for patient: SIDM01120\n",
      "No .bnd file found for patient: SIDM00255\n",
      "No .bnd file found for patient: SIDM00870\n",
      "No .bnd file found for patient: SIDM00770\n",
      "No .bnd file found for patient: SIDM00767\n",
      "No .bnd file found for patient: SIDM00183\n",
      "No .bnd file found for patient: SIDM00716\n",
      "No .bnd file found for patient: SIDM00508\n",
      "No .bnd file found for patient: SIDM00444\n",
      "No .bnd file found for patient: SIDM00920\n",
      "No .bnd file found for patient: SIDM00506\n",
      "No .bnd file found for patient: SIDM00292\n",
      "No .bnd file found for patient: SIDM00631\n",
      "No .bnd file found for patient: SIDM00524\n",
      "No .bnd file found for patient: SIDM00881\n",
      "No .bnd file found for patient: SIDM00971\n",
      "JUN\n",
      "<class 'str'>\n",
      "🔍 Processing patient SIDM00892, gene: JUN\n",
      "JUN node found. Replacing...\n",
      "SIDM00892_Refametinib: CNV — nodes modified\n",
      "🔍 Processing patient SIDM01056, gene: JUN\n",
      "JUN node found. Replacing...\n",
      "SIDM01056_Refametinib: CNV — nodes modified\n",
      "🔍 Processing patient SIDM00719, gene: JUN\n",
      "JUN node found. Replacing...\n",
      "SIDM00719_Refametinib: CNV — nodes modified\n",
      "🔍 Processing patient SIDM01120, gene: JUN\n",
      "JUN node found. Replacing...\n",
      "SIDM01120_Refametinib: CNV — nodes modified\n",
      "🔍 Processing patient SIDM00255, gene: JUN\n",
      "JUN node found. Replacing...\n",
      "SIDM00255_Refametinib: CNV — nodes modified\n",
      "🔍 Processing patient SIDM00870, gene: JUN\n",
      "JUN node found. Replacing...\n",
      "SIDM00870_Refametinib: CNV — nodes modified\n",
      "🔍 Processing patient SIDM00770, gene: JUN\n",
      "JUN node found. Replacing...\n",
      "SIDM00770_Refametinib: CNV — nodes modified\n",
      "🔍 Processing patient SIDM00767, gene: JUN\n",
      "JUN node found. Replacing...\n",
      "SIDM00767_Refametinib: CNV — nodes modified\n",
      "🔍 Processing patient SIDM00183, gene: JUN\n",
      "JUN node found. Replacing...\n",
      "SIDM00183_Refametinib: CNV — nodes modified\n",
      "🔍 Processing patient SIDM00716, gene: JUN\n",
      "JUN node found. Replacing...\n",
      "SIDM00716_Refametinib: CNV — nodes modified\n",
      "🔍 Processing patient SIDM00508, gene: JUN\n",
      "JUN node found. Replacing...\n",
      "SIDM00508_Refametinib: CNV — nodes modified\n",
      "🔍 Processing patient SIDM00444, gene: JUN\n",
      "JUN node found. Replacing...\n",
      "SIDM00444_Refametinib: CNV — nodes modified\n",
      "🔍 Processing patient SIDM00920, gene: JUN\n",
      "JUN node found. Replacing...\n",
      "SIDM00920_Refametinib: CNV — nodes modified\n",
      "🔍 Processing patient SIDM00506, gene: JUN\n",
      "JUN node found. Replacing...\n",
      "SIDM00506_Refametinib: CNV — nodes modified\n",
      "🔍 Processing patient SIDM00292, gene: JUN\n",
      "JUN node found. Replacing...\n",
      "SIDM00292_Refametinib: CNV — nodes modified\n",
      "🔍 Processing patient SIDM00631, gene: JUN\n",
      "JUN node found. Replacing...\n",
      "SIDM00631_Refametinib: CNV — nodes modified\n",
      "🔍 Processing patient SIDM00524, gene: JUN\n",
      "JUN node found. Replacing...\n",
      "SIDM00524_Refametinib: CNV — nodes modified\n",
      "🔍 Processing patient SIDM00881, gene: JUN\n",
      "JUN node found. Replacing...\n",
      "SIDM00881_Refametinib: CNV — nodes modified\n",
      "🔍 Processing patient SIDM00971, gene: JUN\n",
      "JUN node found. Replacing...\n",
      "SIDM00971_Refametinib: CNV — nodes modified\n",
      "No .bnd file found for patient: SIDM00892\n",
      "No .bnd file found for patient: SIDM01056\n",
      "No .bnd file found for patient: SIDM00719\n",
      "No .bnd file found for patient: SIDM01120\n",
      "No .bnd file found for patient: SIDM00255\n",
      "No .bnd file found for patient: SIDM00870\n",
      "No .bnd file found for patient: SIDM00770\n",
      "No .bnd file found for patient: SIDM00767\n",
      "No .bnd file found for patient: SIDM00183\n",
      "No .bnd file found for patient: SIDM00716\n",
      "No .bnd file found for patient: SIDM00508\n",
      "No .bnd file found for patient: SIDM00444\n",
      "No .bnd file found for patient: SIDM00920\n",
      "No .bnd file found for patient: SIDM00506\n",
      "No .bnd file found for patient: SIDM00292\n",
      "No .bnd file found for patient: SIDM00631\n",
      "No .bnd file found for patient: SIDM00524\n",
      "No .bnd file found for patient: SIDM00881\n",
      "No .bnd file found for patient: SIDM00971\n"
     ]
    },
    {
     "ename": "KeyboardInterrupt",
     "evalue": "",
     "output_type": "error",
     "traceback": [
      "\u001b[31m---------------------------------------------------------------------------\u001b[39m",
      "\u001b[31mKeyboardInterrupt\u001b[39m                         Traceback (most recent call last)",
      "\u001b[36mCell\u001b[39m\u001b[36m \u001b[39m\u001b[32mIn[28]\u001b[39m\u001b[32m, line 25\u001b[39m\n\u001b[32m     22\u001b[39m     compute_phenotype_table(folder_result_resistant, temp_res_dir, patient, inputs_list, phenotype_interest, drug_interest)\n\u001b[32m     24\u001b[39m \u001b[38;5;28;01mfor\u001b[39;00m patient \u001b[38;5;129;01min\u001b[39;00m top_sensitive_ids:\n\u001b[32m---> \u001b[39m\u001b[32m25\u001b[39m     \u001b[43mcompute_phenotype_table\u001b[49m\u001b[43m(\u001b[49m\u001b[43mfolder_result_sensitive\u001b[49m\u001b[43m,\u001b[49m\u001b[43m \u001b[49m\u001b[43mtemp_sens_dir\u001b[49m\u001b[43m,\u001b[49m\u001b[43m \u001b[49m\u001b[43mpatient\u001b[49m\u001b[43m,\u001b[49m\u001b[43m \u001b[49m\u001b[43minputs_list\u001b[49m\u001b[43m,\u001b[49m\u001b[43m \u001b[49m\u001b[43mphenotype_interest\u001b[49m\u001b[43m,\u001b[49m\u001b[43m \u001b[49m\u001b[43mdrug_interest\u001b[49m\u001b[43m)\u001b[49m\n\u001b[32m     29\u001b[39m df_res_combined = collect_group_data(folder_result_resistant)\n\u001b[32m     30\u001b[39m df_sens_combined = collect_group_data(folder_result_sensitive)\n",
      "\u001b[36mFile \u001b[39m\u001b[32m~/repos/icr/Attractor-Resistance/MaBoSS_simulation/maboss_phenotype_patient.py:92\u001b[39m, in \u001b[36mcompute_phenotype_table\u001b[39m\u001b[34m(folder_save_results, folder_models, patient_id, input_nodes, phenotypes_interest, tissue)\u001b[39m\n\u001b[32m     88\u001b[39m \u001b[38;5;28;01mwhile\u001b[39;00m \u001b[38;5;129;01mnot\u001b[39;00m converged \u001b[38;5;129;01mand\u001b[39;00m current_max_time < max_time_limit:\n\u001b[32m     89\u001b[39m     model_pers_lung.update_parameters(\n\u001b[32m     90\u001b[39m         time_tick=\u001b[32m0.1\u001b[39m, max_time=current_max_time, sample_count=\u001b[32m500\u001b[39m\n\u001b[32m     91\u001b[39m     )\n\u001b[32m---> \u001b[39m\u001b[32m92\u001b[39m     res_lung_pers = \u001b[43mmodel_pers_lung\u001b[49m\u001b[43m.\u001b[49m\u001b[43mrun\u001b[49m\u001b[43m(\u001b[49m\u001b[43m)\u001b[49m\n\u001b[32m     94\u001b[39m     last_state = res_lung_pers.get_nodes_probtraj()\n\u001b[32m     95\u001b[39m     \u001b[38;5;28;01mif\u001b[39;00m \u001b[38;5;28mlen\u001b[39m(last_state) < \u001b[32m10\u001b[39m:\n",
      "\u001b[36mFile \u001b[39m\u001b[32m~/repos/icr/Attractor-Resistance/.env/lib/python3.13/site-packages/maboss/simulation.py:275\u001b[39m, in \u001b[36mSimulation.run\u001b[39m\u001b[34m(self, command, workdir, overwrite, prefix, cmaboss, only_final_state)\u001b[39m\n\u001b[32m    272\u001b[39m \u001b[38;5;28;01mif\u001b[39;00m overwrite:\n\u001b[32m    273\u001b[39m     \u001b[38;5;28mself\u001b[39m.overwrite = overwrite\n\u001b[32m--> \u001b[39m\u001b[32m275\u001b[39m \u001b[38;5;28;01mreturn\u001b[39;00m \u001b[43mResult\u001b[49m\u001b[43m(\u001b[49m\u001b[38;5;28;43mself\u001b[39;49m\u001b[43m,\u001b[49m\u001b[43m \u001b[49m\u001b[43mcommand\u001b[49m\u001b[43m,\u001b[49m\u001b[43m \u001b[49m\u001b[38;5;28;43mself\u001b[39;49m\u001b[43m.\u001b[49m\u001b[43mworkdir\u001b[49m\u001b[43m,\u001b[49m\u001b[43m \u001b[49m\u001b[38;5;28;43mself\u001b[39;49m\u001b[43m.\u001b[49m\u001b[43moverwrite\u001b[49m\u001b[43m,\u001b[49m\u001b[43m \u001b[49m\u001b[43mprefix\u001b[49m\u001b[43m)\u001b[49m\n",
      "\u001b[36mFile \u001b[39m\u001b[32m~/repos/icr/Attractor-Resistance/.env/lib/python3.13/site-packages/maboss/result.py:58\u001b[39m, in \u001b[36mResult.__init__\u001b[39m\u001b[34m(self, simul, command, workdir, overwrite, prefix)\u001b[39m\n\u001b[32m     55\u001b[39m \u001b[38;5;28;01mif\u001b[39;00m command:\n\u001b[32m     56\u001b[39m     maboss_cmd = command\n\u001b[32m---> \u001b[39m\u001b[32m58\u001b[39m \u001b[38;5;28mself\u001b[39m._err = \u001b[43msubprocess\u001b[49m\u001b[43m.\u001b[49m\u001b[43mcall\u001b[49m\u001b[43m(\u001b[49m\u001b[43m[\u001b[49m\u001b[43mmaboss_cmd\u001b[49m\u001b[43m,\u001b[49m\u001b[43m \u001b[49m\u001b[33;43m\"\u001b[39;49m\u001b[33;43m-c\u001b[39;49m\u001b[33;43m\"\u001b[39;49m\u001b[43m,\u001b[49m\u001b[43m \u001b[49m\u001b[38;5;28;43mself\u001b[39;49m\u001b[43m.\u001b[49m\u001b[43m_cfg\u001b[49m\u001b[43m,\u001b[49m\u001b[43m \u001b[49m\u001b[33;43m\"\u001b[39;49m\u001b[33;43m-o\u001b[39;49m\u001b[33;43m\"\u001b[39;49m\u001b[43m,\u001b[49m\n\u001b[32m     59\u001b[39m \u001b[43m                            \u001b[49m\u001b[43mos\u001b[49m\u001b[43m.\u001b[49m\u001b[43mpath\u001b[49m\u001b[43m.\u001b[49m\u001b[43mjoin\u001b[49m\u001b[43m(\u001b[49m\u001b[38;5;28;43mself\u001b[39;49m\u001b[43m.\u001b[49m\u001b[43m_path\u001b[49m\u001b[43m,\u001b[49m\u001b[43m \u001b[49m\u001b[38;5;28;43mself\u001b[39;49m\u001b[43m.\u001b[49m\u001b[43mprefix\u001b[49m\u001b[43m)\u001b[49m\u001b[43m,\u001b[49m\u001b[43m \u001b[49m\u001b[38;5;28;43mself\u001b[39;49m\u001b[43m.\u001b[49m\u001b[43m_bnd\u001b[49m\u001b[43m]\u001b[49m\u001b[43m)\u001b[49m\n\u001b[32m     60\u001b[39m \u001b[38;5;28;01mif\u001b[39;00m \u001b[38;5;28mself\u001b[39m._err:\n\u001b[32m     61\u001b[39m     \u001b[38;5;28mprint\u001b[39m(\u001b[33m\"\u001b[39m\u001b[33mError, MaBoSS returned non 0 value\u001b[39m\u001b[33m\"\u001b[39m, file=stderr)\n",
      "\u001b[36mFile \u001b[39m\u001b[32m/opt/homebrew/Cellar/python@3.13/3.13.3/Frameworks/Python.framework/Versions/3.13/lib/python3.13/subprocess.py:397\u001b[39m, in \u001b[36mcall\u001b[39m\u001b[34m(timeout, *popenargs, **kwargs)\u001b[39m\n\u001b[32m    395\u001b[39m \u001b[38;5;28;01mwith\u001b[39;00m Popen(*popenargs, **kwargs) \u001b[38;5;28;01mas\u001b[39;00m p:\n\u001b[32m    396\u001b[39m     \u001b[38;5;28;01mtry\u001b[39;00m:\n\u001b[32m--> \u001b[39m\u001b[32m397\u001b[39m         \u001b[38;5;28;01mreturn\u001b[39;00m \u001b[43mp\u001b[49m\u001b[43m.\u001b[49m\u001b[43mwait\u001b[49m\u001b[43m(\u001b[49m\u001b[43mtimeout\u001b[49m\u001b[43m=\u001b[49m\u001b[43mtimeout\u001b[49m\u001b[43m)\u001b[49m\n\u001b[32m    398\u001b[39m     \u001b[38;5;28;01mexcept\u001b[39;00m:  \u001b[38;5;66;03m# Including KeyboardInterrupt, wait handled that.\u001b[39;00m\n\u001b[32m    399\u001b[39m         p.kill()\n",
      "\u001b[36mFile \u001b[39m\u001b[32m/opt/homebrew/Cellar/python@3.13/3.13.3/Frameworks/Python.framework/Versions/3.13/lib/python3.13/subprocess.py:1277\u001b[39m, in \u001b[36mPopen.wait\u001b[39m\u001b[34m(self, timeout)\u001b[39m\n\u001b[32m   1275\u001b[39m     endtime = _time() + timeout\n\u001b[32m   1276\u001b[39m \u001b[38;5;28;01mtry\u001b[39;00m:\n\u001b[32m-> \u001b[39m\u001b[32m1277\u001b[39m     \u001b[38;5;28;01mreturn\u001b[39;00m \u001b[38;5;28;43mself\u001b[39;49m\u001b[43m.\u001b[49m\u001b[43m_wait\u001b[49m\u001b[43m(\u001b[49m\u001b[43mtimeout\u001b[49m\u001b[43m=\u001b[49m\u001b[43mtimeout\u001b[49m\u001b[43m)\u001b[49m\n\u001b[32m   1278\u001b[39m \u001b[38;5;28;01mexcept\u001b[39;00m \u001b[38;5;167;01mKeyboardInterrupt\u001b[39;00m:\n\u001b[32m   1279\u001b[39m     \u001b[38;5;66;03m# https://bugs.python.org/issue25942\u001b[39;00m\n\u001b[32m   1280\u001b[39m     \u001b[38;5;66;03m# The first keyboard interrupt waits briefly for the child to\u001b[39;00m\n\u001b[32m   1281\u001b[39m     \u001b[38;5;66;03m# exit under the common assumption that it also received the ^C\u001b[39;00m\n\u001b[32m   1282\u001b[39m     \u001b[38;5;66;03m# generated SIGINT and will exit rapidly.\u001b[39;00m\n\u001b[32m   1283\u001b[39m     \u001b[38;5;28;01mif\u001b[39;00m timeout \u001b[38;5;129;01mis\u001b[39;00m \u001b[38;5;129;01mnot\u001b[39;00m \u001b[38;5;28;01mNone\u001b[39;00m:\n",
      "\u001b[36mFile \u001b[39m\u001b[32m/opt/homebrew/Cellar/python@3.13/3.13.3/Frameworks/Python.framework/Versions/3.13/lib/python3.13/subprocess.py:2063\u001b[39m, in \u001b[36mPopen._wait\u001b[39m\u001b[34m(self, timeout)\u001b[39m\n\u001b[32m   2061\u001b[39m \u001b[38;5;28;01mif\u001b[39;00m \u001b[38;5;28mself\u001b[39m.returncode \u001b[38;5;129;01mis\u001b[39;00m \u001b[38;5;129;01mnot\u001b[39;00m \u001b[38;5;28;01mNone\u001b[39;00m:\n\u001b[32m   2062\u001b[39m     \u001b[38;5;28;01mbreak\u001b[39;00m  \u001b[38;5;66;03m# Another thread waited.\u001b[39;00m\n\u001b[32m-> \u001b[39m\u001b[32m2063\u001b[39m (pid, sts) = \u001b[38;5;28;43mself\u001b[39;49m\u001b[43m.\u001b[49m\u001b[43m_try_wait\u001b[49m\u001b[43m(\u001b[49m\u001b[32;43m0\u001b[39;49m\u001b[43m)\u001b[49m\n\u001b[32m   2064\u001b[39m \u001b[38;5;66;03m# Check the pid and loop as waitpid has been known to\u001b[39;00m\n\u001b[32m   2065\u001b[39m \u001b[38;5;66;03m# return 0 even without WNOHANG in odd situations.\u001b[39;00m\n\u001b[32m   2066\u001b[39m \u001b[38;5;66;03m# http://bugs.python.org/issue14396.\u001b[39;00m\n\u001b[32m   2067\u001b[39m \u001b[38;5;28;01mif\u001b[39;00m pid == \u001b[38;5;28mself\u001b[39m.pid:\n",
      "\u001b[36mFile \u001b[39m\u001b[32m/opt/homebrew/Cellar/python@3.13/3.13.3/Frameworks/Python.framework/Versions/3.13/lib/python3.13/subprocess.py:2021\u001b[39m, in \u001b[36mPopen._try_wait\u001b[39m\u001b[34m(self, wait_flags)\u001b[39m\n\u001b[32m   2019\u001b[39m \u001b[38;5;250m\u001b[39m\u001b[33;03m\"\"\"All callers to this function MUST hold self._waitpid_lock.\"\"\"\u001b[39;00m\n\u001b[32m   2020\u001b[39m \u001b[38;5;28;01mtry\u001b[39;00m:\n\u001b[32m-> \u001b[39m\u001b[32m2021\u001b[39m     (pid, sts) = \u001b[43mos\u001b[49m\u001b[43m.\u001b[49m\u001b[43mwaitpid\u001b[49m\u001b[43m(\u001b[49m\u001b[38;5;28;43mself\u001b[39;49m\u001b[43m.\u001b[49m\u001b[43mpid\u001b[49m\u001b[43m,\u001b[49m\u001b[43m \u001b[49m\u001b[43mwait_flags\u001b[49m\u001b[43m)\u001b[49m\n\u001b[32m   2022\u001b[39m \u001b[38;5;28;01mexcept\u001b[39;00m \u001b[38;5;167;01mChildProcessError\u001b[39;00m:\n\u001b[32m   2023\u001b[39m     \u001b[38;5;66;03m# This happens if SIGCLD is set to be ignored or waiting\u001b[39;00m\n\u001b[32m   2024\u001b[39m     \u001b[38;5;66;03m# for child processes has otherwise been disabled for our\u001b[39;00m\n\u001b[32m   2025\u001b[39m     \u001b[38;5;66;03m# process.  This child is dead, we can't get the status.\u001b[39;00m\n\u001b[32m   2026\u001b[39m     pid = \u001b[38;5;28mself\u001b[39m.pid\n",
      "\u001b[31mKeyboardInterrupt\u001b[39m: "
     ]
    }
   ],
   "source": [
    "genes_to_target = []\n",
    "\n",
    "print(\"top_diff_genes type:\", type(top_diff_genes))\n",
    "print(\"top_diff_genes:\", top_diff_genes)\n",
    "\n",
    "\n",
    "for gene in top_diff_genes:\n",
    "    print(gene)\n",
    "    print(type(gene))\n",
    "    # 1. Create a temporary directory for this gene's models\n",
    "    with tempfile.TemporaryDirectory() as temp_res_dir, tempfile.TemporaryDirectory() as temp_sens_dir:\n",
    "\n",
    "        # 2. Copy the original models into the temp directory\n",
    "        shutil.copytree(folder_models_res, temp_res_dir, dirs_exist_ok=True)\n",
    "        shutil.copytree(folder_models_sens, temp_sens_dir, dirs_exist_ok=True)\n",
    "\n",
    "        tailor_bnd_genes_intervention(gene, top_resistant_ids, temp_res_dir, tissue_interest)\n",
    "        tailor_bnd_genes_intervention(gene, top_resistant_ids, temp_sens_dir, tissue_interest)\n",
    "\n",
    "\n",
    "        for patient in top_resistant_ids:\n",
    "            compute_phenotype_table(folder_result_resistant, temp_res_dir, patient, inputs_list, phenotype_interest, drug_interest)\n",
    "\n",
    "        for patient in top_sensitive_ids:\n",
    "            compute_phenotype_table(folder_result_sensitive, temp_sens_dir, patient, inputs_list, phenotype_interest, drug_interest)\n",
    "\n",
    "\n",
    "\n",
    "        df_res_combined = collect_group_data(folder_result_resistant)\n",
    "        df_sens_combined = collect_group_data(folder_result_sensitive)\n",
    "        \n",
    "        df_res_combined = pd.read_csv(f'{folder_result_resistant}/combined_results.csv', index_col=0)  # index: inputs, columns: phenotypes\n",
    "        df_sens_combined = pd.read_csv(f'{folder_result_sensitive}/combined_results.csv', index_col=0)\n",
    "\n",
    "        patient_res_values =  pd.read_csv(f'{folder_result_resistant}/combined_results.csv')\n",
    "        patient_sens_values = pd.read_csv(f'{folder_result_sensitive}/combined_results.csv')\n",
    "        compute_mannwhitneyu_test_means(folder_result,patient_res_values, patient_sens_values, drug_interest)\n",
    "\n",
    "        data_greater_side = pd.read_csv(f'{folder_result}/sensitive_resistant_results/p_values_df_mannwhitneyu_greater_sign_{drug_interest}.csv')\n",
    "        data_less_side = pd.read_csv(f'{folder_result}/sensitive_resistant_results/p_values_df_mannwhitneyu_less_sign_{drug_interest}.csv')\n",
    "        data_both_side = pd.read_csv(f'{folder_result}/sensitive_resistant_results/p_values_df_mannwhitneyu_two_sides_{drug_interest}.csv')\n",
    "\n",
    "        signif_df = pd.concat([data_greater_side, data_less_side, data_both_side], axis=0)\n",
    "\n",
    "        if ('Proliferation' not in data_greater_side['Phenotype'].values):\n",
    "            genes_to_target.append(gene)\n",
    "\n",
    "\n",
    "print(genes_to_target)\n",
    "\n"
   ]
  },
  {
   "cell_type": "code",
   "execution_count": null,
   "id": "e27d4000",
   "metadata": {},
   "outputs": [],
   "source": []
  },
  {
   "cell_type": "code",
   "execution_count": null,
   "id": "1932ec6c",
   "metadata": {},
   "outputs": [],
   "source": []
  },
  {
   "cell_type": "code",
   "execution_count": null,
   "id": "0612be93",
   "metadata": {},
   "outputs": [],
   "source": []
  },
  {
   "cell_type": "code",
   "execution_count": null,
   "id": "181b80f1",
   "metadata": {},
   "outputs": [],
   "source": []
  },
  {
   "cell_type": "markdown",
   "id": "9a56cc70",
   "metadata": {},
   "source": [
    "Personalize the cfg files with the \"simulated KO\" of FOXA1, BCL2, and BIRC5"
   ]
  },
  {
   "cell_type": "code",
   "execution_count": null,
   "id": "5d603c39",
   "metadata": {},
   "outputs": [],
   "source": [
    "# tailor_bnd_genes_intervention(top_diff_genes, top_resistant_ids, folder_models_res, tissue_interest)"
   ]
  },
  {
   "cell_type": "markdown",
   "id": "01754ed5",
   "metadata": {},
   "source": [
    "Step 7: compute the phenotype distribution "
   ]
  },
  {
   "cell_type": "code",
   "execution_count": null,
   "id": "4ca22aaa",
   "metadata": {},
   "outputs": [],
   "source": [
    "# Compute phenotype distribution for each patient\n",
    "\n",
    "# for patient in top_resistant_ids:\n",
    "#     compute_phenotype_table(folder_result_resistant, folder_models_res, patient, inputs_list, phenotype_interest, drug_interest)\n",
    "    \n",
    "# for patient in top_sensitive_ids:\n",
    "#     compute_phenotype_table(folder_result_sensitive, folder_models_sens, patient, inputs_list, phenotype_interest, drug_interest)\n",
    "    "
   ]
  },
  {
   "cell_type": "code",
   "execution_count": null,
   "id": "d8c0527c",
   "metadata": {},
   "outputs": [],
   "source": [
    "# df_res_combined = collect_group_data(folder_result_resistant)\n",
    "# df_sens_combined = collect_group_data(folder_result_sensitive)\n"
   ]
  },
  {
   "cell_type": "code",
   "execution_count": null,
   "id": "14e5c795",
   "metadata": {},
   "outputs": [],
   "source": [
    "# stats test between the two combined dataframes (sensitive vs resistant)\n",
    "\n",
    "# res_combined_path = \"results/Refametinib_PAN_CANCER/resistant_results/only_gene_expression/single_input_on/phenotype_distribution_patients/combined_results.csv\"\n",
    "# sens_combined_path = \"results/Refametinib_PAN_CANCER/sensitive_results/only_gene_expression/single_input_on/phenotype_distribution_patients/combined_results.csv\"\n",
    "\n",
    "# df_res_combined = pd.read_csv(f'{folder_result_resistant}/combined_results.csv', index_col=0)  # index: inputs, columns: phenotypes\n",
    "# df_sens_combined = pd.read_csv(f'{folder_result_sensitive}/combined_results.csv', index_col=0)"
   ]
  },
  {
   "cell_type": "code",
   "execution_count": null,
   "id": "83bde36c",
   "metadata": {},
   "outputs": [],
   "source": [
    "# patient_res_values =  pd.read_csv(f'{folder_result_resistant}/combined_results.csv')\n",
    "# patient_sens_values = pd.read_csv(f'{folder_result_sensitive}/combined_results.csv')\n",
    "# compute_mannwhitneyu_test_means(folder_result,patient_res_values, patient_sens_values, drug_interest)"
   ]
  },
  {
   "cell_type": "code",
   "execution_count": null,
   "id": "8e928ec1",
   "metadata": {},
   "outputs": [],
   "source": [
    "# data_greater_side = pd.read_csv(f'{folder_result}/sensitive_resistant_results/p_values_df_mannwhitneyu_greater_sign_{drug_interest}.csv')\n",
    "# data_less_side = pd.read_csv(f'{folder_result}/sensitive_resistant_results/p_values_df_mannwhitneyu_less_sign_{drug_interest}.csv')\n",
    "# data_both_side = pd.read_csv(f'{folder_result}/sensitive_resistant_results/p_values_df_mannwhitneyu_two_sides_{drug_interest}.csv')\n",
    "\n",
    "# signif_df = pd.concat([data_greater_side, data_less_side, data_both_side], axis=0)"
   ]
  },
  {
   "cell_type": "code",
   "execution_count": null,
   "id": "5c3bf883",
   "metadata": {},
   "outputs": [],
   "source": [
    "create_boxplot(df_res_combined, df_sens_combined, data_both_side)"
   ]
  },
  {
   "cell_type": "code",
   "execution_count": null,
   "id": "ecf8412c",
   "metadata": {},
   "outputs": [],
   "source": []
  },
  {
   "cell_type": "code",
   "execution_count": null,
   "id": "aa9919fa",
   "metadata": {},
   "outputs": [],
   "source": []
  },
  {
   "cell_type": "markdown",
   "id": "3a3359b9",
   "metadata": {},
   "source": [
    "Compute attractors phenotype mean and power calculation to count the nb of patients needed in each group"
   ]
  },
  {
   "cell_type": "code",
   "execution_count": null,
   "id": "5836ef3f",
   "metadata": {},
   "outputs": [],
   "source": [
    "conditions = df_res_combined.index\n",
    "phenotypes = df_res_combined.columns\n",
    "mean_df_res_combined = pd.DataFrame(index=conditions, columns=phenotypes)\n",
    "\n",
    "\n",
    "for condition, values in df_res_combined.iterrows():\n",
    "    for phenotype in df_res_combined.columns:\n",
    "\n",
    "        df_res_values = df_res_combined.loc[condition][phenotype]\n",
    "        df_res_values = ast.literal_eval(df_res_values)\n",
    "        mean = sum(df_res_values)/ len(df_res_values)\n",
    "        mean_df_res_combined.loc[condition][phenotype] = mean\n",
    "print(mean_df_res_combined)\n",
    "\n",
    "\n",
    "\n",
    "\n",
    "conditions = df_sens_combined.index\n",
    "phenotypes = df_sens_combined.columns\n",
    "mean_df_sens_combined = pd.DataFrame(index=conditions, columns=phenotypes)\n",
    "\n",
    "\n",
    "for condition, values in df_sens_combined.iterrows():\n",
    "    for phenotype in df_sens_combined.columns:\n",
    "\n",
    "        df_res_values = df_sens_combined.loc[condition][phenotype]\n",
    "        df_res_values = ast.literal_eval(df_res_values)\n",
    "        mean = sum(df_res_values)/ len(df_res_values)\n",
    "        mean_df_sens_combined.loc[condition][phenotype] = mean\n",
    "print(mean_df_sens_combined)"
   ]
  },
  {
   "cell_type": "markdown",
   "id": "d037a191",
   "metadata": {},
   "source": [
    "Power calculation for every condition-phenotype pairs"
   ]
  },
  {
   "cell_type": "code",
   "execution_count": null,
   "id": "636ee14a",
   "metadata": {},
   "outputs": [],
   "source": [
    "# # power calculation \n",
    "\n",
    "# nb_patients_required = pd.DataFrame(index=conditions, columns=phenotypes)\n",
    "\n",
    "# for condition, values in df_res_combined.iterrows():\n",
    "#     for phenotype in df_res_combined.columns:\n",
    "\n",
    "\n",
    "#         data_res =  ast.literal_eval(df_res_combined.loc[condition][phenotype])\n",
    "#         data_sens = ast.literal_eval(df_sens_combined.loc[condition][phenotype])\n",
    "\n",
    "#         res_patients_mean = np.mean(data_res)\n",
    "#         sens_patients_mean = np.mean(data_sens)\n",
    "\n",
    "#         res_patients_std = np.std(data_res)\n",
    "#         sens_patients_std = np.std(data_sens)\n",
    "\n",
    "#         n_res_group = len(data_res)\n",
    "#         n_sens_group = len(data_sens)\n",
    "#         sd_pooled = np.sqrt(\n",
    "#             ((n_res_group - 1) * res_patients_std**2 + (n_sens_group - 1) * sens_patients_std**2)\n",
    "#             / (n_res_group + n_sens_group - 2)\n",
    "#         )\n",
    "\n",
    "#         d = res_patients_mean -sens_patients_mean/sd_pooled\n",
    "\n",
    "#         analysis = TTestIndPower()\n",
    "#         sample_size = analysis.solve_power(effect_size=d, power=0.8, alpha=0.05, alternative='two-sided')\n",
    "#         nb_patients_required.loc[condition][phenotype] = sample_size\n",
    "\n",
    "# print(nb_patients_required)\n",
    "# print(nb_patients_required[nb_patients_required <= 20])\n",
    "\n",
    "\n",
    "\n"
   ]
  },
  {
   "cell_type": "markdown",
   "id": "98712421",
   "metadata": {},
   "source": [
    "Results: using a T-test with alpha of 0.05 we will have 80% power to detect an effect size of 0.62 * StDev (ie effect > 10) with a minimum study size of 19 patients per group."
   ]
  },
  {
   "cell_type": "code",
   "execution_count": null,
   "id": "57cf8c6a",
   "metadata": {},
   "outputs": [],
   "source": [
    "significant_kruskal_results = compute_kruskal(inputs_list, phenotype_interest, df_res_combined, df_sens_combined)"
   ]
  },
  {
   "cell_type": "markdown",
   "id": "601cf228",
   "metadata": {},
   "source": [
    "Step 7: Compute stats test between two mean datasets"
   ]
  },
  {
   "cell_type": "code",
   "execution_count": null,
   "id": "ceef3985",
   "metadata": {},
   "outputs": [],
   "source": [
    "# patient_res_stats_values = pd.read_csv(f'{folder_result}/resistant_results/only_gene_expression/single_input_on/patients_resistant_values_stats_{drug_interest}.csv')\n",
    "# patient_sens_stats_values = pd.read_csv(f'{folder_result}/sensitive_results/only_gene_expression/single_input_on/patients_sensitive_values_stats_{drug_interest}.csv')\n",
    "\n",
    "patient_res_stats_values =  pd.read_csv(f'{folder_result_resistant}/combined_results.csv')\n",
    "patient_sens_stats_values = pd.read_csv(f'{folder_result_sensitive}/combined_results.csv')\n",
    "compute_mannwhitneyu_test_means(folder_result,patient_res_stats_values, patient_sens_stats_values, drug_interest)"
   ]
  },
  {
   "cell_type": "markdown",
   "id": "bf053c65",
   "metadata": {},
   "source": [
    "Step 8: Vizualise the boxplot of phenotype distribution output"
   ]
  },
  {
   "cell_type": "code",
   "execution_count": null,
   "id": "662bda1f",
   "metadata": {},
   "outputs": [],
   "source": [
    "# patient_res_values = pd.read_csv(f'{folder_result}/resistant_results/only_gene_expression/single_input_on/patients_resistant_values_stats_{drug_interest}.csv')\n",
    "# patient_sens_values = pd.read_csv(f'{folder_result}/sensitive_results/only_gene_expression/single_input_on/patients_sensitive_values_stats_{drug_interest}.csv')\n",
    "#data_greater_side = pd.read_csv(f'{folder_result}/sensitive_resistant_results/p_values_df_mannwhitneyu_greater_sign_{drug_interest}.csv')\n",
    "\n",
    "\n",
    "data_greater_side = pd.read_csv(f'{folder_result}/sensitive_resistant_results/p_values_df_mannwhitneyu_greater_sign_Refametinib.csv')\n",
    "data_less_side = pd.read_csv(f'{folder_result}/sensitive_resistant_results/p_values_df_mannwhitneyu_less_sign_Refametinib.csv')\n",
    "data_both_side = pd.read_csv(f'{folder_result}/sensitive_resistant_results/p_values_df_mannwhitneyu_two_sides_Refametinib.csv')\n",
    "\n",
    "signif_df = pd.concat([data_greater_side, data_less_side, data_greater_side], axis=0)"
   ]
  },
  {
   "cell_type": "code",
   "execution_count": null,
   "id": "7d6e4449",
   "metadata": {},
   "outputs": [],
   "source": [
    "create_boxplot(patient_res_stats_values, patient_sens_stats_values, signif_df)\n"
   ]
  },
  {
   "cell_type": "markdown",
   "id": "921ef689",
   "metadata": {},
   "source": [
    "Step 9: create table of patients with conditions- phenotype"
   ]
  },
  {
   "cell_type": "code",
   "execution_count": null,
   "id": "8691af14",
   "metadata": {},
   "outputs": [],
   "source": [
    "res_tables_path = f'{folder_res_results_single_input}/phenotype_distribution_patients'\n",
    "sens_tables_path = f'{folder_sens_results_single_input}/phenotype_distribution_patients'"
   ]
  },
  {
   "cell_type": "code",
   "execution_count": null,
   "id": "8259b991",
   "metadata": {},
   "outputs": [],
   "source": [
    "patients_phenot_table = create_combined_table_patients(res_tables_path, sens_tables_path, folder_result)\n",
    "\n",
    "# patients_phenot_table = create_table_patients_phenotypes(folder_result, dir_res_data, dir_sens_data)"
   ]
  },
  {
   "cell_type": "markdown",
   "id": "8320efc8",
   "metadata": {},
   "source": [
    "Step 10: Create heatmap figure "
   ]
  },
  {
   "cell_type": "code",
   "execution_count": null,
   "id": "a5ebad17",
   "metadata": {},
   "outputs": [],
   "source": [
    "# patient_resistant_mean = pd.read_csv(f'{folder_res_results_single_input}/patients_resistant_df_mean_{drug_interest}.csv')\n",
    "# patient_sensitive_mean = pd.read_csv(f'{folder_sens_results_single_input}/patients_sensitive_df_mean_{drug_interest}.csv')\n",
    "# vizualise_table_phenotype_condition(folder_result, patient_resistant_mean, patient_sensitive_mean)"
   ]
  },
  {
   "cell_type": "markdown",
   "id": "e93b4134",
   "metadata": {},
   "source": [
    "Step 11: Identify genes differently expressed in the patients with high "
   ]
  },
  {
   "cell_type": "code",
   "execution_count": null,
   "id": "f31de187",
   "metadata": {},
   "outputs": [],
   "source": [
    "# identify the condition (input) and phenotype for which we observe a significant increase in resistant patients\n",
    "\n",
    "greater_sign_results = pd.read_csv(f'{folder_result}/sensitive_resistant_results/p_values_df_mannwhitneyu_greater_sign_Refametinib.csv')\n",
    "conditions_phenotypes_df = greater_sign_results[['Condition', 'Phenotype']]\n",
    "conditions_phenotypes_df"
   ]
  },
  {
   "cell_type": "code",
   "execution_count": null,
   "id": "dedeb35c",
   "metadata": {},
   "outputs": [],
   "source": [
    "patients_phenot_table = pd.read_csv(f'{folder_result}/sensitive_resistant_results/patients_phenot_table.csv')"
   ]
  },
  {
   "cell_type": "code",
   "execution_count": null,
   "id": "a417f999",
   "metadata": {},
   "outputs": [],
   "source": [
    "# identify the patients id that show this condition-phenotype pair \n",
    "\n",
    "# save every gene enrichment dataframe in a dictionary of index condtion_phenotype\n",
    "indexes_list = []\n",
    "for condition, phenotype in conditions_phenotypes_df.values:\n",
    "    indexes_list.append(f'{condition}_{phenotype}')\n",
    "results_genes_enrich = {key: None for key in indexes_list}\n",
    "\n",
    "for condition, phenotype in conditions_phenotypes_df.values:\n",
    "    genes_stats_results, resistant_group_ids, sensitive_group_ids = compute_genes_mean_signature(rna_seq_data_filtered, \n",
    "    folder_result, phenotype, condition, patients_phenot_table, top_resistant_ids, top_sensitive_ids)\n",
    "    if isinstance(genes_stats_results, pd.DataFrame):\n",
    "        results_genes_enrich[f'{condition}_{phenotype}'] = genes_stats_results\n",
    "        "
   ]
  },
  {
   "cell_type": "markdown",
   "id": "478874e0",
   "metadata": {},
   "source": [
    "Step 11: check there is not correlation between phenotype distribution and cancer type \n"
   ]
  },
  {
   "cell_type": "markdown",
   "id": "b4bf8482",
   "metadata": {},
   "source": [
    "Gene enrichment for EGF Proliferation (as required 19 patients in each group and statistically relevant with Mannwhiteney test)"
   ]
  },
  {
   "cell_type": "code",
   "execution_count": null,
   "id": "aab3847f",
   "metadata": {},
   "outputs": [],
   "source": [
    "results_egf_prolif = results_genes_enrich['EGF_Proliferation']\n",
    "results_egf_prolif['diff_means'] = results_egf_prolif['Group Resistant Mean'] - results_egf_prolif['Group Sensitive Mean'] \n",
    "results_egf_prolif.sort_values(by = 'P-value', ascending=True).head()\n",
    "\n",
    "results_egf_prolif.sort_values(by = 'diff_means', ascending=False)\n",
    "results_egf_prolif.to_csv(\"results/Refametinib_PAN_CANCER_intervention/sensitive_resistant_results/genes_enrichment_egf_prolif.csv\", index=True)\n"
   ]
  },
  {
   "cell_type": "markdown",
   "id": "7427a44d",
   "metadata": {},
   "source": [
    "Results:\n",
    "- FOXA1: TF, key roles in hormone receptor signaling and modulates tumor growth and metastatic potential\n",
    "- FGFR3: receptor tyrosine kinase for FGF ligands, promoting cell prolif (frequently overexpressed in cancers)\n",
    "- FRS2: overexpressed in several cancers, enhancing proliferative/ migratory responses\n",
    "- BCL2, BIRC5: anti-apoptotic protein -> promotes cell survival by inhibiting programmed cell death pathways; for overepxressed in cancer to evade apoptois.\n",
    "- EZH2: silencing TSG via H3K27 trimethylation, overexpression linked to aggressive, proliferative cancers"
   ]
  },
  {
   "cell_type": "code",
   "execution_count": null,
   "id": "1ea494fd",
   "metadata": {},
   "outputs": [],
   "source": [
    "len(resistant_group_ids)\n",
    "len(sensitive_group_ids)"
   ]
  },
  {
   "cell_type": "markdown",
   "id": "26218d8e",
   "metadata": {},
   "source": [
    "Identify if this FOXA1 overexpression is not related to tissue "
   ]
  },
  {
   "cell_type": "code",
   "execution_count": null,
   "id": "639c6f09",
   "metadata": {},
   "outputs": [],
   "source": [
    "resistant_group_ids_models = annotations_models[annotations_models['model_id'].isin(resistant_group_ids)].copy()\n",
    "sensitive_group_ids_models = annotations_models[annotations_models['model_id'].isin(sensitive_group_ids)].copy()"
   ]
  },
  {
   "cell_type": "code",
   "execution_count": null,
   "id": "a879ea29",
   "metadata": {},
   "outputs": [],
   "source": [
    "resistant_counts = resistant_group_ids_models['tissue'].value_counts()\n",
    "total_counts = annotations_models['tissue'].value_counts()\n",
    "fraction_resistant = resistant_counts / total_counts\n",
    "print(fraction_resistant[fraction_resistant.notna()])\n",
    "\n",
    "\n",
    "sensitive_counts = sensitive_group_ids_models['tissue'].value_counts()\n",
    "total_counts_sens = annotations_models['tissue'].value_counts()\n",
    "fraction_sensitive = sensitive_counts / total_counts_sens\n",
    "print(fraction_sensitive[fraction_sensitive.notna()])\n"
   ]
  },
  {
   "cell_type": "markdown",
   "id": "48ba1363",
   "metadata": {},
   "source": [
    "Result: As the ratio do not vary that much, the results observed do not seem to be tissue-dependent"
   ]
  },
  {
   "cell_type": "code",
   "execution_count": null,
   "id": "ac73ca2e",
   "metadata": {},
   "outputs": [],
   "source": [
    "resistant_counts = resistant_group_ids_models['gender'].value_counts()\n",
    "total_counts = annotations_models['gender'].value_counts()\n",
    "fraction_resistant = resistant_counts / total_counts\n",
    "print(fraction_resistant[fraction_resistant.notna()])\n",
    "\n",
    "\n",
    "sensitive_counts = sensitive_group_ids_models['gender'].value_counts()\n",
    "total_counts_sens = annotations_models['gender'].value_counts()\n",
    "fraction_sensitive = sensitive_counts / total_counts_sens\n",
    "print(fraction_sensitive[fraction_sensitive.notna()])"
   ]
  },
  {
   "cell_type": "markdown",
   "id": "31e31e07",
   "metadata": {},
   "source": [
    "Result: As the ratio do not vary that much, the results observed do not seem to be gender-dependent"
   ]
  },
  {
   "cell_type": "code",
   "execution_count": null,
   "id": "b2280cbb",
   "metadata": {},
   "outputs": [],
   "source": [
    "# power calculation for FOXA1\n",
    "\n",
    "foxa1_data_res = list(rna_seq_data_filtered[\n",
    "    (rna_seq_data_filtered['model_id'].isin(resistant_group_ids)) &\n",
    "    (rna_seq_data_filtered['gene_symbol'] == 'FOXA1')\n",
    "]['rsem_tpm'])\n",
    "\n",
    "\n",
    "foxa1_data_sens = list(rna_seq_data_filtered[\n",
    "    (rna_seq_data_filtered['model_id'].isin(sensitive_group_ids)) &\n",
    "    (rna_seq_data_filtered['gene_symbol'] == 'FOXA1')\n",
    "]['rsem_tpm'])\n",
    "\n",
    "\n",
    "res_patients_mean = np.mean(foxa1_data_res)\n",
    "sens_patients_mean = np.mean(foxa1_data_sens)\n",
    "\n",
    "\n",
    "res_patients_std = np.std(foxa1_data_res)\n",
    "sens_patients_std = np.std(foxa1_data_sens)\n",
    "\n",
    "n_res_group = len(resistant_group_ids)\n",
    "n_sens_group = len(sensitive_group_ids)\n",
    "\n",
    "sd_pooled = np.sqrt(\n",
    "    ((n_res_group - 1) * res_patients_std**2 + (n_sens_group - 1) * sens_patients_std**2)\n",
    "    / (n_res_group + n_sens_group - 2)\n",
    ")\n",
    "\n",
    "d = res_patients_mean -sens_patients_mean/sd_pooled\n",
    "\n",
    "\n",
    "# Set parameters\n",
    "effect_size = d              # Cohen's d\n",
    "alpha = 0.05                 # Significance level\n",
    "power = 0.80                 # Desired power\n",
    "alternative = 'two-sided'    # Equivalent to \"two.sample\" in R\n",
    "\n",
    "# Initialize power analysis object\n",
    "analysis = TTestIndPower()\n",
    "\n",
    "# Compute required sample size per group\n",
    "sample_size = analysis.solve_power(effect_size=effect_size, power=power, alpha=alpha, alternative=alternative)\n",
    "\n",
    "print(f\"Required sample size per group: {float(sample_size):.2f}\")\n",
    "\n"
   ]
  }
 ],
 "metadata": {
  "kernelspec": {
   "display_name": ".env",
   "language": "python",
   "name": "python3"
  },
  "language_info": {
   "codemirror_mode": {
    "name": "ipython",
    "version": 3
   },
   "file_extension": ".py",
   "mimetype": "text/x-python",
   "name": "python",
   "nbconvert_exporter": "python",
   "pygments_lexer": "ipython3",
   "version": "3.13.3"
  }
 },
 "nbformat": 4,
 "nbformat_minor": 5
}
